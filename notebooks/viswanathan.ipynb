{
 "cells": [
  {
   "cell_type": "code",
   "execution_count": 15,
   "id": "d2e31fa7",
   "metadata": {},
   "outputs": [],
   "source": [
    "import pandas as pd\n",
    "import numpy as np\n",
    "import h5py\n",
    "from astropy.io import fits\n",
    "from astropy.table import Table\n",
    "from astropy.coordinates import SkyCoord\n",
    "import astropy.units as u\n",
    "from tqdm import tqdm\n",
    "pd.set_option('display.max_columns', None)"
   ]
  },
  {
   "cell_type": "code",
   "execution_count": 2,
   "id": "ae2cf0cb",
   "metadata": {},
   "outputs": [
    {
     "name": "stderr",
     "output_type": "stream",
     "text": [
      "Reading HDF5 columns: 100%|██████████| 30/30 [00:00<00:00, 57.80it/s]\n"
     ]
    },
    {
     "name": "stdout",
     "output_type": "stream",
     "text": [
      "Loaded df_vis with shape (14485519, 30)\n"
     ]
    }
   ],
   "source": [
    "with h5py.File('../data/JDrgb_14m_hasrv.hdf5', 'r') as f:\n",
    "    columns_group = f['table/columns']\n",
    "    col_names = list(columns_group.keys())\n",
    "    data_dict = {}\n",
    "\n",
    "    for col in tqdm(col_names, desc=\"Reading HDF5 columns\"):\n",
    "        dataset = columns_group[col]\n",
    "        subkey = list(dataset.keys())[0]\n",
    "        data = dataset[subkey][:]\n",
    "        if data.dtype.kind == 'S':\n",
    "            data = data.astype(str)\n",
    "        data_dict[col] = data\n",
    "\n",
    "df_vis = pd.DataFrame(data_dict)\n",
    "print(f\"Loaded df_vis with shape {df_vis.shape}\")"
   ]
  },
  {
   "cell_type": "code",
   "execution_count": 3,
   "id": "5290d33e",
   "metadata": {},
   "outputs": [
    {
     "name": "stdout",
     "output_type": "stream",
     "text": [
      "Loading FITS...\n"
     ]
    }
   ],
   "source": [
    "print(\"Loading FITS...\")\n",
    "with fits.open('../data/table_2_catwise.fits.gz', memmap=True) as hdul:\n",
    "    data = hdul[1].data\n",
    "    df_RGB = pd.DataFrame({\n",
    "        col.name: data[col.name].byteswap().newbyteorder() if data[col.name].dtype.byteorder == '>' else data[col.name]\n",
    "        for col in hdul[1].columns\n",
    "    })\n",
    "\n",
    "df_rgb_subset = df_RGB[['source_id', 'catwise_w1', 'catwise_w2', 'mh_xgboost', 'teff_xgboost', 'logg_xgboost']]\n"
   ]
  },
  {
   "cell_type": "code",
   "execution_count": 5,
   "id": "1a00434c",
   "metadata": {},
   "outputs": [
    {
     "name": "stdout",
     "output_type": "stream",
     "text": [
      "Merging dataframes...\n",
      "Merged shape: (14485519, 35)\n"
     ]
    }
   ],
   "source": [
    "print(\"Merging dataframes...\")\n",
    "df_vis['source_id'] = df_vis['source_id'].astype(str)\n",
    "df_rgb_subset = df_RGB[['source_id', 'catwise_w1', 'catwise_w2', 'mh_xgboost', 'teff_xgboost', 'logg_xgboost']].copy()\n",
    "df_rgb_subset['source_id'] = df_rgb_subset['source_id'].astype(str)\n",
    "df_merged = pd.merge(df_vis, df_rgb_subset, on='source_id', how='left')\n",
    "print(f\"Merged shape: {df_merged.shape}\")\n"
   ]
  },
  {
   "cell_type": "code",
   "execution_count": 6,
   "id": "6692a5a7",
   "metadata": {},
   "outputs": [
    {
     "name": "stdout",
     "output_type": "stream",
     "text": [
      "[✓] Number of rows in df_vis without a match from df_rgb_subset: 2507010\n"
     ]
    }
   ],
   "source": [
    "# Count how many rows have any missing values in the columns added from df_rgb_subset\n",
    "num_missing = df_merged[['catwise_w1', 'catwise_w2', 'mh_xgboost', 'teff_xgboost', 'logg_xgboost']].isna().any(axis=1).sum()\n",
    "\n",
    "print(f\"[✓] Number of rows in df_vis without a match from df_rgb_subset: {num_missing}\")\n"
   ]
  },
  {
   "cell_type": "code",
   "execution_count": 7,
   "id": "6ab35306",
   "metadata": {},
   "outputs": [
    {
     "name": "stdout",
     "output_type": "stream",
     "text": [
      "[✓] Shape after dropping unmatched rows: (11978509, 35)\n"
     ]
    }
   ],
   "source": [
    "# Drop rows with missing values in any of the merged columns\n",
    "df_merged = df_merged.dropna(subset=['catwise_w1', 'catwise_w2', 'mh_xgboost', 'teff_xgboost', 'logg_xgboost'])\n",
    "\n",
    "print(f\"[✓] Shape after dropping unmatched rows: {df_merged.shape}\")\n"
   ]
  },
  {
   "cell_type": "code",
   "execution_count": 8,
   "id": "128fc90a",
   "metadata": {},
   "outputs": [
    {
     "name": "stdout",
     "output_type": "stream",
     "text": [
      "Applying quality cuts...\n",
      "After cuts: (10456910, 41)\n"
     ]
    }
   ],
   "source": [
    "print(\"Applying quality cuts...\")\n",
    "\n",
    "df_merged['parallax_over_error'] = df_merged['parallax'] / df_merged['parallax_error']\n",
    "\n",
    "df_merged['MW1'] = df_merged['catwise_w1'] + 5 * np.log10(df_merged['parallax'] / 100)\n",
    "\n",
    "df_merged['G'] = df_merged['phot_g_mean_mag']\n",
    "\n",
    "df_merged['GBP'] = df_merged['phot_bp_mean_mag']\n",
    "\n",
    "df_merged['W1'] = df_merged['catwise_w1']\n",
    "df_merged['W2'] = df_merged['catwise_w2']\n",
    "\n",
    "cut = (\n",
    "    (df_merged['phot_g_mean_mag'] < 16) &\n",
    "    (df_merged['parallax_over_error'] > 5) &\n",
    "    (df_merged['teff_xgboost'] <= 5200) &\n",
    "    (df_merged['logg_xgboost'] < 3.5) &\n",
    "    (df_merged['MW1'] > (-0.3 - 0.006 * (5500 - df_merged['teff_xgboost']))) &\n",
    "    (df_merged['MW1'] > (-0.01 * (5300 - df_merged['teff_xgboost']))) &\n",
    "    ((df_merged['G'] - df_merged['W2']) < (0.2 + 0.77 * (df_merged['GBP'] - df_merged['W1'])))\n",
    ")\n",
    "\n",
    "df_cleaned = df_merged[cut].copy()\n",
    "print(f\"After cuts: {df_cleaned.shape}\")"
   ]
  },
  {
   "cell_type": "code",
   "execution_count": 9,
   "id": "da60d66d",
   "metadata": {},
   "outputs": [
    {
     "name": "stdout",
     "output_type": "stream",
     "text": [
      "Computing nearest matches...\n",
      "After sky filtering: (10060704, 41)\n"
     ]
    }
   ],
   "source": [
    "dwarf_galaxies = Table.read(\"../local_volume_database/data/dwarf_mw.csv\")\n",
    "globular_clusters = Table.read(\"../local_volume_database/data/gc_harris.csv\")\n",
    "\n",
    "dwarf_coords = SkyCoord(ra=dwarf_galaxies['ra'] * u.deg, dec=dwarf_galaxies['dec'] * u.deg)\n",
    "gc_coords = SkyCoord(ra=globular_clusters['ra'] * u.deg, dec=globular_clusters['dec'] * u.deg)\n",
    "known_coords = SkyCoord(\n",
    "    ra=np.concatenate([dwarf_coords.ra.deg, gc_coords.ra.deg]) * u.deg,\n",
    "    dec=np.concatenate([dwarf_coords.dec.deg, gc_coords.dec.deg]) * u.deg\n",
    ")\n",
    "\n",
    "print(\"Computing nearest matches...\")\n",
    "df_cleaned['ra'] = pd.to_numeric(df_cleaned['ra'], errors='coerce')\n",
    "df_cleaned['dec'] = pd.to_numeric(df_cleaned['dec'], errors='coerce')\n",
    "df_cleaned = df_cleaned.dropna(subset=['ra', 'dec'])\n",
    "\n",
    "sample_coords = SkyCoord(ra=df_cleaned['ra'].values * u.deg, dec=df_cleaned['dec'].values * u.deg)\n",
    "\n",
    "# Use efficient nearest neighbor match instead of all-pair separation\n",
    "idx, sep2d, _ = sample_coords.match_to_catalog_sky(known_coords)\n",
    "\n",
    "# Filter stars >1 degree away\n",
    "df_final = df_cleaned[sep2d.deg > 1].copy()\n",
    "print(f\"After sky filtering: {df_final.shape}\")"
   ]
  },
  {
   "cell_type": "code",
   "execution_count": 10,
   "id": "295ebc57",
   "metadata": {},
   "outputs": [
    {
     "name": "stdout",
     "output_type": "stream",
     "text": [
      "[✓] FITS file saved as '../data/vis_cleaned.fits'\n"
     ]
    }
   ],
   "source": [
    "# saving the final DataFrame to a FITS file\n",
    "\n",
    "from astropy.table import Table\n",
    "\n",
    "# Convert source_id to string to prevent issues when saving to FITS\n",
    "df_final['source_id'] = df_final['source_id'].astype(str)\n",
    "\n",
    "# Convert to Astropy Table\n",
    "table = Table.from_pandas(df_final)\n",
    "\n",
    "# Save to FITS\n",
    "output_fits_filename = '../data/vis_cleaned.fits'\n",
    "table.write(output_fits_filename, format='fits', overwrite=True)\n",
    "\n",
    "print(f\"[✓] FITS file saved as '{output_fits_filename}'\")\n"
   ]
  },
  {
   "cell_type": "code",
   "execution_count": 13,
   "id": "b0975de4",
   "metadata": {},
   "outputs": [
    {
     "data": {
      "text/plain": [
       "(10060704, 41)"
      ]
     },
     "execution_count": 13,
     "metadata": {},
     "output_type": "execute_result"
    }
   ],
   "source": [
    "pd.set_option('display.max_columns', None)\n",
    "df_final.shape"
   ]
  },
  {
   "cell_type": "code",
   "execution_count": 3,
   "id": "1a58a75f",
   "metadata": {},
   "outputs": [],
   "source": [
    "#loading\n",
    "\n",
    "from astropy.table import Table\n",
    "\n",
    "# Load the FITS file as an Astropy Table\n",
    "table = Table.read(\"../data/vis_cleaned.fits\", format='fits')\n",
    "\n",
    "# Convert to a pandas DataFrame\n",
    "df_vis = table.to_pandas()\n",
    "df_vis['source_id'] = df_vis['source_id'].str.decode('utf-8').astype(np.int64)\n"
   ]
  },
  {
   "cell_type": "code",
   "execution_count": 4,
   "id": "ea26f179",
   "metadata": {},
   "outputs": [
    {
     "data": {
      "text/html": [
       "<div>\n",
       "<style scoped>\n",
       "    .dataframe tbody tr th:only-of-type {\n",
       "        vertical-align: middle;\n",
       "    }\n",
       "\n",
       "    .dataframe tbody tr th {\n",
       "        vertical-align: top;\n",
       "    }\n",
       "\n",
       "    .dataframe thead th {\n",
       "        text-align: right;\n",
       "    }\n",
       "</style>\n",
       "<table border=\"1\" class=\"dataframe\">\n",
       "  <thead>\n",
       "    <tr style=\"text-align: right;\">\n",
       "      <th></th>\n",
       "      <th>aom_xp</th>\n",
       "      <th>b</th>\n",
       "      <th>bp_rp</th>\n",
       "      <th>dec</th>\n",
       "      <th>e_aom_xp</th>\n",
       "      <th>e_logg_xp</th>\n",
       "      <th>e_moh_xp</th>\n",
       "      <th>e_teff_xp</th>\n",
       "      <th>fake_MG</th>\n",
       "      <th>l</th>\n",
       "      <th>logg_xp</th>\n",
       "      <th>moh_xp</th>\n",
       "      <th>parallax</th>\n",
       "      <th>parallax_error</th>\n",
       "      <th>phot_bp_mean_mag</th>\n",
       "      <th>phot_bp_rp_excess_factor</th>\n",
       "      <th>phot_g_mean_mag</th>\n",
       "      <th>phot_rp_mean_mag</th>\n",
       "      <th>pmdec</th>\n",
       "      <th>pmdec_error</th>\n",
       "      <th>pmra</th>\n",
       "      <th>pmra_error</th>\n",
       "      <th>ra</th>\n",
       "      <th>radial_velocity</th>\n",
       "      <th>radial_velocity_error</th>\n",
       "      <th>ruwe</th>\n",
       "      <th>snr_bp</th>\n",
       "      <th>snr_rp</th>\n",
       "      <th>source_id</th>\n",
       "      <th>teff_xp</th>\n",
       "      <th>catwise_w1</th>\n",
       "      <th>catwise_w2</th>\n",
       "      <th>mh_xgboost</th>\n",
       "      <th>teff_xgboost</th>\n",
       "      <th>logg_xgboost</th>\n",
       "      <th>parallax_over_error</th>\n",
       "      <th>MW1</th>\n",
       "      <th>G</th>\n",
       "      <th>GBP</th>\n",
       "      <th>W1</th>\n",
       "      <th>W2</th>\n",
       "    </tr>\n",
       "  </thead>\n",
       "  <tbody>\n",
       "    <tr>\n",
       "      <th>0</th>\n",
       "      <td>0.0189</td>\n",
       "      <td>-48.572035</td>\n",
       "      <td>1.154534</td>\n",
       "      <td>0.335043</td>\n",
       "      <td>0.0222</td>\n",
       "      <td>0.1309</td>\n",
       "      <td>0.0717</td>\n",
       "      <td>53.5303</td>\n",
       "      <td>158.232347</td>\n",
       "      <td>176.739184</td>\n",
       "      <td>2.8993</td>\n",
       "      <td>-0.1789</td>\n",
       "      <td>1.407660</td>\n",
       "      <td>0.018947</td>\n",
       "      <td>10.750277</td>\n",
       "      <td>1.230957</td>\n",
       "      <td>10.253987</td>\n",
       "      <td>9.595743</td>\n",
       "      <td>-1.412098</td>\n",
       "      <td>0.016528</td>\n",
       "      <td>-0.711280</td>\n",
       "      <td>0.017718</td>\n",
       "      <td>45.136038</td>\n",
       "      <td>-0.738894</td>\n",
       "      <td>0.316921</td>\n",
       "      <td>1.036041</td>\n",
       "      <td>339.585517</td>\n",
       "      <td>704.910156</td>\n",
       "      <td>15741055975040</td>\n",
       "      <td>5096.609863</td>\n",
       "      <td>8.152</td>\n",
       "      <td>8.198</td>\n",
       "      <td>-0.144</td>\n",
       "      <td>5065.8</td>\n",
       "      <td>2.993</td>\n",
       "      <td>74.293738</td>\n",
       "      <td>-1.105511</td>\n",
       "      <td>10.253987</td>\n",
       "      <td>10.750277</td>\n",
       "      <td>8.152</td>\n",
       "      <td>8.198</td>\n",
       "    </tr>\n",
       "    <tr>\n",
       "      <th>1</th>\n",
       "      <td>0.1512</td>\n",
       "      <td>-48.171322</td>\n",
       "      <td>1.409290</td>\n",
       "      <td>0.736093</td>\n",
       "      <td>0.0502</td>\n",
       "      <td>0.1197</td>\n",
       "      <td>0.0759</td>\n",
       "      <td>44.4781</td>\n",
       "      <td>63.236201</td>\n",
       "      <td>176.483565</td>\n",
       "      <td>1.7891</td>\n",
       "      <td>-0.4944</td>\n",
       "      <td>0.500272</td>\n",
       "      <td>0.020692</td>\n",
       "      <td>11.150994</td>\n",
       "      <td>1.254608</td>\n",
       "      <td>10.508797</td>\n",
       "      <td>9.741704</td>\n",
       "      <td>1.594356</td>\n",
       "      <td>0.022822</td>\n",
       "      <td>3.309832</td>\n",
       "      <td>0.022959</td>\n",
       "      <td>45.305053</td>\n",
       "      <td>41.607450</td>\n",
       "      <td>1.323430</td>\n",
       "      <td>1.349013</td>\n",
       "      <td>254.753264</td>\n",
       "      <td>849.925883</td>\n",
       "      <td>66627828480768</td>\n",
       "      <td>4480.451172</td>\n",
       "      <td>7.891</td>\n",
       "      <td>7.964</td>\n",
       "      <td>-0.401</td>\n",
       "      <td>4499.0</td>\n",
       "      <td>1.916</td>\n",
       "      <td>24.176686</td>\n",
       "      <td>-3.612968</td>\n",
       "      <td>10.508797</td>\n",
       "      <td>11.150994</td>\n",
       "      <td>7.891</td>\n",
       "      <td>7.964</td>\n",
       "    </tr>\n",
       "    <tr>\n",
       "      <th>2</th>\n",
       "      <td>0.0036</td>\n",
       "      <td>-48.607026</td>\n",
       "      <td>1.189063</td>\n",
       "      <td>0.561503</td>\n",
       "      <td>0.0080</td>\n",
       "      <td>0.0742</td>\n",
       "      <td>0.0333</td>\n",
       "      <td>30.6331</td>\n",
       "      <td>293.932164</td>\n",
       "      <td>176.209301</td>\n",
       "      <td>3.0343</td>\n",
       "      <td>0.0696</td>\n",
       "      <td>2.177522</td>\n",
       "      <td>0.016049</td>\n",
       "      <td>11.169669</td>\n",
       "      <td>1.230755</td>\n",
       "      <td>10.651423</td>\n",
       "      <td>9.980606</td>\n",
       "      <td>-12.678339</td>\n",
       "      <td>0.013950</td>\n",
       "      <td>-4.869755</td>\n",
       "      <td>0.015797</td>\n",
       "      <td>44.866246</td>\n",
       "      <td>-32.461674</td>\n",
       "      <td>0.205614</td>\n",
       "      <td>1.018742</td>\n",
       "      <td>330.678438</td>\n",
       "      <td>796.410471</td>\n",
       "      <td>82467667849472</td>\n",
       "      <td>4890.509277</td>\n",
       "      <td>8.496</td>\n",
       "      <td>8.558</td>\n",
       "      <td>0.114</td>\n",
       "      <td>4938.3</td>\n",
       "      <td>3.203</td>\n",
       "      <td>135.681722</td>\n",
       "      <td>0.185813</td>\n",
       "      <td>10.651423</td>\n",
       "      <td>11.169669</td>\n",
       "      <td>8.496</td>\n",
       "      <td>8.558</td>\n",
       "    </tr>\n",
       "    <tr>\n",
       "      <th>3</th>\n",
       "      <td>0.2962</td>\n",
       "      <td>-48.727781</td>\n",
       "      <td>1.131072</td>\n",
       "      <td>0.689953</td>\n",
       "      <td>0.0328</td>\n",
       "      <td>0.1724</td>\n",
       "      <td>0.0808</td>\n",
       "      <td>59.5872</td>\n",
       "      <td>356.979240</td>\n",
       "      <td>175.755174</td>\n",
       "      <td>2.9970</td>\n",
       "      <td>-0.5701</td>\n",
       "      <td>0.485402</td>\n",
       "      <td>0.024241</td>\n",
       "      <td>14.816144</td>\n",
       "      <td>1.228919</td>\n",
       "      <td>14.332705</td>\n",
       "      <td>13.685072</td>\n",
       "      <td>-1.599436</td>\n",
       "      <td>0.021891</td>\n",
       "      <td>3.539184</td>\n",
       "      <td>0.027864</td>\n",
       "      <td>44.569524</td>\n",
       "      <td>91.295900</td>\n",
       "      <td>4.830661</td>\n",
       "      <td>1.176748</td>\n",
       "      <td>197.334453</td>\n",
       "      <td>241.162594</td>\n",
       "      <td>101193725229056</td>\n",
       "      <td>4889.291016</td>\n",
       "      <td>12.220</td>\n",
       "      <td>12.275</td>\n",
       "      <td>-0.478</td>\n",
       "      <td>4980.2</td>\n",
       "      <td>3.319</td>\n",
       "      <td>20.024124</td>\n",
       "      <td>0.650509</td>\n",
       "      <td>14.332705</td>\n",
       "      <td>14.816144</td>\n",
       "      <td>12.220</td>\n",
       "      <td>12.275</td>\n",
       "    </tr>\n",
       "    <tr>\n",
       "      <th>4</th>\n",
       "      <td>0.0726</td>\n",
       "      <td>-48.328584</td>\n",
       "      <td>1.328486</td>\n",
       "      <td>0.955080</td>\n",
       "      <td>0.0245</td>\n",
       "      <td>0.0762</td>\n",
       "      <td>0.0429</td>\n",
       "      <td>27.8866</td>\n",
       "      <td>143.555092</td>\n",
       "      <td>175.789759</td>\n",
       "      <td>2.5074</td>\n",
       "      <td>-0.1392</td>\n",
       "      <td>0.820288</td>\n",
       "      <td>0.017479</td>\n",
       "      <td>11.810220</td>\n",
       "      <td>1.246487</td>\n",
       "      <td>11.215262</td>\n",
       "      <td>10.481733</td>\n",
       "      <td>-0.291235</td>\n",
       "      <td>0.015982</td>\n",
       "      <td>3.382907</td>\n",
       "      <td>0.017619</td>\n",
       "      <td>44.868872</td>\n",
       "      <td>1.959265</td>\n",
       "      <td>0.328298</td>\n",
       "      <td>1.087555</td>\n",
       "      <td>312.296155</td>\n",
       "      <td>668.643675</td>\n",
       "      <td>130399502833792</td>\n",
       "      <td>4682.432129</td>\n",
       "      <td>8.728</td>\n",
       "      <td>8.815</td>\n",
       "      <td>-0.159</td>\n",
       "      <td>4643.6</td>\n",
       "      <td>2.398</td>\n",
       "      <td>46.929778</td>\n",
       "      <td>-1.702169</td>\n",
       "      <td>11.215262</td>\n",
       "      <td>11.810220</td>\n",
       "      <td>8.728</td>\n",
       "      <td>8.815</td>\n",
       "    </tr>\n",
       "  </tbody>\n",
       "</table>\n",
       "</div>"
      ],
      "text/plain": [
       "   aom_xp          b     bp_rp       dec  e_aom_xp  e_logg_xp  e_moh_xp  \\\n",
       "0  0.0189 -48.572035  1.154534  0.335043    0.0222     0.1309    0.0717   \n",
       "1  0.1512 -48.171322  1.409290  0.736093    0.0502     0.1197    0.0759   \n",
       "2  0.0036 -48.607026  1.189063  0.561503    0.0080     0.0742    0.0333   \n",
       "3  0.2962 -48.727781  1.131072  0.689953    0.0328     0.1724    0.0808   \n",
       "4  0.0726 -48.328584  1.328486  0.955080    0.0245     0.0762    0.0429   \n",
       "\n",
       "   e_teff_xp     fake_MG           l  logg_xp  moh_xp  parallax  \\\n",
       "0    53.5303  158.232347  176.739184   2.8993 -0.1789  1.407660   \n",
       "1    44.4781   63.236201  176.483565   1.7891 -0.4944  0.500272   \n",
       "2    30.6331  293.932164  176.209301   3.0343  0.0696  2.177522   \n",
       "3    59.5872  356.979240  175.755174   2.9970 -0.5701  0.485402   \n",
       "4    27.8866  143.555092  175.789759   2.5074 -0.1392  0.820288   \n",
       "\n",
       "   parallax_error  phot_bp_mean_mag  phot_bp_rp_excess_factor  \\\n",
       "0        0.018947         10.750277                  1.230957   \n",
       "1        0.020692         11.150994                  1.254608   \n",
       "2        0.016049         11.169669                  1.230755   \n",
       "3        0.024241         14.816144                  1.228919   \n",
       "4        0.017479         11.810220                  1.246487   \n",
       "\n",
       "   phot_g_mean_mag  phot_rp_mean_mag      pmdec  pmdec_error      pmra  \\\n",
       "0        10.253987          9.595743  -1.412098     0.016528 -0.711280   \n",
       "1        10.508797          9.741704   1.594356     0.022822  3.309832   \n",
       "2        10.651423          9.980606 -12.678339     0.013950 -4.869755   \n",
       "3        14.332705         13.685072  -1.599436     0.021891  3.539184   \n",
       "4        11.215262         10.481733  -0.291235     0.015982  3.382907   \n",
       "\n",
       "   pmra_error         ra  radial_velocity  radial_velocity_error      ruwe  \\\n",
       "0    0.017718  45.136038        -0.738894               0.316921  1.036041   \n",
       "1    0.022959  45.305053        41.607450               1.323430  1.349013   \n",
       "2    0.015797  44.866246       -32.461674               0.205614  1.018742   \n",
       "3    0.027864  44.569524        91.295900               4.830661  1.176748   \n",
       "4    0.017619  44.868872         1.959265               0.328298  1.087555   \n",
       "\n",
       "       snr_bp      snr_rp        source_id      teff_xp  catwise_w1  \\\n",
       "0  339.585517  704.910156   15741055975040  5096.609863       8.152   \n",
       "1  254.753264  849.925883   66627828480768  4480.451172       7.891   \n",
       "2  330.678438  796.410471   82467667849472  4890.509277       8.496   \n",
       "3  197.334453  241.162594  101193725229056  4889.291016      12.220   \n",
       "4  312.296155  668.643675  130399502833792  4682.432129       8.728   \n",
       "\n",
       "   catwise_w2  mh_xgboost  teff_xgboost  logg_xgboost  parallax_over_error  \\\n",
       "0       8.198      -0.144        5065.8         2.993            74.293738   \n",
       "1       7.964      -0.401        4499.0         1.916            24.176686   \n",
       "2       8.558       0.114        4938.3         3.203           135.681722   \n",
       "3      12.275      -0.478        4980.2         3.319            20.024124   \n",
       "4       8.815      -0.159        4643.6         2.398            46.929778   \n",
       "\n",
       "        MW1          G        GBP      W1      W2  \n",
       "0 -1.105511  10.253987  10.750277   8.152   8.198  \n",
       "1 -3.612968  10.508797  11.150994   7.891   7.964  \n",
       "2  0.185813  10.651423  11.169669   8.496   8.558  \n",
       "3  0.650509  14.332705  14.816144  12.220  12.275  \n",
       "4 -1.702169  11.215262  11.810220   8.728   8.815  "
      ]
     },
     "execution_count": 4,
     "metadata": {},
     "output_type": "execute_result"
    }
   ],
   "source": [
    "df_vis.head()"
   ]
  },
  {
   "cell_type": "code",
   "execution_count": null,
   "id": "2d3c613d",
   "metadata": {},
   "outputs": [
    {
     "name": "stdout",
     "output_type": "stream",
     "text": [
      "target_vis.txt file created successfully!\n"
     ]
    }
   ],
   "source": [
    "# Select only RA and Dec columns\n",
    "target_df = df_vis[['ra', 'dec']]\n",
    "\n",
    "# Save to text file with no header, space-separated\n",
    "target_df.to_csv('../data/target_vis.txt', sep=' ', index=False, header=False)\n",
    "\n",
    "print(\"target_vis.txt file created successfully!\")\n"
   ]
  },
  {
   "cell_type": "markdown",
   "id": "35e1e284",
   "metadata": {},
   "source": [
    "## correct up to this point\n",
    "\n",
    "- something is wrong with the way i am queruing - consider a smaller arcminute - go to arcseconds perhaps"
   ]
  },
  {
   "cell_type": "code",
   "execution_count": null,
   "id": "74c91ef1",
   "metadata": {},
   "outputs": [],
   "source": [
    "from astropy.io import fits\n",
    "\n",
    "fits_file = '../data/vis_dis.fit'\n",
    "\n",
    "with fits.open(fits_file) as hdul:\n",
    "    # Print summary of all HDUs\n",
    "    hdul.info()\n",
    "\n",
    "    # Example: inspect the first table HDU (usually HDU[1])\n",
    "    if len(hdul) > 1:\n",
    "        print(\"\\nHDU[1] header:\")\n",
    "        print(repr(hdul[1].header))\n",
    "\n",
    "        print(\"\\nHDU[1] data preview:\")\n",
    "        print(hdul[1].data[:5])  # Show first 5 rows\n"
   ]
  },
  {
   "cell_type": "markdown",
   "id": "d9363d51",
   "metadata": {},
   "source": [
    "i dont know why the data i need isnt in this"
   ]
  },
  {
   "cell_type": "code",
   "execution_count": 14,
   "id": "01314948",
   "metadata": {},
   "outputs": [
    {
     "ename": "NameError",
     "evalue": "name 'df_vis_dis' is not defined",
     "output_type": "error",
     "traceback": [
      "\u001b[31m---------------------------------------------------------------------------\u001b[39m",
      "\u001b[31mNameError\u001b[39m                                 Traceback (most recent call last)",
      "\u001b[36mCell\u001b[39m\u001b[36m \u001b[39m\u001b[32mIn[14]\u001b[39m\u001b[32m, line 1\u001b[39m\n\u001b[32m----> \u001b[39m\u001b[32m1\u001b[39m \u001b[43mdf_vis_dis\u001b[49m.head()\n",
      "\u001b[31mNameError\u001b[39m: name 'df_vis_dis' is not defined"
     ]
    }
   ],
   "source": [
    "df_vis_dis.head()"
   ]
  },
  {
   "cell_type": "code",
   "execution_count": 8,
   "id": "c2b92dfa",
   "metadata": {},
   "outputs": [
    {
     "name": "stdout",
     "output_type": "stream",
     "text": [
      "[✓] Position matches within 1 arcsec: 102458 / 10060704\n"
     ]
    }
   ],
   "source": [
    "from astropy.coordinates import SkyCoord\n",
    "from astropy import units as u\n",
    "\n",
    "# Convert to SkyCoord\n",
    "coords_vis = SkyCoord(ra=df_vis['ra'].values * u.deg, dec=df_vis['dec'].values * u.deg)\n",
    "coords_dis = SkyCoord(ra=df_vis_dis['RA_ICRS'].values * u.deg, dec=df_vis_dis['DE_ICRS'].values * u.deg)\n",
    "\n",
    "# Match to nearest\n",
    "idx, d2d, _ = coords_vis.match_to_catalog_sky(coords_dis)\n",
    "\n",
    "# Find matches within 1 arcsecond\n",
    "matched = d2d < 1.0 * u.arcsec\n",
    "print(f\"[✓] Position matches within 1 arcsec: {matched.sum()} / {len(df_vis)}\")\n"
   ]
  },
  {
   "cell_type": "code",
   "execution_count": 5,
   "id": "a14e76aa",
   "metadata": {},
   "outputs": [
    {
     "name": "stderr",
     "output_type": "stream",
     "text": [
      "Checking duplicates: 100%|██████████| 84757989/84757989 [02:34<00:00, 549657.57it/s]\n"
     ]
    },
    {
     "name": "stdout",
     "output_type": "stream",
     "text": [
      "\n",
      "[✓] Full duplicated rows: 62175627\n",
      "              Source    RA_ICRS   DE_ICRS        rpgeo      b_rpgeo  \\\n",
      "142  275118425722752  45.811539  1.617525   715.566040   510.238129   \n",
      "145  275702541277440  45.817596  1.631048  2994.836670  2554.120610   \n",
      "149  275771260754688  45.806771  1.636314  1432.225590  1277.350590   \n",
      "172  298345608489344  44.408610  0.985043   454.192596   445.504211   \n",
      "173  298349903957504  44.407948  0.985147   440.120392   429.566193   \n",
      "\n",
      "      b_rpgeo_lc  \n",
      "142  1274.047850  \n",
      "145  3549.351810  \n",
      "149  1632.537960  \n",
      "172   461.881256  \n",
      "173   452.042603  \n"
     ]
    }
   ],
   "source": [
    "from tqdm import tqdm\n",
    "\n",
    "# Optional: enable tqdm for pandas operations\n",
    "tqdm.pandas(desc=\"Checking duplicates\")\n",
    "\n",
    "# Check full row duplicates using tqdm\n",
    "duplicate_flags = df_vis_dis.progress_apply(lambda row: tuple(row) in set(), axis=1)  # Dummy to trigger tqdm\n",
    "full_duplicates = df_vis_dis[df_vis_dis.duplicated()]\n",
    "print(f\"\\n[✓] Full duplicated rows: {len(full_duplicates)}\")\n",
    "if not full_duplicates.empty:\n",
    "    print(full_duplicates.head())\n",
    "\n",
    "# Check for duplicates based on 'source_id', if present\n",
    "if 'source_id' in df_vis_dis.columns:\n",
    "    id_duplicates = df_vis_dis[df_vis_dis.duplicated('source_id')]\n",
    "    print(f\"[✓] Duplicated source_id entries: {len(id_duplicates)}\")\n",
    "    if not id_duplicates.empty:\n",
    "        print(id_duplicates.head())\n"
   ]
  },
  {
   "cell_type": "code",
   "execution_count": 7,
   "id": "91973b2e",
   "metadata": {},
   "outputs": [
    {
     "name": "stdout",
     "output_type": "stream",
     "text": [
      "[→] Initial shape: (84757989, 6)\n",
      "[✓] Removed full duplicates. New shape: (22582362, 6)\n",
      "[→] Checking and removing duplicates based on 'Source'...\n",
      "[✓] Removed 'Source' duplicates. Final shape: (22582362, 6)\n"
     ]
    }
   ],
   "source": [
    "from tqdm import tqdm\n",
    "\n",
    "# Remove full-row duplicates\n",
    "print(f\"[→] Initial shape: {df_vis_dis.shape}\")\n",
    "df_vis_dis = df_vis_dis.drop_duplicates().reset_index(drop=True)\n",
    "print(f\"[✓] Removed full duplicates. New shape: {df_vis_dis.shape}\")\n",
    "\n",
    "# Remove duplicates based on 'Source', keeping the first\n",
    "if 'Source' in df_vis_dis.columns:\n",
    "    print(f\"[→] Checking and removing duplicates based on 'Source'...\")\n",
    "    tqdm.pandas(desc=\"Removing Source duplicates\")\n",
    "    df_vis_dis = df_vis_dis.drop_duplicates(subset='Source', keep='first').reset_index(drop=True)\n",
    "    print(f\"[✓] Removed 'Source' duplicates. Final shape: {df_vis_dis.shape}\")\n"
   ]
  },
  {
   "cell_type": "code",
   "execution_count": 8,
   "id": "14e5f96e",
   "metadata": {},
   "outputs": [
    {
     "data": {
      "text/html": [
       "<div>\n",
       "<style scoped>\n",
       "    .dataframe tbody tr th:only-of-type {\n",
       "        vertical-align: middle;\n",
       "    }\n",
       "\n",
       "    .dataframe tbody tr th {\n",
       "        vertical-align: top;\n",
       "    }\n",
       "\n",
       "    .dataframe thead th {\n",
       "        text-align: right;\n",
       "    }\n",
       "</style>\n",
       "<table border=\"1\" class=\"dataframe\">\n",
       "  <thead>\n",
       "    <tr style=\"text-align: right;\">\n",
       "      <th></th>\n",
       "      <th>Source</th>\n",
       "      <th>RA_ICRS</th>\n",
       "      <th>DE_ICRS</th>\n",
       "      <th>rpgeo</th>\n",
       "      <th>b_rpgeo</th>\n",
       "      <th>b_rpgeo_lc</th>\n",
       "    </tr>\n",
       "  </thead>\n",
       "  <tbody>\n",
       "    <tr>\n",
       "      <th>0</th>\n",
       "      <td>14190572136064</td>\n",
       "      <td>45.139716</td>\n",
       "      <td>0.317631</td>\n",
       "      <td>2733.080080</td>\n",
       "      <td>2314.287840</td>\n",
       "      <td>3166.355710</td>\n",
       "    </tr>\n",
       "    <tr>\n",
       "      <th>1</th>\n",
       "      <td>14190572136192</td>\n",
       "      <td>45.138628</td>\n",
       "      <td>0.318988</td>\n",
       "      <td>369.159943</td>\n",
       "      <td>350.101532</td>\n",
       "      <td>389.457489</td>\n",
       "    </tr>\n",
       "    <tr>\n",
       "      <th>2</th>\n",
       "      <td>14190572136320</td>\n",
       "      <td>45.148487</td>\n",
       "      <td>0.319526</td>\n",
       "      <td>1245.477420</td>\n",
       "      <td>1024.909060</td>\n",
       "      <td>1395.592290</td>\n",
       "    </tr>\n",
       "    <tr>\n",
       "      <th>3</th>\n",
       "      <td>14263587225600</td>\n",
       "      <td>45.134758</td>\n",
       "      <td>0.321555</td>\n",
       "      <td>238.853394</td>\n",
       "      <td>237.404816</td>\n",
       "      <td>240.157104</td>\n",
       "    </tr>\n",
       "    <tr>\n",
       "      <th>4</th>\n",
       "      <td>15083925341824</td>\n",
       "      <td>45.114580</td>\n",
       "      <td>0.350138</td>\n",
       "      <td>321.531372</td>\n",
       "      <td>301.825623</td>\n",
       "      <td>345.233154</td>\n",
       "    </tr>\n",
       "  </tbody>\n",
       "</table>\n",
       "</div>"
      ],
      "text/plain": [
       "           Source    RA_ICRS   DE_ICRS        rpgeo      b_rpgeo   b_rpgeo_lc\n",
       "0  14190572136064  45.139716  0.317631  2733.080080  2314.287840  3166.355710\n",
       "1  14190572136192  45.138628  0.318988   369.159943   350.101532   389.457489\n",
       "2  14190572136320  45.148487  0.319526  1245.477420  1024.909060  1395.592290\n",
       "3  14263587225600  45.134758  0.321555   238.853394   237.404816   240.157104\n",
       "4  15083925341824  45.114580  0.350138   321.531372   301.825623   345.233154"
      ]
     },
     "execution_count": 8,
     "metadata": {},
     "output_type": "execute_result"
    }
   ],
   "source": [
    "df_vis_dis.head()"
   ]
  },
  {
   "cell_type": "code",
   "execution_count": 9,
   "id": "1d4ec5e6",
   "metadata": {},
   "outputs": [
    {
     "name": "stdout",
     "output_type": "stream",
     "text": [
      "[✓] Saved cleaned table to: ../data/vis_distances.fits\n"
     ]
    }
   ],
   "source": [
    "from astropy.table import Table\n",
    "\n",
    "# Convert to Astropy Table\n",
    "table = Table.from_pandas(df_vis_dis)\n",
    "\n",
    "# Save to FITS file\n",
    "output_path = \"../data/vis_distances.fits\"\n",
    "table.write(output_path, format='fits', overwrite=True)\n",
    "\n",
    "print(f\"[✓] Saved cleaned table to: {output_path}\")"
   ]
  },
  {
   "cell_type": "code",
   "execution_count": 1,
   "id": "2c404f77",
   "metadata": {},
   "outputs": [
    {
     "name": "stdout",
     "output_type": "stream",
     "text": [
      "[✓] Loaded vis_cleaned: (10060704, 41)\n",
      "[✓] Loaded vis_distances: (22582362, 6)\n"
     ]
    }
   ],
   "source": [
    "from astropy.table import Table\n",
    "import pandas as pd\n",
    "import numpy as np\n",
    "\n",
    "# Load vis_cleaned.fits\n",
    "vis_cleaned_path = \"../data/vis_cleaned.fits\"\n",
    "df_vis = Table.read(vis_cleaned_path, format='fits').to_pandas()\n",
    "df_vis['source_id'] = df_vis['source_id'].str.decode('utf-8').astype(np.int64)\n",
    "print(f\"[✓] Loaded vis_cleaned: {df_vis.shape}\")\n",
    "\n",
    "# Load vis_distances.fits\n",
    "vis_distances_path = \"../data/vis_distances.fits\"\n",
    "df_dist = Table.read(vis_distances_path, format='fits').to_pandas()\n",
    "print(f\"[✓] Loaded vis_distances: {df_dist.shape}\")\n"
   ]
  },
  {
   "cell_type": "code",
   "execution_count": 17,
   "id": "251b9bcd",
   "metadata": {},
   "outputs": [
    {
     "data": {
      "text/plain": [
       "(14485519, 30)"
      ]
     },
     "execution_count": 17,
     "metadata": {},
     "output_type": "execute_result"
    }
   ],
   "source": [
    "df_vis.shape"
   ]
  },
  {
   "cell_type": "code",
   "execution_count": 3,
   "id": "fe20ff25",
   "metadata": {},
   "outputs": [
    {
     "data": {
      "text/html": [
       "<div>\n",
       "<style scoped>\n",
       "    .dataframe tbody tr th:only-of-type {\n",
       "        vertical-align: middle;\n",
       "    }\n",
       "\n",
       "    .dataframe tbody tr th {\n",
       "        vertical-align: top;\n",
       "    }\n",
       "\n",
       "    .dataframe thead th {\n",
       "        text-align: right;\n",
       "    }\n",
       "</style>\n",
       "<table border=\"1\" class=\"dataframe\">\n",
       "  <thead>\n",
       "    <tr style=\"text-align: right;\">\n",
       "      <th></th>\n",
       "      <th>Source</th>\n",
       "      <th>RA_ICRS</th>\n",
       "      <th>DE_ICRS</th>\n",
       "      <th>rpgeo</th>\n",
       "      <th>b_rpgeo</th>\n",
       "      <th>b_rpgeo_lc</th>\n",
       "    </tr>\n",
       "  </thead>\n",
       "  <tbody>\n",
       "    <tr>\n",
       "      <th>0</th>\n",
       "      <td>14190572136064</td>\n",
       "      <td>45.139716</td>\n",
       "      <td>0.317631</td>\n",
       "      <td>2733.080080</td>\n",
       "      <td>2314.287840</td>\n",
       "      <td>3166.355710</td>\n",
       "    </tr>\n",
       "    <tr>\n",
       "      <th>1</th>\n",
       "      <td>14190572136192</td>\n",
       "      <td>45.138628</td>\n",
       "      <td>0.318988</td>\n",
       "      <td>369.159943</td>\n",
       "      <td>350.101532</td>\n",
       "      <td>389.457489</td>\n",
       "    </tr>\n",
       "    <tr>\n",
       "      <th>2</th>\n",
       "      <td>14190572136320</td>\n",
       "      <td>45.148487</td>\n",
       "      <td>0.319526</td>\n",
       "      <td>1245.477420</td>\n",
       "      <td>1024.909060</td>\n",
       "      <td>1395.592290</td>\n",
       "    </tr>\n",
       "    <tr>\n",
       "      <th>3</th>\n",
       "      <td>14263587225600</td>\n",
       "      <td>45.134758</td>\n",
       "      <td>0.321555</td>\n",
       "      <td>238.853394</td>\n",
       "      <td>237.404816</td>\n",
       "      <td>240.157104</td>\n",
       "    </tr>\n",
       "    <tr>\n",
       "      <th>4</th>\n",
       "      <td>15083925341824</td>\n",
       "      <td>45.114580</td>\n",
       "      <td>0.350138</td>\n",
       "      <td>321.531372</td>\n",
       "      <td>301.825623</td>\n",
       "      <td>345.233154</td>\n",
       "    </tr>\n",
       "  </tbody>\n",
       "</table>\n",
       "</div>"
      ],
      "text/plain": [
       "           Source    RA_ICRS   DE_ICRS        rpgeo      b_rpgeo   b_rpgeo_lc\n",
       "0  14190572136064  45.139716  0.317631  2733.080080  2314.287840  3166.355710\n",
       "1  14190572136192  45.138628  0.318988   369.159943   350.101532   389.457489\n",
       "2  14190572136320  45.148487  0.319526  1245.477420  1024.909060  1395.592290\n",
       "3  14263587225600  45.134758  0.321555   238.853394   237.404816   240.157104\n",
       "4  15083925341824  45.114580  0.350138   321.531372   301.825623   345.233154"
      ]
     },
     "execution_count": 3,
     "metadata": {},
     "output_type": "execute_result"
    }
   ],
   "source": [
    "df_dist.head()"
   ]
  },
  {
   "cell_type": "code",
   "execution_count": 4,
   "id": "37cfbf9c",
   "metadata": {},
   "outputs": [
    {
     "name": "stdout",
     "output_type": "stream",
     "text": [
      "[✓] Merged shape (before deduplication): (102458, 46)\n",
      "[✓] Final shape after removing duplicates: (102458, 46)\n"
     ]
    }
   ],
   "source": [
    "# Rename 'Source' to 'source_id' in df_dist\n",
    "df_dist = df_dist.rename(columns={\"Source\": \"source_id\"})\n",
    "\n",
    "# Ensure source_id is numeric\n",
    "df_vis['source_id'] = df_vis['source_id'].astype(np.int64)\n",
    "df_dist['source_id'] = df_dist['source_id'].astype(np.int64)\n",
    "\n",
    "# Merge on 'source_id'\n",
    "df_merged = pd.merge(df_vis, df_dist, on='source_id', how='inner')\n",
    "print(f\"[✓] Merged shape (before deduplication): {df_merged.shape}\")\n",
    "\n",
    "# Remove duplicate rows if any\n",
    "df_merged = df_merged.drop_duplicates()\n",
    "print(f\"[✓] Final shape after removing duplicates: {df_merged.shape}\")\n"
   ]
  },
  {
   "cell_type": "code",
   "execution_count": null,
   "id": "1abe9dda",
   "metadata": {},
   "outputs": [],
   "source": []
  },
  {
   "cell_type": "code",
   "execution_count": null,
   "id": "8252960a",
   "metadata": {},
   "outputs": [],
   "source": []
  },
  {
   "cell_type": "code",
   "execution_count": 6,
   "id": "e854c817",
   "metadata": {},
   "outputs": [],
   "source": [
    "from astropy.table import Table\n",
    "import numpy as np\n",
    "\n",
    "# Save to table\n",
    "source_id_table = Table()\n",
    "source_id_table['Source'] = df_vis['source_id'].astype(np.int64)"
   ]
  },
  {
   "cell_type": "code",
   "execution_count": null,
   "id": "007e15f5",
   "metadata": {},
   "outputs": [],
   "source": []
  }
 ],
 "metadata": {
  "kernelspec": {
   "display_name": "base",
   "language": "python",
   "name": "python3"
  },
  "language_info": {
   "codemirror_mode": {
    "name": "ipython",
    "version": 3
   },
   "file_extension": ".py",
   "mimetype": "text/x-python",
   "name": "python",
   "nbconvert_exporter": "python",
   "pygments_lexer": "ipython3",
   "version": "3.12.9"
  }
 },
 "nbformat": 4,
 "nbformat_minor": 5
}
