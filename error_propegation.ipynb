{
 "cells": [
  {
   "cell_type": "code",
   "execution_count": null,
   "metadata": {},
   "outputs": [
    {
     "name": "stdout",
     "output_type": "stream",
     "text": [
      "galpyWarning: libgalpy C extension module not loaded, because libgalpy.cpython-39-darwin.so image was not found\n"
     ]
    }
   ],
   "source": [
    "import astropy\n",
    "from astropy.io import fits\n",
    "import numpy as np\n",
    "import pandas as pd\n",
    "import matplotlib.pyplot as plt\n",
    "import seaborn as sns\n",
    "from tqdm import tqdm\n",
    "from matplotlib.colors import LogNorm\n",
    "from astropy import units as u\n",
    "import galpy\n",
    "from galpy.orbit import Orbit\n",
    "from astropy.coordinates import SkyCoord\n",
    "from galpy.potential import MWPotential2014\n",
    "from astropy.coordinates import SkyCoord, Galactocentric, CartesianDifferential\n",
    "from matplotlib.colors import Normalize\n",
    "from matplotlib.patches import Ellipse, Circle\n",
    "import astropy.units as u\n",
    "from astropy.coordinates import ICRS\n",
    "import astropy.coordinates as apycoords\n",
    "from astropy.coordinates import CylindricalRepresentation, CylindricalDifferential\n"
   ]
  },
  {
   "cell_type": "markdown",
   "metadata": {},
   "source": [
    "# Error propegation for velocity components"
   ]
  },
  {
   "cell_type": "code",
   "execution_count": 2,
   "metadata": {},
   "outputs": [],
   "source": [
    "vphi_data = 'v_dataset.fits'\n",
    "\n",
    "with fits.open(vphi_data) as hdul:\n",
    "    data = hdul[1].data  \n",
    "    \n",
    "    df_v = pd.DataFrame({col.name: data[col.name].byteswap().newbyteorder() if data[col.name].dtype.byteorder == '>' else data[col.name]\n",
    "                       for col in hdul[1].columns})"
   ]
  },
  {
   "cell_type": "code",
   "execution_count": 3,
   "metadata": {},
   "outputs": [
    {
     "data": {
      "text/html": [
       "<div>\n",
       "<style scoped>\n",
       "    .dataframe tbody tr th:only-of-type {\n",
       "        vertical-align: middle;\n",
       "    }\n",
       "\n",
       "    .dataframe tbody tr th {\n",
       "        vertical-align: top;\n",
       "    }\n",
       "\n",
       "    .dataframe thead th {\n",
       "        text-align: right;\n",
       "    }\n",
       "</style>\n",
       "<table border=\"1\" class=\"dataframe\">\n",
       "  <thead>\n",
       "    <tr style=\"text-align: right;\">\n",
       "      <th></th>\n",
       "      <th>source_id</th>\n",
       "      <th>l</th>\n",
       "      <th>b</th>\n",
       "      <th>ra</th>\n",
       "      <th>dec</th>\n",
       "      <th>parallax</th>\n",
       "      <th>parallax_error</th>\n",
       "      <th>pmra</th>\n",
       "      <th>pmra_error</th>\n",
       "      <th>pmdec</th>\n",
       "      <th>pmdec_error</th>\n",
       "      <th>ruwe</th>\n",
       "      <th>radial_velocity</th>\n",
       "      <th>radial_velocity_error</th>\n",
       "      <th>phot_g_mean_mag</th>\n",
       "      <th>phot_bp_mean_mag</th>\n",
       "      <th>phot_rp_mean_mag</th>\n",
       "      <th>catwise_w1</th>\n",
       "      <th>catwise_w2</th>\n",
       "      <th>mh_xgboost</th>\n",
       "      <th>teff_xgboost</th>\n",
       "      <th>logg_xgboost</th>\n",
       "      <th>in_training_sample</th>\n",
       "      <th>col1</th>\n",
       "      <th>col2</th>\n",
       "      <th>Source</th>\n",
       "      <th>RA_ICRS</th>\n",
       "      <th>DE_ICRS</th>\n",
       "      <th>rgeo</th>\n",
       "      <th>b_rgeo_x</th>\n",
       "      <th>B_rgeo_xa</th>\n",
       "      <th>rpgeo</th>\n",
       "      <th>b_rpgeo_x</th>\n",
       "      <th>B_rpgeo_xa</th>\n",
       "      <th>Flag</th>\n",
       "      <th>angDist</th>\n",
       "      <th>fpu</th>\n",
       "      <th>E(B-V)</th>\n",
       "      <th>distance_kpc</th>\n",
       "      <th>R</th>\n",
       "      <th>Z</th>\n",
       "      <th>R_gal</th>\n",
       "      <th>phi_gal</th>\n",
       "      <th>Z_gal</th>\n",
       "      <th>v_phi</th>\n",
       "      <th>v_R</th>\n",
       "      <th>v_Z</th>\n",
       "    </tr>\n",
       "  </thead>\n",
       "  <tbody>\n",
       "    <tr>\n",
       "      <th>0</th>\n",
       "      <td>15741055975040</td>\n",
       "      <td>176.739184</td>\n",
       "      <td>-48.572035</td>\n",
       "      <td>45.136038</td>\n",
       "      <td>0.335043</td>\n",
       "      <td>1.439792</td>\n",
       "      <td>0.018947</td>\n",
       "      <td>-0.711280</td>\n",
       "      <td>0.017718</td>\n",
       "      <td>-1.412098</td>\n",
       "      <td>0.016528</td>\n",
       "      <td>1.036041</td>\n",
       "      <td>-0.738894</td>\n",
       "      <td>0.316921</td>\n",
       "      <td>10.254021</td>\n",
       "      <td>10.750235</td>\n",
       "      <td>9.595748</td>\n",
       "      <td>8.152</td>\n",
       "      <td>8.198</td>\n",
       "      <td>-0.144</td>\n",
       "      <td>5065.8</td>\n",
       "      <td>2.993</td>\n",
       "      <td>True</td>\n",
       "      <td>45.136038</td>\n",
       "      <td>0.335043</td>\n",
       "      <td>15741055975040</td>\n",
       "      <td>45.136038</td>\n",
       "      <td>0.335043</td>\n",
       "      <td>695.683899</td>\n",
       "      <td>683.627625</td>\n",
       "      <td>707.396423</td>\n",
       "      <td>696.278320</td>\n",
       "      <td>688.270874</td>\n",
       "      <td>707.143982</td>\n",
       "      <td>10033</td>\n",
       "      <td>0.0</td>\n",
       "      <td>0.013160</td>\n",
       "      <td>0.104689</td>\n",
       "      <td>696.278320</td>\n",
       "      <td>8.582006</td>\n",
       "      <td>-0.522061</td>\n",
       "      <td>470.485258</td>\n",
       "      <td>0.055731</td>\n",
       "      <td>-520.632142</td>\n",
       "      <td>243.095762</td>\n",
       "      <td>-14.428048</td>\n",
       "      <td>4.529900</td>\n",
       "    </tr>\n",
       "    <tr>\n",
       "      <th>1</th>\n",
       "      <td>66627828480768</td>\n",
       "      <td>176.483565</td>\n",
       "      <td>-48.171322</td>\n",
       "      <td>45.305053</td>\n",
       "      <td>0.736093</td>\n",
       "      <td>0.534038</td>\n",
       "      <td>0.020692</td>\n",
       "      <td>3.309832</td>\n",
       "      <td>0.022959</td>\n",
       "      <td>1.594356</td>\n",
       "      <td>0.022822</td>\n",
       "      <td>1.349013</td>\n",
       "      <td>41.607450</td>\n",
       "      <td>1.323430</td>\n",
       "      <td>10.508830</td>\n",
       "      <td>11.150953</td>\n",
       "      <td>9.741709</td>\n",
       "      <td>7.891</td>\n",
       "      <td>7.964</td>\n",
       "      <td>-0.401</td>\n",
       "      <td>4499.0</td>\n",
       "      <td>1.916</td>\n",
       "      <td>False</td>\n",
       "      <td>45.305053</td>\n",
       "      <td>0.736093</td>\n",
       "      <td>66627828480768</td>\n",
       "      <td>45.305053</td>\n",
       "      <td>0.736093</td>\n",
       "      <td>1884.275020</td>\n",
       "      <td>1821.247560</td>\n",
       "      <td>1947.302730</td>\n",
       "      <td>1883.143550</td>\n",
       "      <td>1807.318600</td>\n",
       "      <td>1944.665770</td>\n",
       "      <td>10033</td>\n",
       "      <td>0.0</td>\n",
       "      <td>0.038747</td>\n",
       "      <td>0.093026</td>\n",
       "      <td>1883.143550</td>\n",
       "      <td>9.375831</td>\n",
       "      <td>-1.403210</td>\n",
       "      <td>1268.325930</td>\n",
       "      <td>0.060773</td>\n",
       "      <td>-1399.358389</td>\n",
       "      <td>237.364263</td>\n",
       "      <td>42.346437</td>\n",
       "      <td>-2.860027</td>\n",
       "    </tr>\n",
       "    <tr>\n",
       "      <th>2</th>\n",
       "      <td>82467667849472</td>\n",
       "      <td>176.209301</td>\n",
       "      <td>-48.607026</td>\n",
       "      <td>44.866246</td>\n",
       "      <td>0.561503</td>\n",
       "      <td>2.209985</td>\n",
       "      <td>0.016049</td>\n",
       "      <td>-4.869755</td>\n",
       "      <td>0.015797</td>\n",
       "      <td>-12.678339</td>\n",
       "      <td>0.013950</td>\n",
       "      <td>1.018742</td>\n",
       "      <td>-32.461674</td>\n",
       "      <td>0.205614</td>\n",
       "      <td>10.651456</td>\n",
       "      <td>11.169626</td>\n",
       "      <td>9.980610</td>\n",
       "      <td>8.496</td>\n",
       "      <td>8.558</td>\n",
       "      <td>0.114</td>\n",
       "      <td>4938.3</td>\n",
       "      <td>3.203</td>\n",
       "      <td>True</td>\n",
       "      <td>44.866246</td>\n",
       "      <td>0.561503</td>\n",
       "      <td>82467667849472</td>\n",
       "      <td>44.866246</td>\n",
       "      <td>0.561503</td>\n",
       "      <td>452.636078</td>\n",
       "      <td>448.701294</td>\n",
       "      <td>456.615540</td>\n",
       "      <td>452.602692</td>\n",
       "      <td>449.257355</td>\n",
       "      <td>455.432892</td>\n",
       "      <td>10033</td>\n",
       "      <td>0.0</td>\n",
       "      <td>0.007262</td>\n",
       "      <td>0.086075</td>\n",
       "      <td>452.602692</td>\n",
       "      <td>8.420638</td>\n",
       "      <td>-0.339539</td>\n",
       "      <td>308.483632</td>\n",
       "      <td>0.064184</td>\n",
       "      <td>-338.602406</td>\n",
       "      <td>230.329127</td>\n",
       "      <td>-51.045366</td>\n",
       "      <td>13.944756</td>\n",
       "    </tr>\n",
       "    <tr>\n",
       "      <th>3</th>\n",
       "      <td>101193725229056</td>\n",
       "      <td>175.755174</td>\n",
       "      <td>-48.727781</td>\n",
       "      <td>44.569524</td>\n",
       "      <td>0.689953</td>\n",
       "      <td>0.528788</td>\n",
       "      <td>0.024241</td>\n",
       "      <td>3.539184</td>\n",
       "      <td>0.027864</td>\n",
       "      <td>-1.599436</td>\n",
       "      <td>0.021891</td>\n",
       "      <td>1.176748</td>\n",
       "      <td>91.295900</td>\n",
       "      <td>4.830661</td>\n",
       "      <td>14.332739</td>\n",
       "      <td>14.816101</td>\n",
       "      <td>13.685076</td>\n",
       "      <td>12.220</td>\n",
       "      <td>12.275</td>\n",
       "      <td>-0.478</td>\n",
       "      <td>4980.2</td>\n",
       "      <td>3.319</td>\n",
       "      <td>False</td>\n",
       "      <td>44.569524</td>\n",
       "      <td>0.689953</td>\n",
       "      <td>101193725229056</td>\n",
       "      <td>44.569524</td>\n",
       "      <td>0.689953</td>\n",
       "      <td>1908.478270</td>\n",
       "      <td>1815.024170</td>\n",
       "      <td>2014.483890</td>\n",
       "      <td>1868.603880</td>\n",
       "      <td>1800.940800</td>\n",
       "      <td>1949.831300</td>\n",
       "      <td>10033</td>\n",
       "      <td>0.0</td>\n",
       "      <td>0.045842</td>\n",
       "      <td>0.078062</td>\n",
       "      <td>1868.603880</td>\n",
       "      <td>9.351665</td>\n",
       "      <td>-1.404413</td>\n",
       "      <td>1245.041147</td>\n",
       "      <td>0.073347</td>\n",
       "      <td>-1400.635394</td>\n",
       "      <td>217.472712</td>\n",
       "      <td>62.829005</td>\n",
       "      <td>-53.068842</td>\n",
       "    </tr>\n",
       "    <tr>\n",
       "      <th>4</th>\n",
       "      <td>130399502833792</td>\n",
       "      <td>175.789759</td>\n",
       "      <td>-48.328584</td>\n",
       "      <td>44.868872</td>\n",
       "      <td>0.955080</td>\n",
       "      <td>0.847929</td>\n",
       "      <td>0.017479</td>\n",
       "      <td>3.382907</td>\n",
       "      <td>0.017619</td>\n",
       "      <td>-0.291235</td>\n",
       "      <td>0.015982</td>\n",
       "      <td>1.087555</td>\n",
       "      <td>1.959265</td>\n",
       "      <td>0.328298</td>\n",
       "      <td>11.215295</td>\n",
       "      <td>11.810178</td>\n",
       "      <td>10.481738</td>\n",
       "      <td>8.728</td>\n",
       "      <td>8.815</td>\n",
       "      <td>-0.159</td>\n",
       "      <td>4643.6</td>\n",
       "      <td>2.398</td>\n",
       "      <td>True</td>\n",
       "      <td>44.868872</td>\n",
       "      <td>0.955080</td>\n",
       "      <td>130399502833792</td>\n",
       "      <td>44.868872</td>\n",
       "      <td>0.955080</td>\n",
       "      <td>1178.407470</td>\n",
       "      <td>1155.319820</td>\n",
       "      <td>1203.711180</td>\n",
       "      <td>1177.687260</td>\n",
       "      <td>1154.219600</td>\n",
       "      <td>1201.322750</td>\n",
       "      <td>10033</td>\n",
       "      <td>0.0</td>\n",
       "      <td>0.020614</td>\n",
       "      <td>0.077163</td>\n",
       "      <td>1177.687260</td>\n",
       "      <td>8.903067</td>\n",
       "      <td>-0.879697</td>\n",
       "      <td>793.842786</td>\n",
       "      <td>0.072479</td>\n",
       "      <td>-877.288236</td>\n",
       "      <td>231.337541</td>\n",
       "      <td>1.866465</td>\n",
       "      <td>13.969564</td>\n",
       "    </tr>\n",
       "  </tbody>\n",
       "</table>\n",
       "</div>"
      ],
      "text/plain": [
       "         source_id           l          b         ra       dec  parallax  \\\n",
       "0   15741055975040  176.739184 -48.572035  45.136038  0.335043  1.439792   \n",
       "1   66627828480768  176.483565 -48.171322  45.305053  0.736093  0.534038   \n",
       "2   82467667849472  176.209301 -48.607026  44.866246  0.561503  2.209985   \n",
       "3  101193725229056  175.755174 -48.727781  44.569524  0.689953  0.528788   \n",
       "4  130399502833792  175.789759 -48.328584  44.868872  0.955080  0.847929   \n",
       "\n",
       "   parallax_error      pmra  pmra_error      pmdec  pmdec_error      ruwe  \\\n",
       "0        0.018947 -0.711280    0.017718  -1.412098     0.016528  1.036041   \n",
       "1        0.020692  3.309832    0.022959   1.594356     0.022822  1.349013   \n",
       "2        0.016049 -4.869755    0.015797 -12.678339     0.013950  1.018742   \n",
       "3        0.024241  3.539184    0.027864  -1.599436     0.021891  1.176748   \n",
       "4        0.017479  3.382907    0.017619  -0.291235     0.015982  1.087555   \n",
       "\n",
       "   radial_velocity  radial_velocity_error  phot_g_mean_mag  phot_bp_mean_mag  \\\n",
       "0        -0.738894               0.316921        10.254021         10.750235   \n",
       "1        41.607450               1.323430        10.508830         11.150953   \n",
       "2       -32.461674               0.205614        10.651456         11.169626   \n",
       "3        91.295900               4.830661        14.332739         14.816101   \n",
       "4         1.959265               0.328298        11.215295         11.810178   \n",
       "\n",
       "   phot_rp_mean_mag  catwise_w1  catwise_w2  mh_xgboost  teff_xgboost  \\\n",
       "0          9.595748       8.152       8.198      -0.144        5065.8   \n",
       "1          9.741709       7.891       7.964      -0.401        4499.0   \n",
       "2          9.980610       8.496       8.558       0.114        4938.3   \n",
       "3         13.685076      12.220      12.275      -0.478        4980.2   \n",
       "4         10.481738       8.728       8.815      -0.159        4643.6   \n",
       "\n",
       "   logg_xgboost  in_training_sample       col1      col2           Source  \\\n",
       "0         2.993                True  45.136038  0.335043   15741055975040   \n",
       "1         1.916               False  45.305053  0.736093   66627828480768   \n",
       "2         3.203                True  44.866246  0.561503   82467667849472   \n",
       "3         3.319               False  44.569524  0.689953  101193725229056   \n",
       "4         2.398                True  44.868872  0.955080  130399502833792   \n",
       "\n",
       "     RA_ICRS   DE_ICRS         rgeo     b_rgeo_x    B_rgeo_xa        rpgeo  \\\n",
       "0  45.136038  0.335043   695.683899   683.627625   707.396423   696.278320   \n",
       "1  45.305053  0.736093  1884.275020  1821.247560  1947.302730  1883.143550   \n",
       "2  44.866246  0.561503   452.636078   448.701294   456.615540   452.602692   \n",
       "3  44.569524  0.689953  1908.478270  1815.024170  2014.483890  1868.603880   \n",
       "4  44.868872  0.955080  1178.407470  1155.319820  1203.711180  1177.687260   \n",
       "\n",
       "     b_rpgeo_x   B_rpgeo_xa   Flag  angDist       fpu    E(B-V)  distance_kpc  \\\n",
       "0   688.270874   707.143982  10033      0.0  0.013160  0.104689    696.278320   \n",
       "1  1807.318600  1944.665770  10033      0.0  0.038747  0.093026   1883.143550   \n",
       "2   449.257355   455.432892  10033      0.0  0.007262  0.086075    452.602692   \n",
       "3  1800.940800  1949.831300  10033      0.0  0.045842  0.078062   1868.603880   \n",
       "4  1154.219600  1201.322750  10033      0.0  0.020614  0.077163   1177.687260   \n",
       "\n",
       "          R         Z        R_gal   phi_gal        Z_gal       v_phi  \\\n",
       "0  8.582006 -0.522061   470.485258  0.055731  -520.632142  243.095762   \n",
       "1  9.375831 -1.403210  1268.325930  0.060773 -1399.358389  237.364263   \n",
       "2  8.420638 -0.339539   308.483632  0.064184  -338.602406  230.329127   \n",
       "3  9.351665 -1.404413  1245.041147  0.073347 -1400.635394  217.472712   \n",
       "4  8.903067 -0.879697   793.842786  0.072479  -877.288236  231.337541   \n",
       "\n",
       "         v_R        v_Z  \n",
       "0 -14.428048   4.529900  \n",
       "1  42.346437  -2.860027  \n",
       "2 -51.045366  13.944756  \n",
       "3  62.829005 -53.068842  \n",
       "4   1.866465  13.969564  "
      ]
     },
     "execution_count": 3,
     "metadata": {},
     "output_type": "execute_result"
    }
   ],
   "source": [
    "pd.set_option('display.max_columns', None)\n",
    "\n",
    "df_v.head()"
   ]
  },
  {
   "cell_type": "code",
   "execution_count": 4,
   "metadata": {},
   "outputs": [],
   "source": [
    "rpgeo_error = ((df_v['B_rpgeo_xa'] - df_v['rpgeo']) + (df_v['rpgeo'] - df_v['b_rpgeo_x'])) / 2\n",
    "\n",
    "df_v['rpgeo_error'] = rpgeo_error"
   ]
  },
  {
   "cell_type": "markdown",
   "metadata": {},
   "source": [
    "### Process Overview\n",
    "\n",
    "This script processes a large DataFrame (`df_v`) in chunks to generate perturbed samples of specific parameters, compute velocity components, and propagate uncertainties. It divides the workload into manageable chunks to avoid memory overload and then combines the results into a final DataFrame (`df_v_final`) with the added uncertainties.\n",
    "\n",
    "### Steps Taken:\n",
    "\n",
    "1. **Correlation Coefficient Calculation:**\n",
    "   - The script first calculates the correlation coefficient for `pmra` (proper motion in RA) and `pmdec` (proper motion in Dec) based on the covariance matrix and standard deviations of both parameters.\n",
    "\n",
    "2. **Define Functions for Velocity Computation and Sample Generation:**\n",
    "   - **`compute_velocity_components_with_uncertainty_vectorized`:** This function computes the velocities in Galactocentric coordinates (using cylindrical representation) for a set of input parameters, including proper motions (`pmra`, `pmdec`), radial velocity (`vlos`), and distance (`distance`).\n",
    "   - **`generate_samples_vectorized`:** This function generates 100 perturbed samples for each parameter (e.g., `ra`, `dec`, `distance`, `pmra`, `pmdec`, `vlos`) using Gaussian distributions. The proper motions (`pmra` and `pmdec`) are perturbed using their covariance matrix.\n",
    "\n",
    "3. **Processing Data in Chunks:**\n",
    "   - The DataFrame is split into smaller chunks (`chunk_size = 10000` rows per chunk) to handle large datasets efficiently.\n",
    "   - For each chunk:\n",
    "     - Perturbed samples are generated for each star.\n",
    "     - Velocity components (`v_r`, `v_phi`, `v_z`) are computed for each perturbed sample.\n",
    "     - The standard deviation (uncertainty) of the velocity components is calculated.\n",
    "\n",
    "4. **Concatenate Results:**\n",
    "   - After processing each chunk, the uncertainties are added to the corresponding chunk.\n",
    "   - The processed chunks are then concatenated into one final DataFrame (`df_v_final`), which contains all the data with the computed uncertainties for `v_R`, `v_phi`, and `v_Z`.\n",
    "\n",
    "### Final Output:\n",
    "- The final DataFrame (`df_v_final`) contains the original data along with computed uncertainties (`v_R_uncertainty`, `v_phi_uncertainty`, `v_Z_uncertainty`) for each parameter.\n"
   ]
  },
  {
   "cell_type": "code",
   "execution_count": null,
   "metadata": {},
   "outputs": [],
   "source": [
    "# Compute the correlation coefficient for pmra and pmdec\n",
    "# Extract relevant columns from your DataFrame\n",
    "pmra = df_v['pmra'].values\n",
    "pmdec = df_v['pmdec'].values\n",
    "\n",
    "# Calculate the covariance matrix for pmra and pmdec\n",
    "cov_pmra_pmdec = np.cov(pmra, pmdec)[0, 1]\n",
    "sigma_pmra = np.std(pmra)\n",
    "sigma_pmdec = np.std(pmdec)\n",
    "\n",
    "# Calculate the correlation coefficient\n",
    "correlation_pmra_pmdec = cov_pmra_pmdec / (sigma_pmra * sigma_pmdec)"
   ]
  },
  {
   "cell_type": "code",
   "execution_count": null,
   "metadata": {},
   "outputs": [
    {
     "name": "stderr",
     "output_type": "stream",
     "text": [
      "Generating Samples: 100%|██████████| 10000/10000 [00:00<00:00, 14482.36it/s]\n"
     ]
    },
    {
     "name": "stdout",
     "output_type": "stream",
     "text": [
      "Processed chunk 1/341\n"
     ]
    },
    {
     "name": "stderr",
     "output_type": "stream",
     "text": [
      "Generating Samples: 100%|██████████| 10000/10000 [00:00<00:00, 13940.49it/s]\n"
     ]
    },
    {
     "name": "stdout",
     "output_type": "stream",
     "text": [
      "Processed chunk 2/341\n"
     ]
    },
    {
     "name": "stderr",
     "output_type": "stream",
     "text": [
      "Generating Samples: 100%|██████████| 10000/10000 [00:00<00:00, 13993.61it/s]\n"
     ]
    },
    {
     "name": "stdout",
     "output_type": "stream",
     "text": [
      "Processed chunk 3/341\n"
     ]
    },
    {
     "name": "stderr",
     "output_type": "stream",
     "text": [
      "Generating Samples: 100%|██████████| 10000/10000 [00:00<00:00, 13494.38it/s]\n"
     ]
    },
    {
     "name": "stdout",
     "output_type": "stream",
     "text": [
      "Processed chunk 4/341\n"
     ]
    },
    {
     "name": "stderr",
     "output_type": "stream",
     "text": [
      "Generating Samples: 100%|██████████| 10000/10000 [00:00<00:00, 13865.14it/s]\n"
     ]
    },
    {
     "name": "stdout",
     "output_type": "stream",
     "text": [
      "Processed chunk 5/341\n"
     ]
    },
    {
     "name": "stderr",
     "output_type": "stream",
     "text": [
      "Generating Samples: 100%|██████████| 10000/10000 [00:00<00:00, 14312.07it/s]\n"
     ]
    },
    {
     "name": "stdout",
     "output_type": "stream",
     "text": [
      "Processed chunk 6/341\n"
     ]
    },
    {
     "name": "stderr",
     "output_type": "stream",
     "text": [
      "Generating Samples: 100%|██████████| 10000/10000 [00:00<00:00, 14400.05it/s]\n"
     ]
    },
    {
     "name": "stdout",
     "output_type": "stream",
     "text": [
      "Processed chunk 7/341\n"
     ]
    },
    {
     "name": "stderr",
     "output_type": "stream",
     "text": [
      "Generating Samples: 100%|██████████| 10000/10000 [00:00<00:00, 14453.29it/s]\n"
     ]
    },
    {
     "name": "stdout",
     "output_type": "stream",
     "text": [
      "Processed chunk 8/341\n"
     ]
    },
    {
     "name": "stderr",
     "output_type": "stream",
     "text": [
      "Generating Samples: 100%|██████████| 10000/10000 [00:00<00:00, 14271.19it/s]\n"
     ]
    },
    {
     "name": "stdout",
     "output_type": "stream",
     "text": [
      "Processed chunk 9/341\n"
     ]
    },
    {
     "name": "stderr",
     "output_type": "stream",
     "text": [
      "Generating Samples: 100%|██████████| 10000/10000 [00:00<00:00, 14518.17it/s]\n"
     ]
    },
    {
     "name": "stdout",
     "output_type": "stream",
     "text": [
      "Processed chunk 10/341\n"
     ]
    },
    {
     "name": "stderr",
     "output_type": "stream",
     "text": [
      "Generating Samples: 100%|██████████| 10000/10000 [00:00<00:00, 14582.94it/s]\n"
     ]
    },
    {
     "name": "stdout",
     "output_type": "stream",
     "text": [
      "Processed chunk 11/341\n"
     ]
    },
    {
     "name": "stderr",
     "output_type": "stream",
     "text": [
      "Generating Samples: 100%|██████████| 10000/10000 [00:00<00:00, 14581.55it/s]\n"
     ]
    },
    {
     "name": "stdout",
     "output_type": "stream",
     "text": [
      "Processed chunk 12/341\n"
     ]
    },
    {
     "name": "stderr",
     "output_type": "stream",
     "text": [
      "Generating Samples: 100%|██████████| 10000/10000 [00:00<00:00, 14320.68it/s]\n"
     ]
    },
    {
     "name": "stdout",
     "output_type": "stream",
     "text": [
      "Processed chunk 13/341\n"
     ]
    },
    {
     "name": "stderr",
     "output_type": "stream",
     "text": [
      "Generating Samples: 100%|██████████| 10000/10000 [00:00<00:00, 13684.53it/s]\n"
     ]
    },
    {
     "name": "stdout",
     "output_type": "stream",
     "text": [
      "Processed chunk 14/341\n"
     ]
    },
    {
     "name": "stderr",
     "output_type": "stream",
     "text": [
      "Generating Samples: 100%|██████████| 10000/10000 [00:00<00:00, 14364.33it/s]\n"
     ]
    },
    {
     "name": "stdout",
     "output_type": "stream",
     "text": [
      "Processed chunk 15/341\n"
     ]
    },
    {
     "name": "stderr",
     "output_type": "stream",
     "text": [
      "Generating Samples: 100%|██████████| 10000/10000 [00:00<00:00, 14478.15it/s]\n"
     ]
    },
    {
     "name": "stdout",
     "output_type": "stream",
     "text": [
      "Processed chunk 16/341\n"
     ]
    },
    {
     "name": "stderr",
     "output_type": "stream",
     "text": [
      "Generating Samples: 100%|██████████| 10000/10000 [00:00<00:00, 14611.54it/s]\n"
     ]
    },
    {
     "name": "stdout",
     "output_type": "stream",
     "text": [
      "Processed chunk 17/341\n"
     ]
    },
    {
     "name": "stderr",
     "output_type": "stream",
     "text": [
      "Generating Samples: 100%|██████████| 10000/10000 [00:00<00:00, 14278.61it/s]\n"
     ]
    },
    {
     "name": "stdout",
     "output_type": "stream",
     "text": [
      "Processed chunk 18/341\n"
     ]
    },
    {
     "name": "stderr",
     "output_type": "stream",
     "text": [
      "Generating Samples: 100%|██████████| 10000/10000 [00:00<00:00, 14518.54it/s]\n"
     ]
    },
    {
     "name": "stdout",
     "output_type": "stream",
     "text": [
      "Processed chunk 19/341\n"
     ]
    },
    {
     "name": "stderr",
     "output_type": "stream",
     "text": [
      "Generating Samples: 100%|██████████| 10000/10000 [00:00<00:00, 14372.46it/s]\n"
     ]
    },
    {
     "name": "stdout",
     "output_type": "stream",
     "text": [
      "Processed chunk 20/341\n"
     ]
    },
    {
     "name": "stderr",
     "output_type": "stream",
     "text": [
      "Generating Samples: 100%|██████████| 10000/10000 [00:00<00:00, 14511.83it/s]\n"
     ]
    },
    {
     "name": "stdout",
     "output_type": "stream",
     "text": [
      "Processed chunk 21/341\n"
     ]
    },
    {
     "name": "stderr",
     "output_type": "stream",
     "text": [
      "Generating Samples: 100%|██████████| 10000/10000 [00:00<00:00, 14541.83it/s]\n"
     ]
    },
    {
     "name": "stdout",
     "output_type": "stream",
     "text": [
      "Processed chunk 22/341\n"
     ]
    },
    {
     "name": "stderr",
     "output_type": "stream",
     "text": [
      "Generating Samples: 100%|██████████| 10000/10000 [00:00<00:00, 14186.23it/s]\n"
     ]
    },
    {
     "name": "stdout",
     "output_type": "stream",
     "text": [
      "Processed chunk 23/341\n"
     ]
    },
    {
     "name": "stderr",
     "output_type": "stream",
     "text": [
      "Generating Samples: 100%|██████████| 10000/10000 [00:00<00:00, 14457.19it/s]\n"
     ]
    },
    {
     "name": "stdout",
     "output_type": "stream",
     "text": [
      "Processed chunk 24/341\n"
     ]
    },
    {
     "name": "stderr",
     "output_type": "stream",
     "text": [
      "Generating Samples: 100%|██████████| 10000/10000 [00:00<00:00, 14497.19it/s]\n"
     ]
    },
    {
     "name": "stdout",
     "output_type": "stream",
     "text": [
      "Processed chunk 25/341\n"
     ]
    },
    {
     "name": "stderr",
     "output_type": "stream",
     "text": [
      "Generating Samples: 100%|██████████| 10000/10000 [00:00<00:00, 14558.35it/s]\n"
     ]
    },
    {
     "name": "stdout",
     "output_type": "stream",
     "text": [
      "Processed chunk 26/341\n"
     ]
    },
    {
     "name": "stderr",
     "output_type": "stream",
     "text": [
      "Generating Samples: 100%|██████████| 10000/10000 [00:00<00:00, 14490.29it/s]\n"
     ]
    },
    {
     "name": "stdout",
     "output_type": "stream",
     "text": [
      "Processed chunk 27/341\n"
     ]
    },
    {
     "name": "stderr",
     "output_type": "stream",
     "text": [
      "Generating Samples: 100%|██████████| 10000/10000 [00:00<00:00, 14077.43it/s]\n"
     ]
    },
    {
     "name": "stdout",
     "output_type": "stream",
     "text": [
      "Processed chunk 28/341\n"
     ]
    },
    {
     "name": "stderr",
     "output_type": "stream",
     "text": [
      "Generating Samples: 100%|██████████| 10000/10000 [00:00<00:00, 14291.45it/s]\n"
     ]
    },
    {
     "name": "stdout",
     "output_type": "stream",
     "text": [
      "Processed chunk 29/341\n"
     ]
    },
    {
     "name": "stderr",
     "output_type": "stream",
     "text": [
      "Generating Samples: 100%|██████████| 10000/10000 [00:00<00:00, 14349.41it/s]\n"
     ]
    },
    {
     "name": "stdout",
     "output_type": "stream",
     "text": [
      "Processed chunk 30/341\n"
     ]
    },
    {
     "name": "stderr",
     "output_type": "stream",
     "text": [
      "Generating Samples: 100%|██████████| 10000/10000 [00:00<00:00, 14344.88it/s]\n"
     ]
    },
    {
     "name": "stdout",
     "output_type": "stream",
     "text": [
      "Processed chunk 31/341\n"
     ]
    },
    {
     "name": "stderr",
     "output_type": "stream",
     "text": [
      "Generating Samples: 100%|██████████| 10000/10000 [00:00<00:00, 14525.87it/s]\n"
     ]
    },
    {
     "name": "stdout",
     "output_type": "stream",
     "text": [
      "Processed chunk 32/341\n"
     ]
    },
    {
     "name": "stderr",
     "output_type": "stream",
     "text": [
      "Generating Samples: 100%|██████████| 10000/10000 [00:00<00:00, 14127.99it/s]\n"
     ]
    },
    {
     "name": "stdout",
     "output_type": "stream",
     "text": [
      "Processed chunk 33/341\n"
     ]
    },
    {
     "name": "stderr",
     "output_type": "stream",
     "text": [
      "Generating Samples: 100%|██████████| 10000/10000 [00:00<00:00, 14367.94it/s]\n"
     ]
    },
    {
     "name": "stdout",
     "output_type": "stream",
     "text": [
      "Processed chunk 34/341\n"
     ]
    },
    {
     "name": "stderr",
     "output_type": "stream",
     "text": [
      "Generating Samples: 100%|██████████| 10000/10000 [00:00<00:00, 14465.75it/s]\n"
     ]
    },
    {
     "name": "stdout",
     "output_type": "stream",
     "text": [
      "Processed chunk 35/341\n"
     ]
    },
    {
     "name": "stderr",
     "output_type": "stream",
     "text": [
      "Generating Samples: 100%|██████████| 10000/10000 [00:00<00:00, 14482.70it/s]\n"
     ]
    },
    {
     "name": "stdout",
     "output_type": "stream",
     "text": [
      "Processed chunk 36/341\n"
     ]
    },
    {
     "name": "stderr",
     "output_type": "stream",
     "text": [
      "Generating Samples: 100%|██████████| 10000/10000 [00:00<00:00, 14252.24it/s]\n"
     ]
    },
    {
     "name": "stdout",
     "output_type": "stream",
     "text": [
      "Processed chunk 37/341\n"
     ]
    },
    {
     "name": "stderr",
     "output_type": "stream",
     "text": [
      "Generating Samples: 100%|██████████| 10000/10000 [00:00<00:00, 14284.39it/s]\n"
     ]
    },
    {
     "name": "stdout",
     "output_type": "stream",
     "text": [
      "Processed chunk 38/341\n"
     ]
    },
    {
     "name": "stderr",
     "output_type": "stream",
     "text": [
      "Generating Samples: 100%|██████████| 10000/10000 [00:00<00:00, 14377.75it/s]\n"
     ]
    },
    {
     "name": "stdout",
     "output_type": "stream",
     "text": [
      "Processed chunk 39/341\n"
     ]
    },
    {
     "name": "stderr",
     "output_type": "stream",
     "text": [
      "Generating Samples: 100%|██████████| 10000/10000 [00:00<00:00, 14366.00it/s]\n"
     ]
    },
    {
     "name": "stdout",
     "output_type": "stream",
     "text": [
      "Processed chunk 40/341\n"
     ]
    },
    {
     "name": "stderr",
     "output_type": "stream",
     "text": [
      "Generating Samples: 100%|██████████| 10000/10000 [00:00<00:00, 14363.57it/s]\n"
     ]
    },
    {
     "name": "stdout",
     "output_type": "stream",
     "text": [
      "Processed chunk 41/341\n"
     ]
    },
    {
     "name": "stderr",
     "output_type": "stream",
     "text": [
      "Generating Samples: 100%|██████████| 10000/10000 [00:00<00:00, 14153.43it/s]\n"
     ]
    },
    {
     "name": "stdout",
     "output_type": "stream",
     "text": [
      "Processed chunk 42/341\n"
     ]
    },
    {
     "name": "stderr",
     "output_type": "stream",
     "text": [
      "Generating Samples: 100%|██████████| 10000/10000 [00:00<00:00, 14360.14it/s]\n"
     ]
    },
    {
     "name": "stdout",
     "output_type": "stream",
     "text": [
      "Processed chunk 43/341\n"
     ]
    },
    {
     "name": "stderr",
     "output_type": "stream",
     "text": [
      "Generating Samples: 100%|██████████| 10000/10000 [00:00<00:00, 14315.04it/s]\n"
     ]
    },
    {
     "name": "stdout",
     "output_type": "stream",
     "text": [
      "Processed chunk 44/341\n"
     ]
    },
    {
     "name": "stderr",
     "output_type": "stream",
     "text": [
      "Generating Samples: 100%|██████████| 10000/10000 [00:00<00:00, 14346.59it/s]\n"
     ]
    },
    {
     "name": "stdout",
     "output_type": "stream",
     "text": [
      "Processed chunk 45/341\n"
     ]
    },
    {
     "name": "stderr",
     "output_type": "stream",
     "text": [
      "Generating Samples: 100%|██████████| 10000/10000 [00:00<00:00, 14342.41it/s]\n"
     ]
    },
    {
     "name": "stdout",
     "output_type": "stream",
     "text": [
      "Processed chunk 46/341\n"
     ]
    },
    {
     "name": "stderr",
     "output_type": "stream",
     "text": [
      "Generating Samples: 100%|██████████| 10000/10000 [00:00<00:00, 13912.25it/s]\n"
     ]
    },
    {
     "name": "stdout",
     "output_type": "stream",
     "text": [
      "Processed chunk 47/341\n"
     ]
    },
    {
     "name": "stderr",
     "output_type": "stream",
     "text": [
      "Generating Samples: 100%|██████████| 10000/10000 [00:00<00:00, 14380.50it/s]\n"
     ]
    },
    {
     "name": "stdout",
     "output_type": "stream",
     "text": [
      "Processed chunk 48/341\n"
     ]
    },
    {
     "name": "stderr",
     "output_type": "stream",
     "text": [
      "Generating Samples: 100%|██████████| 10000/10000 [00:00<00:00, 14221.56it/s]\n"
     ]
    },
    {
     "name": "stdout",
     "output_type": "stream",
     "text": [
      "Processed chunk 49/341\n"
     ]
    },
    {
     "name": "stderr",
     "output_type": "stream",
     "text": [
      "Generating Samples: 100%|██████████| 10000/10000 [00:00<00:00, 14411.11it/s]\n"
     ]
    },
    {
     "name": "stdout",
     "output_type": "stream",
     "text": [
      "Processed chunk 50/341\n"
     ]
    },
    {
     "name": "stderr",
     "output_type": "stream",
     "text": [
      "Generating Samples: 100%|██████████| 10000/10000 [00:00<00:00, 14436.47it/s]\n"
     ]
    },
    {
     "name": "stdout",
     "output_type": "stream",
     "text": [
      "Processed chunk 51/341\n"
     ]
    },
    {
     "name": "stderr",
     "output_type": "stream",
     "text": [
      "Generating Samples: 100%|██████████| 10000/10000 [00:00<00:00, 14109.58it/s]\n"
     ]
    },
    {
     "name": "stdout",
     "output_type": "stream",
     "text": [
      "Processed chunk 52/341\n"
     ]
    },
    {
     "name": "stderr",
     "output_type": "stream",
     "text": [
      "Generating Samples: 100%|██████████| 10000/10000 [00:00<00:00, 14391.54it/s]\n"
     ]
    },
    {
     "name": "stdout",
     "output_type": "stream",
     "text": [
      "Processed chunk 53/341\n"
     ]
    },
    {
     "name": "stderr",
     "output_type": "stream",
     "text": [
      "Generating Samples: 100%|██████████| 10000/10000 [00:00<00:00, 14397.46it/s]\n"
     ]
    },
    {
     "name": "stdout",
     "output_type": "stream",
     "text": [
      "Processed chunk 54/341\n"
     ]
    },
    {
     "name": "stderr",
     "output_type": "stream",
     "text": [
      "Generating Samples: 100%|██████████| 10000/10000 [00:00<00:00, 14069.21it/s]\n"
     ]
    },
    {
     "name": "stdout",
     "output_type": "stream",
     "text": [
      "Processed chunk 55/341\n"
     ]
    },
    {
     "name": "stderr",
     "output_type": "stream",
     "text": [
      "Generating Samples: 100%|██████████| 10000/10000 [00:00<00:00, 14351.36it/s]\n"
     ]
    },
    {
     "name": "stdout",
     "output_type": "stream",
     "text": [
      "Processed chunk 56/341\n"
     ]
    },
    {
     "name": "stderr",
     "output_type": "stream",
     "text": [
      "Generating Samples: 100%|██████████| 10000/10000 [00:00<00:00, 14315.66it/s]\n"
     ]
    },
    {
     "name": "stdout",
     "output_type": "stream",
     "text": [
      "Processed chunk 57/341\n"
     ]
    },
    {
     "name": "stderr",
     "output_type": "stream",
     "text": [
      "Generating Samples: 100%|██████████| 10000/10000 [00:00<00:00, 14320.24it/s]\n"
     ]
    },
    {
     "name": "stdout",
     "output_type": "stream",
     "text": [
      "Processed chunk 58/341\n"
     ]
    },
    {
     "name": "stderr",
     "output_type": "stream",
     "text": [
      "Generating Samples: 100%|██████████| 10000/10000 [00:00<00:00, 14060.19it/s]\n"
     ]
    },
    {
     "name": "stdout",
     "output_type": "stream",
     "text": [
      "Processed chunk 59/341\n"
     ]
    },
    {
     "name": "stderr",
     "output_type": "stream",
     "text": [
      "Generating Samples: 100%|██████████| 10000/10000 [00:00<00:00, 14407.13it/s]\n"
     ]
    },
    {
     "name": "stdout",
     "output_type": "stream",
     "text": [
      "Processed chunk 60/341\n"
     ]
    },
    {
     "name": "stderr",
     "output_type": "stream",
     "text": [
      "Generating Samples: 100%|██████████| 10000/10000 [00:00<00:00, 14139.03it/s]\n"
     ]
    },
    {
     "name": "stdout",
     "output_type": "stream",
     "text": [
      "Processed chunk 61/341\n"
     ]
    },
    {
     "name": "stderr",
     "output_type": "stream",
     "text": [
      "Generating Samples: 100%|██████████| 10000/10000 [00:00<00:00, 14332.97it/s]\n"
     ]
    },
    {
     "name": "stdout",
     "output_type": "stream",
     "text": [
      "Processed chunk 62/341\n"
     ]
    },
    {
     "name": "stderr",
     "output_type": "stream",
     "text": [
      "Generating Samples: 100%|██████████| 10000/10000 [00:00<00:00, 14305.21it/s]\n"
     ]
    },
    {
     "name": "stdout",
     "output_type": "stream",
     "text": [
      "Processed chunk 63/341\n"
     ]
    },
    {
     "name": "stderr",
     "output_type": "stream",
     "text": [
      "Generating Samples: 100%|██████████| 10000/10000 [00:00<00:00, 14109.67it/s]\n"
     ]
    },
    {
     "name": "stdout",
     "output_type": "stream",
     "text": [
      "Processed chunk 64/341\n"
     ]
    },
    {
     "name": "stderr",
     "output_type": "stream",
     "text": [
      "Generating Samples: 100%|██████████| 10000/10000 [00:00<00:00, 14475.05it/s]\n"
     ]
    },
    {
     "name": "stdout",
     "output_type": "stream",
     "text": [
      "Processed chunk 65/341\n"
     ]
    },
    {
     "name": "stderr",
     "output_type": "stream",
     "text": [
      "Generating Samples: 100%|██████████| 10000/10000 [00:00<00:00, 14428.43it/s]\n"
     ]
    },
    {
     "name": "stdout",
     "output_type": "stream",
     "text": [
      "Processed chunk 66/341\n"
     ]
    },
    {
     "name": "stderr",
     "output_type": "stream",
     "text": [
      "Generating Samples: 100%|██████████| 10000/10000 [00:00<00:00, 14425.33it/s]\n"
     ]
    },
    {
     "name": "stdout",
     "output_type": "stream",
     "text": [
      "Processed chunk 67/341\n"
     ]
    },
    {
     "name": "stderr",
     "output_type": "stream",
     "text": [
      "Generating Samples: 100%|██████████| 10000/10000 [00:00<00:00, 13999.95it/s]\n"
     ]
    },
    {
     "name": "stdout",
     "output_type": "stream",
     "text": [
      "Processed chunk 68/341\n"
     ]
    },
    {
     "name": "stderr",
     "output_type": "stream",
     "text": [
      "Generating Samples: 100%|██████████| 10000/10000 [00:00<00:00, 14282.55it/s]\n"
     ]
    },
    {
     "name": "stdout",
     "output_type": "stream",
     "text": [
      "Processed chunk 69/341\n"
     ]
    },
    {
     "name": "stderr",
     "output_type": "stream",
     "text": [
      "Generating Samples: 100%|██████████| 10000/10000 [00:00<00:00, 14421.68it/s]\n"
     ]
    },
    {
     "name": "stdout",
     "output_type": "stream",
     "text": [
      "Processed chunk 70/341\n"
     ]
    },
    {
     "name": "stderr",
     "output_type": "stream",
     "text": [
      "Generating Samples: 100%|██████████| 10000/10000 [00:00<00:00, 14277.92it/s]\n"
     ]
    },
    {
     "name": "stdout",
     "output_type": "stream",
     "text": [
      "Processed chunk 71/341\n"
     ]
    },
    {
     "name": "stderr",
     "output_type": "stream",
     "text": [
      "Generating Samples: 100%|██████████| 10000/10000 [00:00<00:00, 14186.41it/s]\n"
     ]
    },
    {
     "name": "stdout",
     "output_type": "stream",
     "text": [
      "Processed chunk 72/341\n"
     ]
    },
    {
     "name": "stderr",
     "output_type": "stream",
     "text": [
      "Generating Samples: 100%|██████████| 10000/10000 [00:00<00:00, 14369.62it/s]\n"
     ]
    },
    {
     "name": "stdout",
     "output_type": "stream",
     "text": [
      "Processed chunk 73/341\n"
     ]
    },
    {
     "name": "stderr",
     "output_type": "stream",
     "text": [
      "Generating Samples: 100%|██████████| 10000/10000 [00:00<00:00, 13933.48it/s]\n"
     ]
    },
    {
     "name": "stdout",
     "output_type": "stream",
     "text": [
      "Processed chunk 74/341\n"
     ]
    },
    {
     "name": "stderr",
     "output_type": "stream",
     "text": [
      "Generating Samples: 100%|██████████| 10000/10000 [00:00<00:00, 13709.13it/s]\n"
     ]
    },
    {
     "name": "stdout",
     "output_type": "stream",
     "text": [
      "Processed chunk 75/341\n"
     ]
    },
    {
     "name": "stderr",
     "output_type": "stream",
     "text": [
      "Generating Samples: 100%|██████████| 10000/10000 [00:00<00:00, 14104.19it/s]\n"
     ]
    },
    {
     "name": "stdout",
     "output_type": "stream",
     "text": [
      "Processed chunk 76/341\n"
     ]
    },
    {
     "name": "stderr",
     "output_type": "stream",
     "text": [
      "Generating Samples: 100%|██████████| 10000/10000 [00:00<00:00, 14302.67it/s]\n"
     ]
    },
    {
     "name": "stdout",
     "output_type": "stream",
     "text": [
      "Processed chunk 77/341\n"
     ]
    },
    {
     "name": "stderr",
     "output_type": "stream",
     "text": [
      "Generating Samples: 100%|██████████| 10000/10000 [00:00<00:00, 14401.66it/s]\n"
     ]
    },
    {
     "name": "stdout",
     "output_type": "stream",
     "text": [
      "Processed chunk 78/341\n"
     ]
    },
    {
     "name": "stderr",
     "output_type": "stream",
     "text": [
      "Generating Samples: 100%|██████████| 10000/10000 [00:00<00:00, 14433.57it/s]\n"
     ]
    },
    {
     "name": "stdout",
     "output_type": "stream",
     "text": [
      "Processed chunk 79/341\n"
     ]
    },
    {
     "name": "stderr",
     "output_type": "stream",
     "text": [
      "Generating Samples: 100%|██████████| 10000/10000 [00:00<00:00, 14008.40it/s]\n"
     ]
    },
    {
     "name": "stdout",
     "output_type": "stream",
     "text": [
      "Processed chunk 80/341\n"
     ]
    },
    {
     "name": "stderr",
     "output_type": "stream",
     "text": [
      "Generating Samples: 100%|██████████| 10000/10000 [00:00<00:00, 14225.15it/s]\n"
     ]
    },
    {
     "name": "stdout",
     "output_type": "stream",
     "text": [
      "Processed chunk 81/341\n"
     ]
    },
    {
     "name": "stderr",
     "output_type": "stream",
     "text": [
      "Generating Samples: 100%|██████████| 10000/10000 [00:00<00:00, 14398.06it/s]\n"
     ]
    },
    {
     "name": "stdout",
     "output_type": "stream",
     "text": [
      "Processed chunk 82/341\n"
     ]
    },
    {
     "name": "stderr",
     "output_type": "stream",
     "text": [
      "Generating Samples: 100%|██████████| 10000/10000 [00:00<00:00, 14450.89it/s]\n"
     ]
    },
    {
     "name": "stdout",
     "output_type": "stream",
     "text": [
      "Processed chunk 83/341\n"
     ]
    },
    {
     "name": "stderr",
     "output_type": "stream",
     "text": [
      "Generating Samples: 100%|██████████| 10000/10000 [00:00<00:00, 14074.57it/s]\n"
     ]
    },
    {
     "name": "stdout",
     "output_type": "stream",
     "text": [
      "Processed chunk 84/341\n"
     ]
    },
    {
     "name": "stderr",
     "output_type": "stream",
     "text": [
      "Generating Samples: 100%|██████████| 10000/10000 [00:00<00:00, 14301.97it/s]\n"
     ]
    },
    {
     "name": "stdout",
     "output_type": "stream",
     "text": [
      "Processed chunk 85/341\n"
     ]
    },
    {
     "name": "stderr",
     "output_type": "stream",
     "text": [
      "Generating Samples: 100%|██████████| 10000/10000 [00:00<00:00, 14325.82it/s]\n"
     ]
    },
    {
     "name": "stdout",
     "output_type": "stream",
     "text": [
      "Processed chunk 86/341\n"
     ]
    },
    {
     "name": "stderr",
     "output_type": "stream",
     "text": [
      "Generating Samples: 100%|██████████| 10000/10000 [00:00<00:00, 14266.66it/s]\n"
     ]
    },
    {
     "name": "stdout",
     "output_type": "stream",
     "text": [
      "Processed chunk 87/341\n"
     ]
    },
    {
     "name": "stderr",
     "output_type": "stream",
     "text": [
      "Generating Samples: 100%|██████████| 10000/10000 [00:00<00:00, 14337.99it/s]\n"
     ]
    },
    {
     "name": "stdout",
     "output_type": "stream",
     "text": [
      "Processed chunk 88/341\n"
     ]
    },
    {
     "name": "stderr",
     "output_type": "stream",
     "text": [
      "Generating Samples: 100%|██████████| 10000/10000 [00:00<00:00, 13997.76it/s]\n"
     ]
    },
    {
     "name": "stdout",
     "output_type": "stream",
     "text": [
      "Processed chunk 89/341\n"
     ]
    },
    {
     "name": "stderr",
     "output_type": "stream",
     "text": [
      "Generating Samples: 100%|██████████| 10000/10000 [00:00<00:00, 14243.54it/s]\n"
     ]
    },
    {
     "name": "stdout",
     "output_type": "stream",
     "text": [
      "Processed chunk 90/341\n"
     ]
    },
    {
     "name": "stderr",
     "output_type": "stream",
     "text": [
      "Generating Samples: 100%|██████████| 10000/10000 [00:00<00:00, 14359.27it/s]\n"
     ]
    },
    {
     "name": "stdout",
     "output_type": "stream",
     "text": [
      "Processed chunk 91/341\n"
     ]
    },
    {
     "name": "stderr",
     "output_type": "stream",
     "text": [
      "Generating Samples: 100%|██████████| 10000/10000 [00:00<00:00, 14361.69it/s]\n"
     ]
    },
    {
     "name": "stdout",
     "output_type": "stream",
     "text": [
      "Processed chunk 92/341\n"
     ]
    },
    {
     "name": "stderr",
     "output_type": "stream",
     "text": [
      "Generating Samples: 100%|██████████| 10000/10000 [00:00<00:00, 14058.78it/s]\n"
     ]
    },
    {
     "name": "stdout",
     "output_type": "stream",
     "text": [
      "Processed chunk 93/341\n"
     ]
    },
    {
     "name": "stderr",
     "output_type": "stream",
     "text": [
      "Generating Samples: 100%|██████████| 10000/10000 [00:00<00:00, 14164.10it/s]\n"
     ]
    },
    {
     "name": "stdout",
     "output_type": "stream",
     "text": [
      "Processed chunk 94/341\n"
     ]
    },
    {
     "name": "stderr",
     "output_type": "stream",
     "text": [
      "Generating Samples: 100%|██████████| 10000/10000 [00:00<00:00, 14288.06it/s]\n"
     ]
    },
    {
     "name": "stdout",
     "output_type": "stream",
     "text": [
      "Processed chunk 95/341\n"
     ]
    },
    {
     "name": "stderr",
     "output_type": "stream",
     "text": [
      "Generating Samples: 100%|██████████| 10000/10000 [00:00<00:00, 14355.73it/s]\n"
     ]
    },
    {
     "name": "stdout",
     "output_type": "stream",
     "text": [
      "Processed chunk 96/341\n"
     ]
    },
    {
     "name": "stderr",
     "output_type": "stream",
     "text": [
      "Generating Samples: 100%|██████████| 10000/10000 [00:00<00:00, 14362.19it/s]\n"
     ]
    },
    {
     "name": "stdout",
     "output_type": "stream",
     "text": [
      "Processed chunk 97/341\n"
     ]
    },
    {
     "name": "stderr",
     "output_type": "stream",
     "text": [
      "Generating Samples: 100%|██████████| 10000/10000 [00:00<00:00, 14085.59it/s]\n"
     ]
    },
    {
     "name": "stdout",
     "output_type": "stream",
     "text": [
      "Processed chunk 98/341\n"
     ]
    },
    {
     "name": "stderr",
     "output_type": "stream",
     "text": [
      "Generating Samples: 100%|██████████| 10000/10000 [00:00<00:00, 14360.51it/s]\n"
     ]
    },
    {
     "name": "stdout",
     "output_type": "stream",
     "text": [
      "Processed chunk 99/341\n"
     ]
    },
    {
     "name": "stderr",
     "output_type": "stream",
     "text": [
      "Generating Samples: 100%|██████████| 10000/10000 [00:00<00:00, 14176.69it/s]\n"
     ]
    },
    {
     "name": "stdout",
     "output_type": "stream",
     "text": [
      "Processed chunk 100/341\n"
     ]
    },
    {
     "name": "stderr",
     "output_type": "stream",
     "text": [
      "Generating Samples: 100%|██████████| 10000/10000 [00:00<00:00, 14061.77it/s]\n"
     ]
    },
    {
     "name": "stdout",
     "output_type": "stream",
     "text": [
      "Processed chunk 101/341\n"
     ]
    },
    {
     "name": "stderr",
     "output_type": "stream",
     "text": [
      "Generating Samples: 100%|██████████| 10000/10000 [00:00<00:00, 13976.35it/s]\n"
     ]
    },
    {
     "name": "stdout",
     "output_type": "stream",
     "text": [
      "Processed chunk 102/341\n"
     ]
    },
    {
     "name": "stderr",
     "output_type": "stream",
     "text": [
      "Generating Samples: 100%|██████████| 10000/10000 [00:00<00:00, 14192.97it/s]\n"
     ]
    },
    {
     "name": "stdout",
     "output_type": "stream",
     "text": [
      "Processed chunk 103/341\n"
     ]
    },
    {
     "name": "stderr",
     "output_type": "stream",
     "text": [
      "Generating Samples: 100%|██████████| 10000/10000 [00:00<00:00, 14205.94it/s]\n"
     ]
    },
    {
     "name": "stdout",
     "output_type": "stream",
     "text": [
      "Processed chunk 104/341\n"
     ]
    },
    {
     "name": "stderr",
     "output_type": "stream",
     "text": [
      "Generating Samples: 100%|██████████| 10000/10000 [00:00<00:00, 14300.28it/s]\n"
     ]
    },
    {
     "name": "stdout",
     "output_type": "stream",
     "text": [
      "Processed chunk 105/341\n"
     ]
    },
    {
     "name": "stderr",
     "output_type": "stream",
     "text": [
      "Generating Samples: 100%|██████████| 10000/10000 [00:00<00:00, 14289.55it/s]\n"
     ]
    },
    {
     "name": "stdout",
     "output_type": "stream",
     "text": [
      "Processed chunk 106/341\n"
     ]
    },
    {
     "name": "stderr",
     "output_type": "stream",
     "text": [
      "Generating Samples: 100%|██████████| 10000/10000 [00:00<00:00, 14239.74it/s]\n"
     ]
    },
    {
     "name": "stdout",
     "output_type": "stream",
     "text": [
      "Processed chunk 107/341\n"
     ]
    },
    {
     "name": "stderr",
     "output_type": "stream",
     "text": [
      "Generating Samples: 100%|██████████| 10000/10000 [00:00<00:00, 14200.75it/s]\n"
     ]
    },
    {
     "name": "stdout",
     "output_type": "stream",
     "text": [
      "Processed chunk 108/341\n"
     ]
    },
    {
     "name": "stderr",
     "output_type": "stream",
     "text": [
      "Generating Samples: 100%|██████████| 10000/10000 [00:00<00:00, 14266.18it/s]\n"
     ]
    },
    {
     "name": "stdout",
     "output_type": "stream",
     "text": [
      "Processed chunk 109/341\n"
     ]
    },
    {
     "name": "stderr",
     "output_type": "stream",
     "text": [
      "Generating Samples: 100%|██████████| 10000/10000 [00:00<00:00, 14282.51it/s]\n"
     ]
    },
    {
     "name": "stdout",
     "output_type": "stream",
     "text": [
      "Processed chunk 110/341\n"
     ]
    },
    {
     "name": "stderr",
     "output_type": "stream",
     "text": [
      "Generating Samples: 100%|██████████| 10000/10000 [00:00<00:00, 13970.79it/s]\n"
     ]
    },
    {
     "name": "stdout",
     "output_type": "stream",
     "text": [
      "Processed chunk 111/341\n"
     ]
    },
    {
     "name": "stderr",
     "output_type": "stream",
     "text": [
      "Generating Samples: 100%|██████████| 10000/10000 [00:00<00:00, 14288.65it/s]\n"
     ]
    },
    {
     "name": "stdout",
     "output_type": "stream",
     "text": [
      "Processed chunk 112/341\n"
     ]
    },
    {
     "name": "stderr",
     "output_type": "stream",
     "text": [
      "Generating Samples: 100%|██████████| 10000/10000 [00:00<00:00, 14156.43it/s]\n"
     ]
    },
    {
     "name": "stdout",
     "output_type": "stream",
     "text": [
      "Processed chunk 113/341\n"
     ]
    },
    {
     "name": "stderr",
     "output_type": "stream",
     "text": [
      "Generating Samples: 100%|██████████| 10000/10000 [00:00<00:00, 14122.56it/s]\n"
     ]
    },
    {
     "name": "stdout",
     "output_type": "stream",
     "text": [
      "Processed chunk 114/341\n"
     ]
    },
    {
     "name": "stderr",
     "output_type": "stream",
     "text": [
      "Generating Samples: 100%|██████████| 10000/10000 [00:00<00:00, 13999.92it/s]\n"
     ]
    },
    {
     "name": "stdout",
     "output_type": "stream",
     "text": [
      "Processed chunk 115/341\n"
     ]
    },
    {
     "name": "stderr",
     "output_type": "stream",
     "text": [
      "Generating Samples: 100%|██████████| 10000/10000 [00:00<00:00, 14302.02it/s]\n"
     ]
    },
    {
     "name": "stdout",
     "output_type": "stream",
     "text": [
      "Processed chunk 116/341\n"
     ]
    },
    {
     "name": "stderr",
     "output_type": "stream",
     "text": [
      "Generating Samples: 100%|██████████| 10000/10000 [00:00<00:00, 14192.95it/s]\n"
     ]
    },
    {
     "name": "stdout",
     "output_type": "stream",
     "text": [
      "Processed chunk 117/341\n"
     ]
    },
    {
     "name": "stderr",
     "output_type": "stream",
     "text": [
      "Generating Samples: 100%|██████████| 10000/10000 [00:00<00:00, 14261.47it/s]\n"
     ]
    },
    {
     "name": "stdout",
     "output_type": "stream",
     "text": [
      "Processed chunk 118/341\n"
     ]
    },
    {
     "name": "stderr",
     "output_type": "stream",
     "text": [
      "Generating Samples: 100%|██████████| 10000/10000 [00:00<00:00, 13879.60it/s]\n"
     ]
    },
    {
     "name": "stdout",
     "output_type": "stream",
     "text": [
      "Processed chunk 119/341\n"
     ]
    },
    {
     "name": "stderr",
     "output_type": "stream",
     "text": [
      "Generating Samples: 100%|██████████| 10000/10000 [00:00<00:00, 14090.52it/s]\n"
     ]
    },
    {
     "name": "stdout",
     "output_type": "stream",
     "text": [
      "Processed chunk 120/341\n"
     ]
    },
    {
     "name": "stderr",
     "output_type": "stream",
     "text": [
      "Generating Samples: 100%|██████████| 10000/10000 [00:00<00:00, 14199.61it/s]\n"
     ]
    },
    {
     "name": "stdout",
     "output_type": "stream",
     "text": [
      "Processed chunk 121/341\n"
     ]
    },
    {
     "name": "stderr",
     "output_type": "stream",
     "text": [
      "Generating Samples: 100%|██████████| 10000/10000 [00:00<00:00, 14309.34it/s]\n"
     ]
    },
    {
     "name": "stdout",
     "output_type": "stream",
     "text": [
      "Processed chunk 122/341\n"
     ]
    },
    {
     "name": "stderr",
     "output_type": "stream",
     "text": [
      "Generating Samples: 100%|██████████| 10000/10000 [00:00<00:00, 14259.25it/s]\n"
     ]
    },
    {
     "name": "stdout",
     "output_type": "stream",
     "text": [
      "Processed chunk 123/341\n"
     ]
    },
    {
     "name": "stderr",
     "output_type": "stream",
     "text": [
      "Generating Samples: 100%|██████████| 10000/10000 [00:00<00:00, 14222.53it/s]\n"
     ]
    },
    {
     "name": "stdout",
     "output_type": "stream",
     "text": [
      "Processed chunk 124/341\n"
     ]
    },
    {
     "name": "stderr",
     "output_type": "stream",
     "text": [
      "Generating Samples: 100%|██████████| 10000/10000 [00:00<00:00, 14086.02it/s]\n"
     ]
    },
    {
     "name": "stdout",
     "output_type": "stream",
     "text": [
      "Processed chunk 125/341\n"
     ]
    },
    {
     "name": "stderr",
     "output_type": "stream",
     "text": [
      "Generating Samples: 100%|██████████| 10000/10000 [00:00<00:00, 13804.15it/s]\n"
     ]
    },
    {
     "name": "stdout",
     "output_type": "stream",
     "text": [
      "Processed chunk 126/341\n"
     ]
    },
    {
     "name": "stderr",
     "output_type": "stream",
     "text": [
      "Generating Samples: 100%|██████████| 10000/10000 [00:00<00:00, 13945.02it/s]\n"
     ]
    },
    {
     "name": "stdout",
     "output_type": "stream",
     "text": [
      "Processed chunk 127/341\n"
     ]
    },
    {
     "name": "stderr",
     "output_type": "stream",
     "text": [
      "Generating Samples: 100%|██████████| 10000/10000 [00:00<00:00, 13662.10it/s]\n"
     ]
    },
    {
     "name": "stdout",
     "output_type": "stream",
     "text": [
      "Processed chunk 128/341\n"
     ]
    },
    {
     "name": "stderr",
     "output_type": "stream",
     "text": [
      "Generating Samples: 100%|██████████| 10000/10000 [00:00<00:00, 14150.19it/s]\n"
     ]
    },
    {
     "name": "stdout",
     "output_type": "stream",
     "text": [
      "Processed chunk 129/341\n"
     ]
    },
    {
     "name": "stderr",
     "output_type": "stream",
     "text": [
      "Generating Samples: 100%|██████████| 10000/10000 [00:00<00:00, 14108.49it/s]\n"
     ]
    },
    {
     "name": "stdout",
     "output_type": "stream",
     "text": [
      "Processed chunk 130/341\n"
     ]
    },
    {
     "name": "stderr",
     "output_type": "stream",
     "text": [
      "Generating Samples: 100%|██████████| 10000/10000 [00:00<00:00, 14154.32it/s]\n"
     ]
    },
    {
     "name": "stdout",
     "output_type": "stream",
     "text": [
      "Processed chunk 131/341\n"
     ]
    },
    {
     "name": "stderr",
     "output_type": "stream",
     "text": [
      "Generating Samples: 100%|██████████| 10000/10000 [00:00<00:00, 13819.91it/s]\n"
     ]
    },
    {
     "name": "stdout",
     "output_type": "stream",
     "text": [
      "Processed chunk 132/341\n"
     ]
    },
    {
     "name": "stderr",
     "output_type": "stream",
     "text": [
      "Generating Samples: 100%|██████████| 10000/10000 [00:00<00:00, 14090.88it/s]\n"
     ]
    },
    {
     "name": "stdout",
     "output_type": "stream",
     "text": [
      "Processed chunk 133/341\n"
     ]
    },
    {
     "name": "stderr",
     "output_type": "stream",
     "text": [
      "Generating Samples: 100%|██████████| 10000/10000 [00:00<00:00, 13593.85it/s]\n"
     ]
    },
    {
     "name": "stdout",
     "output_type": "stream",
     "text": [
      "Processed chunk 134/341\n"
     ]
    },
    {
     "name": "stderr",
     "output_type": "stream",
     "text": [
      "Generating Samples: 100%|██████████| 10000/10000 [00:00<00:00, 13622.68it/s]\n"
     ]
    },
    {
     "name": "stdout",
     "output_type": "stream",
     "text": [
      "Processed chunk 135/341\n"
     ]
    },
    {
     "name": "stderr",
     "output_type": "stream",
     "text": [
      "Generating Samples: 100%|██████████| 10000/10000 [00:00<00:00, 14287.43it/s]\n"
     ]
    },
    {
     "name": "stdout",
     "output_type": "stream",
     "text": [
      "Processed chunk 136/341\n"
     ]
    },
    {
     "name": "stderr",
     "output_type": "stream",
     "text": [
      "Generating Samples: 100%|██████████| 10000/10000 [00:00<00:00, 14317.44it/s]\n"
     ]
    },
    {
     "name": "stdout",
     "output_type": "stream",
     "text": [
      "Processed chunk 137/341\n"
     ]
    },
    {
     "name": "stderr",
     "output_type": "stream",
     "text": [
      "Generating Samples: 100%|██████████| 10000/10000 [00:00<00:00, 14231.29it/s]\n"
     ]
    },
    {
     "name": "stdout",
     "output_type": "stream",
     "text": [
      "Processed chunk 138/341\n"
     ]
    },
    {
     "name": "stderr",
     "output_type": "stream",
     "text": [
      "Generating Samples: 100%|██████████| 10000/10000 [00:00<00:00, 14261.43it/s]\n"
     ]
    },
    {
     "name": "stdout",
     "output_type": "stream",
     "text": [
      "Processed chunk 139/341\n"
     ]
    },
    {
     "name": "stderr",
     "output_type": "stream",
     "text": [
      "Generating Samples: 100%|██████████| 10000/10000 [00:00<00:00, 13805.46it/s]\n"
     ]
    },
    {
     "name": "stdout",
     "output_type": "stream",
     "text": [
      "Processed chunk 140/341\n"
     ]
    },
    {
     "name": "stderr",
     "output_type": "stream",
     "text": [
      "Generating Samples: 100%|██████████| 10000/10000 [00:00<00:00, 13993.78it/s]\n"
     ]
    },
    {
     "name": "stdout",
     "output_type": "stream",
     "text": [
      "Processed chunk 141/341\n"
     ]
    },
    {
     "name": "stderr",
     "output_type": "stream",
     "text": [
      "Generating Samples: 100%|██████████| 10000/10000 [00:00<00:00, 13859.43it/s]\n"
     ]
    },
    {
     "name": "stdout",
     "output_type": "stream",
     "text": [
      "Processed chunk 142/341\n"
     ]
    },
    {
     "name": "stderr",
     "output_type": "stream",
     "text": [
      "Generating Samples: 100%|██████████| 10000/10000 [00:00<00:00, 14045.24it/s]\n"
     ]
    },
    {
     "name": "stdout",
     "output_type": "stream",
     "text": [
      "Processed chunk 143/341\n"
     ]
    },
    {
     "name": "stderr",
     "output_type": "stream",
     "text": [
      "Generating Samples: 100%|██████████| 10000/10000 [00:00<00:00, 13877.06it/s]\n"
     ]
    },
    {
     "name": "stdout",
     "output_type": "stream",
     "text": [
      "Processed chunk 144/341\n"
     ]
    },
    {
     "name": "stderr",
     "output_type": "stream",
     "text": [
      "Generating Samples: 100%|██████████| 10000/10000 [00:00<00:00, 14079.97it/s]\n"
     ]
    },
    {
     "name": "stdout",
     "output_type": "stream",
     "text": [
      "Processed chunk 145/341\n"
     ]
    },
    {
     "name": "stderr",
     "output_type": "stream",
     "text": [
      "Generating Samples: 100%|██████████| 10000/10000 [00:00<00:00, 14082.74it/s]\n"
     ]
    },
    {
     "name": "stdout",
     "output_type": "stream",
     "text": [
      "Processed chunk 146/341\n"
     ]
    },
    {
     "name": "stderr",
     "output_type": "stream",
     "text": [
      "Generating Samples: 100%|██████████| 10000/10000 [00:00<00:00, 13634.33it/s]\n"
     ]
    },
    {
     "name": "stdout",
     "output_type": "stream",
     "text": [
      "Processed chunk 147/341\n"
     ]
    },
    {
     "name": "stderr",
     "output_type": "stream",
     "text": [
      "Generating Samples: 100%|██████████| 10000/10000 [00:00<00:00, 13651.47it/s]\n"
     ]
    },
    {
     "name": "stdout",
     "output_type": "stream",
     "text": [
      "Processed chunk 148/341\n"
     ]
    },
    {
     "name": "stderr",
     "output_type": "stream",
     "text": [
      "Generating Samples: 100%|██████████| 10000/10000 [00:00<00:00, 13938.41it/s]\n"
     ]
    },
    {
     "name": "stdout",
     "output_type": "stream",
     "text": [
      "Processed chunk 149/341\n"
     ]
    },
    {
     "name": "stderr",
     "output_type": "stream",
     "text": [
      "Generating Samples: 100%|██████████| 10000/10000 [00:00<00:00, 14159.37it/s]\n"
     ]
    },
    {
     "name": "stdout",
     "output_type": "stream",
     "text": [
      "Processed chunk 150/341\n"
     ]
    },
    {
     "name": "stderr",
     "output_type": "stream",
     "text": [
      "Generating Samples: 100%|██████████| 10000/10000 [00:00<00:00, 14015.20it/s]\n"
     ]
    },
    {
     "name": "stdout",
     "output_type": "stream",
     "text": [
      "Processed chunk 151/341\n"
     ]
    },
    {
     "name": "stderr",
     "output_type": "stream",
     "text": [
      "Generating Samples: 100%|██████████| 10000/10000 [00:00<00:00, 14199.50it/s]\n"
     ]
    },
    {
     "name": "stdout",
     "output_type": "stream",
     "text": [
      "Processed chunk 152/341\n"
     ]
    },
    {
     "name": "stderr",
     "output_type": "stream",
     "text": [
      "Generating Samples: 100%|██████████| 10000/10000 [00:00<00:00, 14238.59it/s]\n"
     ]
    },
    {
     "name": "stdout",
     "output_type": "stream",
     "text": [
      "Processed chunk 153/341\n"
     ]
    },
    {
     "name": "stderr",
     "output_type": "stream",
     "text": [
      "Generating Samples: 100%|██████████| 10000/10000 [00:00<00:00, 14192.47it/s]\n"
     ]
    },
    {
     "name": "stdout",
     "output_type": "stream",
     "text": [
      "Processed chunk 154/341\n"
     ]
    },
    {
     "name": "stderr",
     "output_type": "stream",
     "text": [
      "Generating Samples: 100%|██████████| 10000/10000 [00:00<00:00, 14197.22it/s]\n"
     ]
    },
    {
     "name": "stdout",
     "output_type": "stream",
     "text": [
      "Processed chunk 155/341\n"
     ]
    },
    {
     "name": "stderr",
     "output_type": "stream",
     "text": [
      "Generating Samples: 100%|██████████| 10000/10000 [00:00<00:00, 14292.51it/s]\n"
     ]
    },
    {
     "name": "stdout",
     "output_type": "stream",
     "text": [
      "Processed chunk 156/341\n"
     ]
    },
    {
     "name": "stderr",
     "output_type": "stream",
     "text": [
      "Generating Samples: 100%|██████████| 10000/10000 [00:00<00:00, 13703.75it/s]\n"
     ]
    },
    {
     "name": "stdout",
     "output_type": "stream",
     "text": [
      "Processed chunk 157/341\n"
     ]
    },
    {
     "name": "stderr",
     "output_type": "stream",
     "text": [
      "Generating Samples: 100%|██████████| 10000/10000 [00:00<00:00, 14185.76it/s]\n"
     ]
    },
    {
     "name": "stdout",
     "output_type": "stream",
     "text": [
      "Processed chunk 158/341\n"
     ]
    },
    {
     "name": "stderr",
     "output_type": "stream",
     "text": [
      "Generating Samples: 100%|██████████| 10000/10000 [00:00<00:00, 14255.51it/s]\n"
     ]
    },
    {
     "name": "stdout",
     "output_type": "stream",
     "text": [
      "Processed chunk 159/341\n"
     ]
    },
    {
     "name": "stderr",
     "output_type": "stream",
     "text": [
      "Generating Samples: 100%|██████████| 10000/10000 [00:00<00:00, 14208.34it/s]\n"
     ]
    },
    {
     "name": "stdout",
     "output_type": "stream",
     "text": [
      "Processed chunk 160/341\n"
     ]
    },
    {
     "name": "stderr",
     "output_type": "stream",
     "text": [
      "Generating Samples: 100%|██████████| 10000/10000 [00:00<00:00, 13924.40it/s]\n"
     ]
    },
    {
     "name": "stdout",
     "output_type": "stream",
     "text": [
      "Processed chunk 161/341\n"
     ]
    },
    {
     "name": "stderr",
     "output_type": "stream",
     "text": [
      "Generating Samples: 100%|██████████| 10000/10000 [00:00<00:00, 14176.94it/s]\n"
     ]
    },
    {
     "name": "stdout",
     "output_type": "stream",
     "text": [
      "Processed chunk 162/341\n"
     ]
    },
    {
     "name": "stderr",
     "output_type": "stream",
     "text": [
      "Generating Samples: 100%|██████████| 10000/10000 [00:00<00:00, 13991.59it/s]\n"
     ]
    },
    {
     "name": "stdout",
     "output_type": "stream",
     "text": [
      "Processed chunk 163/341\n"
     ]
    },
    {
     "name": "stderr",
     "output_type": "stream",
     "text": [
      "Generating Samples: 100%|██████████| 10000/10000 [00:00<00:00, 14184.80it/s]\n"
     ]
    },
    {
     "name": "stdout",
     "output_type": "stream",
     "text": [
      "Processed chunk 164/341\n"
     ]
    },
    {
     "name": "stderr",
     "output_type": "stream",
     "text": [
      "Generating Samples: 100%|██████████| 10000/10000 [00:00<00:00, 14156.22it/s]\n"
     ]
    },
    {
     "name": "stdout",
     "output_type": "stream",
     "text": [
      "Processed chunk 165/341\n"
     ]
    },
    {
     "name": "stderr",
     "output_type": "stream",
     "text": [
      "Generating Samples: 100%|██████████| 10000/10000 [00:00<00:00, 13886.62it/s]\n"
     ]
    },
    {
     "name": "stdout",
     "output_type": "stream",
     "text": [
      "Processed chunk 166/341\n"
     ]
    },
    {
     "name": "stderr",
     "output_type": "stream",
     "text": [
      "Generating Samples: 100%|██████████| 10000/10000 [00:00<00:00, 14080.27it/s]\n"
     ]
    },
    {
     "name": "stdout",
     "output_type": "stream",
     "text": [
      "Processed chunk 167/341\n"
     ]
    },
    {
     "name": "stderr",
     "output_type": "stream",
     "text": [
      "Generating Samples: 100%|██████████| 10000/10000 [00:00<00:00, 14249.05it/s]\n"
     ]
    },
    {
     "name": "stdout",
     "output_type": "stream",
     "text": [
      "Processed chunk 168/341\n"
     ]
    },
    {
     "name": "stderr",
     "output_type": "stream",
     "text": [
      "Generating Samples: 100%|██████████| 10000/10000 [00:00<00:00, 14193.20it/s]\n"
     ]
    },
    {
     "name": "stdout",
     "output_type": "stream",
     "text": [
      "Processed chunk 169/341\n"
     ]
    },
    {
     "name": "stderr",
     "output_type": "stream",
     "text": [
      "Generating Samples: 100%|██████████| 10000/10000 [00:00<00:00, 13831.07it/s]\n"
     ]
    },
    {
     "name": "stdout",
     "output_type": "stream",
     "text": [
      "Processed chunk 170/341\n"
     ]
    },
    {
     "name": "stderr",
     "output_type": "stream",
     "text": [
      "Generating Samples: 100%|██████████| 10000/10000 [00:00<00:00, 14147.89it/s]\n"
     ]
    },
    {
     "name": "stdout",
     "output_type": "stream",
     "text": [
      "Processed chunk 171/341\n"
     ]
    },
    {
     "name": "stderr",
     "output_type": "stream",
     "text": [
      "Generating Samples: 100%|██████████| 10000/10000 [00:00<00:00, 14176.03it/s]\n"
     ]
    },
    {
     "name": "stdout",
     "output_type": "stream",
     "text": [
      "Processed chunk 172/341\n"
     ]
    },
    {
     "name": "stderr",
     "output_type": "stream",
     "text": [
      "Generating Samples: 100%|██████████| 10000/10000 [00:00<00:00, 14179.27it/s]\n"
     ]
    },
    {
     "name": "stdout",
     "output_type": "stream",
     "text": [
      "Processed chunk 173/341\n"
     ]
    },
    {
     "name": "stderr",
     "output_type": "stream",
     "text": [
      "Generating Samples: 100%|██████████| 10000/10000 [00:00<00:00, 13901.56it/s]\n"
     ]
    },
    {
     "name": "stdout",
     "output_type": "stream",
     "text": [
      "Processed chunk 174/341\n"
     ]
    },
    {
     "name": "stderr",
     "output_type": "stream",
     "text": [
      "Generating Samples: 100%|██████████| 10000/10000 [00:00<00:00, 14178.23it/s]\n"
     ]
    },
    {
     "name": "stdout",
     "output_type": "stream",
     "text": [
      "Processed chunk 175/341\n"
     ]
    },
    {
     "name": "stderr",
     "output_type": "stream",
     "text": [
      "Generating Samples: 100%|██████████| 10000/10000 [00:00<00:00, 13967.67it/s]\n"
     ]
    },
    {
     "name": "stdout",
     "output_type": "stream",
     "text": [
      "Processed chunk 176/341\n"
     ]
    },
    {
     "name": "stderr",
     "output_type": "stream",
     "text": [
      "Generating Samples: 100%|██████████| 10000/10000 [00:00<00:00, 14066.93it/s]\n"
     ]
    },
    {
     "name": "stdout",
     "output_type": "stream",
     "text": [
      "Processed chunk 177/341\n"
     ]
    },
    {
     "name": "stderr",
     "output_type": "stream",
     "text": [
      "Generating Samples: 100%|██████████| 10000/10000 [00:00<00:00, 14181.64it/s]\n"
     ]
    },
    {
     "name": "stdout",
     "output_type": "stream",
     "text": [
      "Processed chunk 178/341\n"
     ]
    },
    {
     "name": "stderr",
     "output_type": "stream",
     "text": [
      "Generating Samples: 100%|██████████| 10000/10000 [00:00<00:00, 13887.14it/s]\n"
     ]
    },
    {
     "name": "stdout",
     "output_type": "stream",
     "text": [
      "Processed chunk 179/341\n"
     ]
    },
    {
     "name": "stderr",
     "output_type": "stream",
     "text": [
      "Generating Samples: 100%|██████████| 10000/10000 [00:00<00:00, 14116.86it/s]\n"
     ]
    },
    {
     "name": "stdout",
     "output_type": "stream",
     "text": [
      "Processed chunk 180/341\n"
     ]
    },
    {
     "name": "stderr",
     "output_type": "stream",
     "text": [
      "Generating Samples: 100%|██████████| 10000/10000 [00:00<00:00, 14190.18it/s]\n"
     ]
    },
    {
     "name": "stdout",
     "output_type": "stream",
     "text": [
      "Processed chunk 181/341\n"
     ]
    },
    {
     "name": "stderr",
     "output_type": "stream",
     "text": [
      "Generating Samples: 100%|██████████| 10000/10000 [00:00<00:00, 13926.96it/s]\n"
     ]
    },
    {
     "name": "stdout",
     "output_type": "stream",
     "text": [
      "Processed chunk 182/341\n"
     ]
    },
    {
     "name": "stderr",
     "output_type": "stream",
     "text": [
      "Generating Samples: 100%|██████████| 10000/10000 [00:00<00:00, 14026.29it/s]\n"
     ]
    },
    {
     "name": "stdout",
     "output_type": "stream",
     "text": [
      "Processed chunk 183/341\n"
     ]
    },
    {
     "name": "stderr",
     "output_type": "stream",
     "text": [
      "Generating Samples: 100%|██████████| 10000/10000 [00:00<00:00, 14234.77it/s]\n"
     ]
    },
    {
     "name": "stdout",
     "output_type": "stream",
     "text": [
      "Processed chunk 184/341\n"
     ]
    },
    {
     "name": "stderr",
     "output_type": "stream",
     "text": [
      "Generating Samples: 100%|██████████| 10000/10000 [00:00<00:00, 14124.93it/s]\n"
     ]
    },
    {
     "name": "stdout",
     "output_type": "stream",
     "text": [
      "Processed chunk 185/341\n"
     ]
    },
    {
     "name": "stderr",
     "output_type": "stream",
     "text": [
      "Generating Samples: 100%|██████████| 10000/10000 [00:00<00:00, 14137.79it/s]\n"
     ]
    },
    {
     "name": "stdout",
     "output_type": "stream",
     "text": [
      "Processed chunk 186/341\n"
     ]
    },
    {
     "name": "stderr",
     "output_type": "stream",
     "text": [
      "Generating Samples: 100%|██████████| 10000/10000 [00:00<00:00, 13966.09it/s]\n"
     ]
    },
    {
     "name": "stdout",
     "output_type": "stream",
     "text": [
      "Processed chunk 187/341\n"
     ]
    },
    {
     "name": "stderr",
     "output_type": "stream",
     "text": [
      "Generating Samples: 100%|██████████| 10000/10000 [00:00<00:00, 13916.33it/s]\n"
     ]
    },
    {
     "name": "stdout",
     "output_type": "stream",
     "text": [
      "Processed chunk 188/341\n"
     ]
    },
    {
     "name": "stderr",
     "output_type": "stream",
     "text": [
      "Generating Samples: 100%|██████████| 10000/10000 [00:00<00:00, 14070.91it/s]\n"
     ]
    },
    {
     "name": "stdout",
     "output_type": "stream",
     "text": [
      "Processed chunk 189/341\n"
     ]
    },
    {
     "name": "stderr",
     "output_type": "stream",
     "text": [
      "Generating Samples: 100%|██████████| 10000/10000 [00:00<00:00, 14036.76it/s]\n"
     ]
    },
    {
     "name": "stdout",
     "output_type": "stream",
     "text": [
      "Processed chunk 190/341\n"
     ]
    },
    {
     "name": "stderr",
     "output_type": "stream",
     "text": [
      "Generating Samples: 100%|██████████| 10000/10000 [00:00<00:00, 14164.79it/s]\n"
     ]
    },
    {
     "name": "stdout",
     "output_type": "stream",
     "text": [
      "Processed chunk 191/341\n"
     ]
    },
    {
     "name": "stderr",
     "output_type": "stream",
     "text": [
      "Generating Samples: 100%|██████████| 10000/10000 [00:00<00:00, 13849.52it/s]\n"
     ]
    },
    {
     "name": "stdout",
     "output_type": "stream",
     "text": [
      "Processed chunk 192/341\n"
     ]
    },
    {
     "name": "stderr",
     "output_type": "stream",
     "text": [
      "Generating Samples: 100%|██████████| 10000/10000 [00:00<00:00, 14165.55it/s]\n"
     ]
    },
    {
     "name": "stdout",
     "output_type": "stream",
     "text": [
      "Processed chunk 193/341\n"
     ]
    },
    {
     "name": "stderr",
     "output_type": "stream",
     "text": [
      "Generating Samples: 100%|██████████| 10000/10000 [00:00<00:00, 13986.13it/s]\n"
     ]
    },
    {
     "name": "stdout",
     "output_type": "stream",
     "text": [
      "Processed chunk 194/341\n"
     ]
    },
    {
     "name": "stderr",
     "output_type": "stream",
     "text": [
      "Generating Samples: 100%|██████████| 10000/10000 [00:00<00:00, 14153.50it/s]\n"
     ]
    },
    {
     "name": "stdout",
     "output_type": "stream",
     "text": [
      "Processed chunk 195/341\n"
     ]
    },
    {
     "name": "stderr",
     "output_type": "stream",
     "text": [
      "Generating Samples: 100%|██████████| 10000/10000 [00:00<00:00, 13715.39it/s]\n"
     ]
    },
    {
     "name": "stdout",
     "output_type": "stream",
     "text": [
      "Processed chunk 196/341\n"
     ]
    },
    {
     "name": "stderr",
     "output_type": "stream",
     "text": [
      "Generating Samples: 100%|██████████| 10000/10000 [00:00<00:00, 14055.17it/s]\n"
     ]
    },
    {
     "name": "stdout",
     "output_type": "stream",
     "text": [
      "Processed chunk 197/341\n"
     ]
    },
    {
     "name": "stderr",
     "output_type": "stream",
     "text": [
      "Generating Samples: 100%|██████████| 10000/10000 [00:00<00:00, 14008.72it/s]\n"
     ]
    },
    {
     "name": "stdout",
     "output_type": "stream",
     "text": [
      "Processed chunk 198/341\n"
     ]
    },
    {
     "name": "stderr",
     "output_type": "stream",
     "text": [
      "Generating Samples: 100%|██████████| 10000/10000 [00:00<00:00, 14187.37it/s]\n"
     ]
    },
    {
     "name": "stdout",
     "output_type": "stream",
     "text": [
      "Processed chunk 199/341\n"
     ]
    },
    {
     "name": "stderr",
     "output_type": "stream",
     "text": [
      "Generating Samples: 100%|██████████| 10000/10000 [00:00<00:00, 13870.91it/s]\n"
     ]
    },
    {
     "name": "stdout",
     "output_type": "stream",
     "text": [
      "Processed chunk 200/341\n"
     ]
    },
    {
     "name": "stderr",
     "output_type": "stream",
     "text": [
      "Generating Samples: 100%|██████████| 10000/10000 [00:00<00:00, 14105.47it/s]\n"
     ]
    },
    {
     "name": "stdout",
     "output_type": "stream",
     "text": [
      "Processed chunk 201/341\n"
     ]
    },
    {
     "name": "stderr",
     "output_type": "stream",
     "text": [
      "Generating Samples: 100%|██████████| 10000/10000 [00:00<00:00, 14182.62it/s]\n"
     ]
    },
    {
     "name": "stdout",
     "output_type": "stream",
     "text": [
      "Processed chunk 202/341\n"
     ]
    },
    {
     "name": "stderr",
     "output_type": "stream",
     "text": [
      "Generating Samples: 100%|██████████| 10000/10000 [00:00<00:00, 14082.50it/s]\n"
     ]
    },
    {
     "name": "stdout",
     "output_type": "stream",
     "text": [
      "Processed chunk 203/341\n"
     ]
    },
    {
     "name": "stderr",
     "output_type": "stream",
     "text": [
      "Generating Samples: 100%|██████████| 10000/10000 [00:00<00:00, 13961.86it/s]\n"
     ]
    },
    {
     "name": "stdout",
     "output_type": "stream",
     "text": [
      "Processed chunk 204/341\n"
     ]
    },
    {
     "name": "stderr",
     "output_type": "stream",
     "text": [
      "Generating Samples: 100%|██████████| 10000/10000 [00:00<00:00, 14166.99it/s]\n"
     ]
    },
    {
     "name": "stdout",
     "output_type": "stream",
     "text": [
      "Processed chunk 205/341\n"
     ]
    },
    {
     "name": "stderr",
     "output_type": "stream",
     "text": [
      "Generating Samples: 100%|██████████| 10000/10000 [00:00<00:00, 14169.55it/s]\n"
     ]
    },
    {
     "name": "stdout",
     "output_type": "stream",
     "text": [
      "Processed chunk 206/341\n"
     ]
    },
    {
     "name": "stderr",
     "output_type": "stream",
     "text": [
      "Generating Samples: 100%|██████████| 10000/10000 [00:00<00:00, 14097.79it/s]\n"
     ]
    },
    {
     "name": "stdout",
     "output_type": "stream",
     "text": [
      "Processed chunk 207/341\n"
     ]
    },
    {
     "name": "stderr",
     "output_type": "stream",
     "text": [
      "Generating Samples: 100%|██████████| 10000/10000 [00:00<00:00, 14071.43it/s]\n"
     ]
    },
    {
     "name": "stdout",
     "output_type": "stream",
     "text": [
      "Processed chunk 208/341\n"
     ]
    },
    {
     "name": "stderr",
     "output_type": "stream",
     "text": [
      "Generating Samples: 100%|██████████| 10000/10000 [00:00<00:00, 14091.75it/s]\n"
     ]
    },
    {
     "name": "stdout",
     "output_type": "stream",
     "text": [
      "Processed chunk 209/341\n"
     ]
    },
    {
     "name": "stderr",
     "output_type": "stream",
     "text": [
      "Generating Samples: 100%|██████████| 10000/10000 [00:00<00:00, 14187.90it/s]\n"
     ]
    },
    {
     "name": "stdout",
     "output_type": "stream",
     "text": [
      "Processed chunk 210/341\n"
     ]
    },
    {
     "name": "stderr",
     "output_type": "stream",
     "text": [
      "Generating Samples: 100%|██████████| 10000/10000 [00:00<00:00, 14119.71it/s]\n"
     ]
    },
    {
     "name": "stdout",
     "output_type": "stream",
     "text": [
      "Processed chunk 211/341\n"
     ]
    },
    {
     "name": "stderr",
     "output_type": "stream",
     "text": [
      "Generating Samples: 100%|██████████| 10000/10000 [00:00<00:00, 14229.81it/s]\n"
     ]
    },
    {
     "name": "stdout",
     "output_type": "stream",
     "text": [
      "Processed chunk 212/341\n"
     ]
    },
    {
     "name": "stderr",
     "output_type": "stream",
     "text": [
      "Generating Samples: 100%|██████████| 10000/10000 [00:00<00:00, 13669.27it/s]\n"
     ]
    },
    {
     "name": "stdout",
     "output_type": "stream",
     "text": [
      "Processed chunk 213/341\n"
     ]
    },
    {
     "name": "stderr",
     "output_type": "stream",
     "text": [
      "Generating Samples: 100%|██████████| 10000/10000 [00:00<00:00, 14023.25it/s]\n"
     ]
    },
    {
     "name": "stdout",
     "output_type": "stream",
     "text": [
      "Processed chunk 214/341\n"
     ]
    },
    {
     "name": "stderr",
     "output_type": "stream",
     "text": [
      "Generating Samples: 100%|██████████| 10000/10000 [00:00<00:00, 13646.88it/s]\n"
     ]
    },
    {
     "name": "stdout",
     "output_type": "stream",
     "text": [
      "Processed chunk 215/341\n"
     ]
    },
    {
     "name": "stderr",
     "output_type": "stream",
     "text": [
      "Generating Samples: 100%|██████████| 10000/10000 [00:00<00:00, 14072.93it/s]\n"
     ]
    },
    {
     "name": "stdout",
     "output_type": "stream",
     "text": [
      "Processed chunk 216/341\n"
     ]
    },
    {
     "name": "stderr",
     "output_type": "stream",
     "text": [
      "Generating Samples: 100%|██████████| 10000/10000 [00:00<00:00, 13781.11it/s]\n"
     ]
    },
    {
     "name": "stdout",
     "output_type": "stream",
     "text": [
      "Processed chunk 217/341\n"
     ]
    },
    {
     "name": "stderr",
     "output_type": "stream",
     "text": [
      "Generating Samples: 100%|██████████| 10000/10000 [00:00<00:00, 13667.01it/s]\n"
     ]
    },
    {
     "name": "stdout",
     "output_type": "stream",
     "text": [
      "Processed chunk 218/341\n"
     ]
    },
    {
     "name": "stderr",
     "output_type": "stream",
     "text": [
      "Generating Samples: 100%|██████████| 10000/10000 [00:00<00:00, 13636.89it/s]\n"
     ]
    },
    {
     "name": "stdout",
     "output_type": "stream",
     "text": [
      "Processed chunk 219/341\n"
     ]
    },
    {
     "name": "stderr",
     "output_type": "stream",
     "text": [
      "Generating Samples: 100%|██████████| 10000/10000 [00:00<00:00, 13845.12it/s]\n"
     ]
    },
    {
     "name": "stdout",
     "output_type": "stream",
     "text": [
      "Processed chunk 220/341\n"
     ]
    },
    {
     "name": "stderr",
     "output_type": "stream",
     "text": [
      "Generating Samples: 100%|██████████| 10000/10000 [00:00<00:00, 13785.87it/s]\n"
     ]
    },
    {
     "name": "stdout",
     "output_type": "stream",
     "text": [
      "Processed chunk 221/341\n"
     ]
    },
    {
     "name": "stderr",
     "output_type": "stream",
     "text": [
      "Generating Samples: 100%|██████████| 10000/10000 [00:00<00:00, 13972.24it/s]\n"
     ]
    },
    {
     "name": "stdout",
     "output_type": "stream",
     "text": [
      "Processed chunk 222/341\n"
     ]
    },
    {
     "name": "stderr",
     "output_type": "stream",
     "text": [
      "Generating Samples: 100%|██████████| 10000/10000 [00:00<00:00, 14085.10it/s]\n"
     ]
    },
    {
     "name": "stdout",
     "output_type": "stream",
     "text": [
      "Processed chunk 223/341\n"
     ]
    },
    {
     "name": "stderr",
     "output_type": "stream",
     "text": [
      "Generating Samples: 100%|██████████| 10000/10000 [00:00<00:00, 13733.54it/s]\n"
     ]
    },
    {
     "name": "stdout",
     "output_type": "stream",
     "text": [
      "Processed chunk 224/341\n"
     ]
    },
    {
     "name": "stderr",
     "output_type": "stream",
     "text": [
      "Generating Samples: 100%|██████████| 10000/10000 [00:00<00:00, 13753.89it/s]\n"
     ]
    },
    {
     "name": "stdout",
     "output_type": "stream",
     "text": [
      "Processed chunk 225/341\n"
     ]
    },
    {
     "name": "stderr",
     "output_type": "stream",
     "text": [
      "Generating Samples: 100%|██████████| 10000/10000 [00:00<00:00, 13283.67it/s]\n"
     ]
    },
    {
     "name": "stdout",
     "output_type": "stream",
     "text": [
      "Processed chunk 226/341\n"
     ]
    },
    {
     "name": "stderr",
     "output_type": "stream",
     "text": [
      "Generating Samples: 100%|██████████| 10000/10000 [00:00<00:00, 13842.59it/s]\n"
     ]
    },
    {
     "name": "stdout",
     "output_type": "stream",
     "text": [
      "Processed chunk 227/341\n"
     ]
    },
    {
     "name": "stderr",
     "output_type": "stream",
     "text": [
      "Generating Samples: 100%|██████████| 10000/10000 [00:00<00:00, 13763.41it/s]\n"
     ]
    },
    {
     "name": "stdout",
     "output_type": "stream",
     "text": [
      "Processed chunk 228/341\n"
     ]
    },
    {
     "name": "stderr",
     "output_type": "stream",
     "text": [
      "Generating Samples: 100%|██████████| 10000/10000 [00:00<00:00, 13853.05it/s]\n"
     ]
    },
    {
     "name": "stdout",
     "output_type": "stream",
     "text": [
      "Processed chunk 229/341\n"
     ]
    },
    {
     "name": "stderr",
     "output_type": "stream",
     "text": [
      "Generating Samples: 100%|██████████| 10000/10000 [00:00<00:00, 14026.41it/s]\n"
     ]
    },
    {
     "name": "stdout",
     "output_type": "stream",
     "text": [
      "Processed chunk 230/341\n"
     ]
    },
    {
     "name": "stderr",
     "output_type": "stream",
     "text": [
      "Generating Samples: 100%|██████████| 10000/10000 [00:00<00:00, 14061.47it/s]\n"
     ]
    },
    {
     "name": "stdout",
     "output_type": "stream",
     "text": [
      "Processed chunk 231/341\n"
     ]
    },
    {
     "name": "stderr",
     "output_type": "stream",
     "text": [
      "Generating Samples: 100%|██████████| 10000/10000 [00:00<00:00, 14170.29it/s]\n"
     ]
    },
    {
     "name": "stdout",
     "output_type": "stream",
     "text": [
      "Processed chunk 232/341\n"
     ]
    },
    {
     "name": "stderr",
     "output_type": "stream",
     "text": [
      "Generating Samples: 100%|██████████| 10000/10000 [00:00<00:00, 13863.52it/s]\n"
     ]
    },
    {
     "name": "stdout",
     "output_type": "stream",
     "text": [
      "Processed chunk 233/341\n"
     ]
    },
    {
     "name": "stderr",
     "output_type": "stream",
     "text": [
      "Generating Samples: 100%|██████████| 10000/10000 [00:00<00:00, 14100.75it/s]\n"
     ]
    },
    {
     "name": "stdout",
     "output_type": "stream",
     "text": [
      "Processed chunk 234/341\n"
     ]
    },
    {
     "name": "stderr",
     "output_type": "stream",
     "text": [
      "Generating Samples: 100%|██████████| 10000/10000 [00:00<00:00, 14161.23it/s]\n"
     ]
    },
    {
     "name": "stdout",
     "output_type": "stream",
     "text": [
      "Processed chunk 235/341\n"
     ]
    },
    {
     "name": "stderr",
     "output_type": "stream",
     "text": [
      "Generating Samples: 100%|██████████| 10000/10000 [00:00<00:00, 13941.34it/s]\n"
     ]
    },
    {
     "name": "stdout",
     "output_type": "stream",
     "text": [
      "Processed chunk 236/341\n"
     ]
    },
    {
     "name": "stderr",
     "output_type": "stream",
     "text": [
      "Generating Samples: 100%|██████████| 10000/10000 [00:00<00:00, 13876.48it/s]\n"
     ]
    },
    {
     "name": "stdout",
     "output_type": "stream",
     "text": [
      "Processed chunk 237/341\n"
     ]
    },
    {
     "name": "stderr",
     "output_type": "stream",
     "text": [
      "Generating Samples: 100%|██████████| 10000/10000 [00:00<00:00, 14063.04it/s]\n"
     ]
    },
    {
     "name": "stdout",
     "output_type": "stream",
     "text": [
      "Processed chunk 238/341\n"
     ]
    },
    {
     "name": "stderr",
     "output_type": "stream",
     "text": [
      "Generating Samples: 100%|██████████| 10000/10000 [00:00<00:00, 14163.68it/s]\n"
     ]
    },
    {
     "name": "stdout",
     "output_type": "stream",
     "text": [
      "Processed chunk 239/341\n"
     ]
    },
    {
     "name": "stderr",
     "output_type": "stream",
     "text": [
      "Generating Samples: 100%|██████████| 10000/10000 [00:00<00:00, 14124.73it/s]\n"
     ]
    },
    {
     "name": "stdout",
     "output_type": "stream",
     "text": [
      "Processed chunk 240/341\n"
     ]
    },
    {
     "name": "stderr",
     "output_type": "stream",
     "text": [
      "Generating Samples: 100%|██████████| 10000/10000 [00:00<00:00, 13898.19it/s]\n"
     ]
    },
    {
     "name": "stdout",
     "output_type": "stream",
     "text": [
      "Processed chunk 241/341\n"
     ]
    },
    {
     "name": "stderr",
     "output_type": "stream",
     "text": [
      "Generating Samples: 100%|██████████| 10000/10000 [00:00<00:00, 14079.21it/s]\n"
     ]
    },
    {
     "name": "stdout",
     "output_type": "stream",
     "text": [
      "Processed chunk 242/341\n"
     ]
    },
    {
     "name": "stderr",
     "output_type": "stream",
     "text": [
      "Generating Samples: 100%|██████████| 10000/10000 [00:00<00:00, 13980.81it/s]\n"
     ]
    },
    {
     "name": "stdout",
     "output_type": "stream",
     "text": [
      "Processed chunk 243/341\n"
     ]
    },
    {
     "name": "stderr",
     "output_type": "stream",
     "text": [
      "Generating Samples: 100%|██████████| 10000/10000 [00:00<00:00, 14076.66it/s]\n"
     ]
    },
    {
     "name": "stdout",
     "output_type": "stream",
     "text": [
      "Processed chunk 244/341\n"
     ]
    },
    {
     "name": "stderr",
     "output_type": "stream",
     "text": [
      "Generating Samples: 100%|██████████| 10000/10000 [00:00<00:00, 14108.97it/s]\n"
     ]
    },
    {
     "name": "stdout",
     "output_type": "stream",
     "text": [
      "Processed chunk 245/341\n"
     ]
    },
    {
     "name": "stderr",
     "output_type": "stream",
     "text": [
      "Generating Samples: 100%|██████████| 10000/10000 [00:00<00:00, 14151.76it/s]\n"
     ]
    },
    {
     "name": "stdout",
     "output_type": "stream",
     "text": [
      "Processed chunk 246/341\n"
     ]
    },
    {
     "name": "stderr",
     "output_type": "stream",
     "text": [
      "Generating Samples: 100%|██████████| 10000/10000 [00:00<00:00, 14141.79it/s]\n"
     ]
    },
    {
     "name": "stdout",
     "output_type": "stream",
     "text": [
      "Processed chunk 247/341\n"
     ]
    },
    {
     "name": "stderr",
     "output_type": "stream",
     "text": [
      "Generating Samples: 100%|██████████| 10000/10000 [00:00<00:00, 14028.84it/s]\n"
     ]
    },
    {
     "name": "stdout",
     "output_type": "stream",
     "text": [
      "Processed chunk 248/341\n"
     ]
    },
    {
     "name": "stderr",
     "output_type": "stream",
     "text": [
      "Generating Samples: 100%|██████████| 10000/10000 [00:00<00:00, 13958.92it/s]\n"
     ]
    },
    {
     "name": "stdout",
     "output_type": "stream",
     "text": [
      "Processed chunk 249/341\n"
     ]
    },
    {
     "name": "stderr",
     "output_type": "stream",
     "text": [
      "Generating Samples: 100%|██████████| 10000/10000 [00:00<00:00, 13884.73it/s]\n"
     ]
    },
    {
     "name": "stdout",
     "output_type": "stream",
     "text": [
      "Processed chunk 250/341\n"
     ]
    },
    {
     "name": "stderr",
     "output_type": "stream",
     "text": [
      "Generating Samples: 100%|██████████| 10000/10000 [00:00<00:00, 14081.67it/s]\n"
     ]
    },
    {
     "name": "stdout",
     "output_type": "stream",
     "text": [
      "Processed chunk 251/341\n"
     ]
    },
    {
     "name": "stderr",
     "output_type": "stream",
     "text": [
      "Generating Samples: 100%|██████████| 10000/10000 [00:00<00:00, 14273.72it/s]\n"
     ]
    },
    {
     "name": "stdout",
     "output_type": "stream",
     "text": [
      "Processed chunk 252/341\n"
     ]
    },
    {
     "name": "stderr",
     "output_type": "stream",
     "text": [
      "Generating Samples: 100%|██████████| 10000/10000 [00:00<00:00, 14164.24it/s]\n"
     ]
    },
    {
     "name": "stdout",
     "output_type": "stream",
     "text": [
      "Processed chunk 253/341\n"
     ]
    },
    {
     "name": "stderr",
     "output_type": "stream",
     "text": [
      "Generating Samples: 100%|██████████| 10000/10000 [00:00<00:00, 14302.78it/s]\n"
     ]
    },
    {
     "name": "stdout",
     "output_type": "stream",
     "text": [
      "Processed chunk 254/341\n"
     ]
    },
    {
     "name": "stderr",
     "output_type": "stream",
     "text": [
      "Generating Samples: 100%|██████████| 10000/10000 [00:00<00:00, 13933.69it/s]\n"
     ]
    },
    {
     "name": "stdout",
     "output_type": "stream",
     "text": [
      "Processed chunk 255/341\n"
     ]
    },
    {
     "name": "stderr",
     "output_type": "stream",
     "text": [
      "Generating Samples: 100%|██████████| 10000/10000 [00:00<00:00, 14114.40it/s]\n"
     ]
    },
    {
     "name": "stdout",
     "output_type": "stream",
     "text": [
      "Processed chunk 256/341\n"
     ]
    },
    {
     "name": "stderr",
     "output_type": "stream",
     "text": [
      "Generating Samples: 100%|██████████| 10000/10000 [00:00<00:00, 14181.84it/s]\n"
     ]
    },
    {
     "name": "stdout",
     "output_type": "stream",
     "text": [
      "Processed chunk 257/341\n"
     ]
    },
    {
     "name": "stderr",
     "output_type": "stream",
     "text": [
      "Generating Samples: 100%|██████████| 10000/10000 [00:00<00:00, 14091.41it/s]\n"
     ]
    },
    {
     "name": "stdout",
     "output_type": "stream",
     "text": [
      "Processed chunk 258/341\n"
     ]
    },
    {
     "name": "stderr",
     "output_type": "stream",
     "text": [
      "Generating Samples: 100%|██████████| 10000/10000 [00:00<00:00, 14175.13it/s]\n"
     ]
    },
    {
     "name": "stdout",
     "output_type": "stream",
     "text": [
      "Processed chunk 259/341\n"
     ]
    },
    {
     "name": "stderr",
     "output_type": "stream",
     "text": [
      "Generating Samples: 100%|██████████| 10000/10000 [00:00<00:00, 13954.40it/s]\n"
     ]
    },
    {
     "name": "stdout",
     "output_type": "stream",
     "text": [
      "Processed chunk 260/341\n"
     ]
    },
    {
     "name": "stderr",
     "output_type": "stream",
     "text": [
      "Generating Samples: 100%|██████████| 10000/10000 [00:00<00:00, 14234.69it/s]\n"
     ]
    },
    {
     "name": "stdout",
     "output_type": "stream",
     "text": [
      "Processed chunk 261/341\n"
     ]
    },
    {
     "name": "stderr",
     "output_type": "stream",
     "text": [
      "Generating Samples: 100%|██████████| 10000/10000 [00:00<00:00, 14141.61it/s]\n"
     ]
    },
    {
     "name": "stdout",
     "output_type": "stream",
     "text": [
      "Processed chunk 262/341\n"
     ]
    },
    {
     "name": "stderr",
     "output_type": "stream",
     "text": [
      "Generating Samples: 100%|██████████| 10000/10000 [00:00<00:00, 14147.85it/s]\n"
     ]
    },
    {
     "name": "stdout",
     "output_type": "stream",
     "text": [
      "Processed chunk 263/341\n"
     ]
    },
    {
     "name": "stderr",
     "output_type": "stream",
     "text": [
      "Generating Samples: 100%|██████████| 10000/10000 [00:00<00:00, 14096.91it/s]\n"
     ]
    },
    {
     "name": "stdout",
     "output_type": "stream",
     "text": [
      "Processed chunk 264/341\n"
     ]
    },
    {
     "name": "stderr",
     "output_type": "stream",
     "text": [
      "Generating Samples: 100%|██████████| 10000/10000 [00:00<00:00, 13869.51it/s]\n"
     ]
    },
    {
     "name": "stdout",
     "output_type": "stream",
     "text": [
      "Processed chunk 265/341\n"
     ]
    },
    {
     "name": "stderr",
     "output_type": "stream",
     "text": [
      "Generating Samples: 100%|██████████| 10000/10000 [00:00<00:00, 14057.58it/s]\n"
     ]
    },
    {
     "name": "stdout",
     "output_type": "stream",
     "text": [
      "Processed chunk 266/341\n"
     ]
    },
    {
     "name": "stderr",
     "output_type": "stream",
     "text": [
      "Generating Samples: 100%|██████████| 10000/10000 [00:00<00:00, 14166.67it/s]\n"
     ]
    },
    {
     "name": "stdout",
     "output_type": "stream",
     "text": [
      "Processed chunk 267/341\n"
     ]
    },
    {
     "name": "stderr",
     "output_type": "stream",
     "text": [
      "Generating Samples: 100%|██████████| 10000/10000 [00:00<00:00, 14182.37it/s]\n"
     ]
    },
    {
     "name": "stdout",
     "output_type": "stream",
     "text": [
      "Processed chunk 268/341\n"
     ]
    },
    {
     "name": "stderr",
     "output_type": "stream",
     "text": [
      "Generating Samples: 100%|██████████| 10000/10000 [00:00<00:00, 14104.83it/s]\n"
     ]
    },
    {
     "name": "stdout",
     "output_type": "stream",
     "text": [
      "Processed chunk 269/341\n"
     ]
    },
    {
     "name": "stderr",
     "output_type": "stream",
     "text": [
      "Generating Samples: 100%|██████████| 10000/10000 [00:00<00:00, 13826.11it/s]\n"
     ]
    },
    {
     "name": "stdout",
     "output_type": "stream",
     "text": [
      "Processed chunk 270/341\n"
     ]
    },
    {
     "name": "stderr",
     "output_type": "stream",
     "text": [
      "Generating Samples: 100%|██████████| 10000/10000 [00:00<00:00, 14113.19it/s]\n"
     ]
    },
    {
     "name": "stdout",
     "output_type": "stream",
     "text": [
      "Processed chunk 271/341\n"
     ]
    },
    {
     "name": "stderr",
     "output_type": "stream",
     "text": [
      "Generating Samples: 100%|██████████| 10000/10000 [00:00<00:00, 14094.18it/s]\n"
     ]
    },
    {
     "name": "stdout",
     "output_type": "stream",
     "text": [
      "Processed chunk 272/341\n"
     ]
    },
    {
     "name": "stderr",
     "output_type": "stream",
     "text": [
      "Generating Samples: 100%|██████████| 10000/10000 [00:00<00:00, 14061.19it/s]\n"
     ]
    },
    {
     "name": "stdout",
     "output_type": "stream",
     "text": [
      "Processed chunk 273/341\n"
     ]
    },
    {
     "name": "stderr",
     "output_type": "stream",
     "text": [
      "Generating Samples: 100%|██████████| 10000/10000 [00:00<00:00, 14141.31it/s]\n"
     ]
    },
    {
     "name": "stdout",
     "output_type": "stream",
     "text": [
      "Processed chunk 274/341\n"
     ]
    },
    {
     "name": "stderr",
     "output_type": "stream",
     "text": [
      "Generating Samples: 100%|██████████| 10000/10000 [00:00<00:00, 13899.30it/s]\n"
     ]
    },
    {
     "name": "stdout",
     "output_type": "stream",
     "text": [
      "Processed chunk 275/341\n"
     ]
    },
    {
     "name": "stderr",
     "output_type": "stream",
     "text": [
      "Generating Samples: 100%|██████████| 10000/10000 [00:00<00:00, 14102.81it/s]\n"
     ]
    },
    {
     "name": "stdout",
     "output_type": "stream",
     "text": [
      "Processed chunk 276/341\n"
     ]
    },
    {
     "name": "stderr",
     "output_type": "stream",
     "text": [
      "Generating Samples: 100%|██████████| 10000/10000 [00:00<00:00, 14174.23it/s]\n"
     ]
    },
    {
     "name": "stdout",
     "output_type": "stream",
     "text": [
      "Processed chunk 277/341\n"
     ]
    },
    {
     "name": "stderr",
     "output_type": "stream",
     "text": [
      "Generating Samples: 100%|██████████| 10000/10000 [00:00<00:00, 14179.68it/s]\n"
     ]
    },
    {
     "name": "stdout",
     "output_type": "stream",
     "text": [
      "Processed chunk 278/341\n"
     ]
    },
    {
     "name": "stderr",
     "output_type": "stream",
     "text": [
      "Generating Samples: 100%|██████████| 10000/10000 [00:00<00:00, 14026.96it/s]\n"
     ]
    },
    {
     "name": "stdout",
     "output_type": "stream",
     "text": [
      "Processed chunk 279/341\n"
     ]
    },
    {
     "name": "stderr",
     "output_type": "stream",
     "text": [
      "Generating Samples: 100%|██████████| 10000/10000 [00:00<00:00, 13916.91it/s]\n"
     ]
    },
    {
     "name": "stdout",
     "output_type": "stream",
     "text": [
      "Processed chunk 280/341\n"
     ]
    },
    {
     "name": "stderr",
     "output_type": "stream",
     "text": [
      "Generating Samples: 100%|██████████| 10000/10000 [00:00<00:00, 14209.33it/s]\n"
     ]
    },
    {
     "name": "stdout",
     "output_type": "stream",
     "text": [
      "Processed chunk 281/341\n"
     ]
    },
    {
     "name": "stderr",
     "output_type": "stream",
     "text": [
      "Generating Samples: 100%|██████████| 10000/10000 [00:00<00:00, 14062.98it/s]\n"
     ]
    },
    {
     "name": "stdout",
     "output_type": "stream",
     "text": [
      "Processed chunk 282/341\n"
     ]
    },
    {
     "name": "stderr",
     "output_type": "stream",
     "text": [
      "Generating Samples: 100%|██████████| 10000/10000 [00:00<00:00, 14020.39it/s]\n"
     ]
    },
    {
     "name": "stdout",
     "output_type": "stream",
     "text": [
      "Processed chunk 283/341\n"
     ]
    },
    {
     "name": "stderr",
     "output_type": "stream",
     "text": [
      "Generating Samples: 100%|██████████| 10000/10000 [00:00<00:00, 14017.30it/s]\n"
     ]
    },
    {
     "name": "stdout",
     "output_type": "stream",
     "text": [
      "Processed chunk 284/341\n"
     ]
    },
    {
     "name": "stderr",
     "output_type": "stream",
     "text": [
      "Generating Samples: 100%|██████████| 10000/10000 [00:00<00:00, 13651.45it/s]\n"
     ]
    },
    {
     "name": "stdout",
     "output_type": "stream",
     "text": [
      "Processed chunk 285/341\n"
     ]
    },
    {
     "name": "stderr",
     "output_type": "stream",
     "text": [
      "Generating Samples: 100%|██████████| 10000/10000 [00:00<00:00, 13961.88it/s]\n"
     ]
    },
    {
     "name": "stdout",
     "output_type": "stream",
     "text": [
      "Processed chunk 286/341\n"
     ]
    },
    {
     "name": "stderr",
     "output_type": "stream",
     "text": [
      "Generating Samples: 100%|██████████| 10000/10000 [00:00<00:00, 13683.30it/s]\n"
     ]
    },
    {
     "name": "stdout",
     "output_type": "stream",
     "text": [
      "Processed chunk 287/341\n"
     ]
    },
    {
     "name": "stderr",
     "output_type": "stream",
     "text": [
      "Generating Samples: 100%|██████████| 10000/10000 [00:00<00:00, 13395.42it/s]\n"
     ]
    },
    {
     "name": "stdout",
     "output_type": "stream",
     "text": [
      "Processed chunk 288/341\n"
     ]
    },
    {
     "name": "stderr",
     "output_type": "stream",
     "text": [
      "Generating Samples: 100%|██████████| 10000/10000 [00:00<00:00, 13523.42it/s]\n"
     ]
    },
    {
     "name": "stdout",
     "output_type": "stream",
     "text": [
      "Processed chunk 289/341\n"
     ]
    },
    {
     "name": "stderr",
     "output_type": "stream",
     "text": [
      "Generating Samples: 100%|██████████| 10000/10000 [00:00<00:00, 13387.80it/s]\n"
     ]
    },
    {
     "name": "stdout",
     "output_type": "stream",
     "text": [
      "Processed chunk 290/341\n"
     ]
    },
    {
     "name": "stderr",
     "output_type": "stream",
     "text": [
      "Generating Samples: 100%|██████████| 10000/10000 [00:00<00:00, 13835.51it/s]\n"
     ]
    },
    {
     "name": "stdout",
     "output_type": "stream",
     "text": [
      "Processed chunk 291/341\n"
     ]
    },
    {
     "name": "stderr",
     "output_type": "stream",
     "text": [
      "Generating Samples: 100%|██████████| 10000/10000 [00:00<00:00, 14036.03it/s]\n"
     ]
    },
    {
     "name": "stdout",
     "output_type": "stream",
     "text": [
      "Processed chunk 292/341\n"
     ]
    },
    {
     "name": "stderr",
     "output_type": "stream",
     "text": [
      "Generating Samples: 100%|██████████| 10000/10000 [00:00<00:00, 14022.14it/s]\n"
     ]
    },
    {
     "name": "stdout",
     "output_type": "stream",
     "text": [
      "Processed chunk 293/341\n"
     ]
    },
    {
     "name": "stderr",
     "output_type": "stream",
     "text": [
      "Generating Samples: 100%|██████████| 10000/10000 [00:00<00:00, 14084.35it/s]\n"
     ]
    },
    {
     "name": "stdout",
     "output_type": "stream",
     "text": [
      "Processed chunk 294/341\n"
     ]
    },
    {
     "name": "stderr",
     "output_type": "stream",
     "text": [
      "Generating Samples: 100%|██████████| 10000/10000 [00:00<00:00, 14103.67it/s]\n"
     ]
    },
    {
     "name": "stdout",
     "output_type": "stream",
     "text": [
      "Processed chunk 295/341\n"
     ]
    },
    {
     "name": "stderr",
     "output_type": "stream",
     "text": [
      "Generating Samples: 100%|██████████| 10000/10000 [00:00<00:00, 14075.51it/s]\n"
     ]
    },
    {
     "name": "stdout",
     "output_type": "stream",
     "text": [
      "Processed chunk 296/341\n"
     ]
    },
    {
     "name": "stderr",
     "output_type": "stream",
     "text": [
      "Generating Samples: 100%|██████████| 10000/10000 [00:00<00:00, 14181.16it/s]\n"
     ]
    },
    {
     "name": "stdout",
     "output_type": "stream",
     "text": [
      "Processed chunk 297/341\n"
     ]
    },
    {
     "name": "stderr",
     "output_type": "stream",
     "text": [
      "Generating Samples: 100%|██████████| 10000/10000 [00:00<00:00, 14164.97it/s]\n"
     ]
    },
    {
     "name": "stdout",
     "output_type": "stream",
     "text": [
      "Processed chunk 298/341\n"
     ]
    },
    {
     "name": "stderr",
     "output_type": "stream",
     "text": [
      "Generating Samples: 100%|██████████| 10000/10000 [00:00<00:00, 13852.81it/s]\n"
     ]
    },
    {
     "name": "stdout",
     "output_type": "stream",
     "text": [
      "Processed chunk 299/341\n"
     ]
    },
    {
     "name": "stderr",
     "output_type": "stream",
     "text": [
      "Generating Samples: 100%|██████████| 10000/10000 [00:00<00:00, 14204.61it/s]\n"
     ]
    },
    {
     "name": "stdout",
     "output_type": "stream",
     "text": [
      "Processed chunk 300/341\n"
     ]
    },
    {
     "name": "stderr",
     "output_type": "stream",
     "text": [
      "Generating Samples: 100%|██████████| 10000/10000 [00:00<00:00, 14142.39it/s]\n"
     ]
    },
    {
     "name": "stdout",
     "output_type": "stream",
     "text": [
      "Processed chunk 301/341\n"
     ]
    },
    {
     "name": "stderr",
     "output_type": "stream",
     "text": [
      "Generating Samples: 100%|██████████| 10000/10000 [00:00<00:00, 14116.02it/s]\n"
     ]
    },
    {
     "name": "stdout",
     "output_type": "stream",
     "text": [
      "Processed chunk 302/341\n"
     ]
    },
    {
     "name": "stderr",
     "output_type": "stream",
     "text": [
      "Generating Samples: 100%|██████████| 10000/10000 [00:00<00:00, 13810.97it/s]\n"
     ]
    },
    {
     "name": "stdout",
     "output_type": "stream",
     "text": [
      "Processed chunk 303/341\n"
     ]
    },
    {
     "name": "stderr",
     "output_type": "stream",
     "text": [
      "Generating Samples: 100%|██████████| 10000/10000 [00:00<00:00, 13798.70it/s]\n"
     ]
    },
    {
     "name": "stdout",
     "output_type": "stream",
     "text": [
      "Processed chunk 304/341\n"
     ]
    },
    {
     "name": "stderr",
     "output_type": "stream",
     "text": [
      "Generating Samples: 100%|██████████| 10000/10000 [00:00<00:00, 14128.88it/s]\n"
     ]
    },
    {
     "name": "stdout",
     "output_type": "stream",
     "text": [
      "Processed chunk 305/341\n"
     ]
    },
    {
     "name": "stderr",
     "output_type": "stream",
     "text": [
      "Generating Samples: 100%|██████████| 10000/10000 [00:00<00:00, 14105.98it/s]\n"
     ]
    },
    {
     "name": "stdout",
     "output_type": "stream",
     "text": [
      "Processed chunk 306/341\n"
     ]
    },
    {
     "name": "stderr",
     "output_type": "stream",
     "text": [
      "Generating Samples: 100%|██████████| 10000/10000 [00:00<00:00, 14182.16it/s]\n"
     ]
    },
    {
     "name": "stdout",
     "output_type": "stream",
     "text": [
      "Processed chunk 307/341\n"
     ]
    },
    {
     "name": "stderr",
     "output_type": "stream",
     "text": [
      "Generating Samples: 100%|██████████| 10000/10000 [00:00<00:00, 14106.72it/s]\n"
     ]
    },
    {
     "name": "stdout",
     "output_type": "stream",
     "text": [
      "Processed chunk 308/341\n"
     ]
    },
    {
     "name": "stderr",
     "output_type": "stream",
     "text": [
      "Generating Samples: 100%|██████████| 10000/10000 [00:00<00:00, 13855.23it/s]\n"
     ]
    },
    {
     "name": "stdout",
     "output_type": "stream",
     "text": [
      "Processed chunk 309/341\n"
     ]
    },
    {
     "name": "stderr",
     "output_type": "stream",
     "text": [
      "Generating Samples: 100%|██████████| 10000/10000 [00:00<00:00, 13991.89it/s]\n"
     ]
    },
    {
     "name": "stdout",
     "output_type": "stream",
     "text": [
      "Processed chunk 310/341\n"
     ]
    },
    {
     "name": "stderr",
     "output_type": "stream",
     "text": [
      "Generating Samples: 100%|██████████| 10000/10000 [00:00<00:00, 14021.02it/s]\n"
     ]
    },
    {
     "name": "stdout",
     "output_type": "stream",
     "text": [
      "Processed chunk 311/341\n"
     ]
    },
    {
     "name": "stderr",
     "output_type": "stream",
     "text": [
      "Generating Samples: 100%|██████████| 10000/10000 [00:00<00:00, 14064.89it/s]\n"
     ]
    },
    {
     "name": "stdout",
     "output_type": "stream",
     "text": [
      "Processed chunk 312/341\n"
     ]
    },
    {
     "name": "stderr",
     "output_type": "stream",
     "text": [
      "Generating Samples: 100%|██████████| 10000/10000 [00:00<00:00, 14143.33it/s]\n"
     ]
    },
    {
     "name": "stdout",
     "output_type": "stream",
     "text": [
      "Processed chunk 313/341\n"
     ]
    },
    {
     "name": "stderr",
     "output_type": "stream",
     "text": [
      "Generating Samples: 100%|██████████| 10000/10000 [00:00<00:00, 13762.00it/s]\n"
     ]
    },
    {
     "name": "stdout",
     "output_type": "stream",
     "text": [
      "Processed chunk 314/341\n"
     ]
    },
    {
     "name": "stderr",
     "output_type": "stream",
     "text": [
      "Generating Samples: 100%|██████████| 10000/10000 [00:00<00:00, 14095.31it/s]\n"
     ]
    },
    {
     "name": "stdout",
     "output_type": "stream",
     "text": [
      "Processed chunk 315/341\n"
     ]
    },
    {
     "name": "stderr",
     "output_type": "stream",
     "text": [
      "Generating Samples: 100%|██████████| 10000/10000 [00:00<00:00, 14035.46it/s]\n"
     ]
    },
    {
     "name": "stdout",
     "output_type": "stream",
     "text": [
      "Processed chunk 316/341\n"
     ]
    },
    {
     "name": "stderr",
     "output_type": "stream",
     "text": [
      "Generating Samples: 100%|██████████| 10000/10000 [00:00<00:00, 14040.74it/s]\n"
     ]
    },
    {
     "name": "stdout",
     "output_type": "stream",
     "text": [
      "Processed chunk 317/341\n"
     ]
    },
    {
     "name": "stderr",
     "output_type": "stream",
     "text": [
      "Generating Samples: 100%|██████████| 10000/10000 [00:00<00:00, 14101.83it/s]\n"
     ]
    },
    {
     "name": "stdout",
     "output_type": "stream",
     "text": [
      "Processed chunk 318/341\n"
     ]
    },
    {
     "name": "stderr",
     "output_type": "stream",
     "text": [
      "Generating Samples: 100%|██████████| 10000/10000 [00:00<00:00, 13889.06it/s]\n"
     ]
    },
    {
     "name": "stdout",
     "output_type": "stream",
     "text": [
      "Processed chunk 319/341\n"
     ]
    },
    {
     "name": "stderr",
     "output_type": "stream",
     "text": [
      "Generating Samples: 100%|██████████| 10000/10000 [00:00<00:00, 13907.28it/s]\n"
     ]
    },
    {
     "name": "stdout",
     "output_type": "stream",
     "text": [
      "Processed chunk 320/341\n"
     ]
    },
    {
     "name": "stderr",
     "output_type": "stream",
     "text": [
      "Generating Samples: 100%|██████████| 10000/10000 [00:00<00:00, 13652.62it/s]\n"
     ]
    },
    {
     "name": "stdout",
     "output_type": "stream",
     "text": [
      "Processed chunk 321/341\n"
     ]
    },
    {
     "name": "stderr",
     "output_type": "stream",
     "text": [
      "Generating Samples: 100%|██████████| 10000/10000 [00:00<00:00, 14093.24it/s]\n"
     ]
    },
    {
     "name": "stdout",
     "output_type": "stream",
     "text": [
      "Processed chunk 322/341\n"
     ]
    },
    {
     "name": "stderr",
     "output_type": "stream",
     "text": [
      "Generating Samples: 100%|██████████| 10000/10000 [00:00<00:00, 13975.20it/s]\n"
     ]
    },
    {
     "name": "stdout",
     "output_type": "stream",
     "text": [
      "Processed chunk 323/341\n"
     ]
    },
    {
     "name": "stderr",
     "output_type": "stream",
     "text": [
      "Generating Samples: 100%|██████████| 10000/10000 [00:00<00:00, 13909.89it/s]\n"
     ]
    },
    {
     "name": "stdout",
     "output_type": "stream",
     "text": [
      "Processed chunk 324/341\n"
     ]
    },
    {
     "name": "stderr",
     "output_type": "stream",
     "text": [
      "Generating Samples: 100%|██████████| 10000/10000 [00:00<00:00, 13879.33it/s]\n"
     ]
    },
    {
     "name": "stdout",
     "output_type": "stream",
     "text": [
      "Processed chunk 325/341\n"
     ]
    },
    {
     "name": "stderr",
     "output_type": "stream",
     "text": [
      "Generating Samples: 100%|██████████| 10000/10000 [00:00<00:00, 13286.96it/s]\n"
     ]
    },
    {
     "name": "stdout",
     "output_type": "stream",
     "text": [
      "Processed chunk 326/341\n"
     ]
    },
    {
     "name": "stderr",
     "output_type": "stream",
     "text": [
      "Generating Samples: 100%|██████████| 10000/10000 [00:00<00:00, 13572.94it/s]\n"
     ]
    },
    {
     "name": "stdout",
     "output_type": "stream",
     "text": [
      "Processed chunk 327/341\n"
     ]
    },
    {
     "name": "stderr",
     "output_type": "stream",
     "text": [
      "Generating Samples: 100%|██████████| 10000/10000 [00:00<00:00, 13468.11it/s]\n"
     ]
    },
    {
     "name": "stdout",
     "output_type": "stream",
     "text": [
      "Processed chunk 328/341\n"
     ]
    },
    {
     "name": "stderr",
     "output_type": "stream",
     "text": [
      "Generating Samples: 100%|██████████| 10000/10000 [00:00<00:00, 13710.28it/s]\n"
     ]
    },
    {
     "name": "stdout",
     "output_type": "stream",
     "text": [
      "Processed chunk 329/341\n"
     ]
    },
    {
     "name": "stderr",
     "output_type": "stream",
     "text": [
      "Generating Samples: 100%|██████████| 10000/10000 [00:00<00:00, 13508.91it/s]\n"
     ]
    },
    {
     "name": "stdout",
     "output_type": "stream",
     "text": [
      "Processed chunk 330/341\n"
     ]
    },
    {
     "name": "stderr",
     "output_type": "stream",
     "text": [
      "Generating Samples: 100%|██████████| 10000/10000 [00:00<00:00, 13611.42it/s]\n"
     ]
    },
    {
     "name": "stdout",
     "output_type": "stream",
     "text": [
      "Processed chunk 331/341\n"
     ]
    },
    {
     "name": "stderr",
     "output_type": "stream",
     "text": [
      "Generating Samples: 100%|██████████| 10000/10000 [00:00<00:00, 14074.09it/s]\n"
     ]
    },
    {
     "name": "stdout",
     "output_type": "stream",
     "text": [
      "Processed chunk 332/341\n"
     ]
    },
    {
     "name": "stderr",
     "output_type": "stream",
     "text": [
      "Generating Samples: 100%|██████████| 10000/10000 [00:00<00:00, 13872.63it/s]\n"
     ]
    },
    {
     "name": "stdout",
     "output_type": "stream",
     "text": [
      "Processed chunk 333/341\n"
     ]
    },
    {
     "name": "stderr",
     "output_type": "stream",
     "text": [
      "Generating Samples: 100%|██████████| 10000/10000 [00:00<00:00, 14058.17it/s]\n"
     ]
    },
    {
     "name": "stdout",
     "output_type": "stream",
     "text": [
      "Processed chunk 334/341\n"
     ]
    },
    {
     "name": "stderr",
     "output_type": "stream",
     "text": [
      "Generating Samples: 100%|██████████| 10000/10000 [00:00<00:00, 14027.37it/s]\n"
     ]
    },
    {
     "name": "stdout",
     "output_type": "stream",
     "text": [
      "Processed chunk 335/341\n"
     ]
    },
    {
     "name": "stderr",
     "output_type": "stream",
     "text": [
      "Generating Samples: 100%|██████████| 10000/10000 [00:00<00:00, 14177.72it/s]\n"
     ]
    },
    {
     "name": "stdout",
     "output_type": "stream",
     "text": [
      "Processed chunk 336/341\n"
     ]
    },
    {
     "name": "stderr",
     "output_type": "stream",
     "text": [
      "Generating Samples: 100%|██████████| 10000/10000 [00:00<00:00, 14068.42it/s]\n"
     ]
    },
    {
     "name": "stdout",
     "output_type": "stream",
     "text": [
      "Processed chunk 337/341\n"
     ]
    },
    {
     "name": "stderr",
     "output_type": "stream",
     "text": [
      "Generating Samples: 100%|██████████| 10000/10000 [00:00<00:00, 13805.46it/s]\n"
     ]
    },
    {
     "name": "stdout",
     "output_type": "stream",
     "text": [
      "Processed chunk 338/341\n"
     ]
    },
    {
     "name": "stderr",
     "output_type": "stream",
     "text": [
      "Generating Samples: 100%|██████████| 10000/10000 [00:00<00:00, 14119.05it/s]\n"
     ]
    },
    {
     "name": "stdout",
     "output_type": "stream",
     "text": [
      "Processed chunk 339/341\n"
     ]
    },
    {
     "name": "stderr",
     "output_type": "stream",
     "text": [
      "Generating Samples: 100%|██████████| 10000/10000 [00:00<00:00, 14151.36it/s]\n"
     ]
    },
    {
     "name": "stdout",
     "output_type": "stream",
     "text": [
      "Processed chunk 340/341\n"
     ]
    },
    {
     "name": "stderr",
     "output_type": "stream",
     "text": [
      "Generating Samples: 100%|██████████| 4929/4929 [00:00<00:00, 14161.03it/s]\n"
     ]
    },
    {
     "name": "stdout",
     "output_type": "stream",
     "text": [
      "Processed chunk 341/341\n"
     ]
    }
   ],
   "source": [
    "import numpy as np\n",
    "import pandas as pd\n",
    "from astropy import units as u\n",
    "from astropy.coordinates import ICRS, Galactocentric, CylindricalRepresentation, CylindricalDifferential\n",
    "from astropy.coordinates import CartesianDifferential\n",
    "from tqdm import tqdm  # Import tqdm for progress bar\n",
    "\n",
    "# Function to compute velocities using your existing code (with perturbations)\n",
    "def compute_velocity_components_with_uncertainty_vectorized(ra, dec, distance, pmra, pmdec, vlos, gc_frame):\n",
    "    # Create a SkyCoord object for all sources at once\n",
    "    coords = ICRS(ra=ra, dec=dec, distance=distance, pm_ra_cosdec=pmra, pm_dec=pmdec, radial_velocity=vlos)\n",
    "\n",
    "    # Transform to Galactocentric frame\n",
    "    cg = coords.transform_to(gc_frame)\n",
    "    cg.representation = 'cylindrical'\n",
    "\n",
    "    # Convert to cylindrical representation\n",
    "    cg_cyl = cg.represent_as(CylindricalRepresentation)\n",
    "\n",
    "    # Extract the velocity differentials (d_rho, d_phi, d_z)\n",
    "    cg_cyl_vel = cg.represent_as(CylindricalRepresentation, CylindricalDifferential).differentials['s']\n",
    "\n",
    "    # Compute velocities in km/s\n",
    "    v_r_kms = cg_cyl_vel.d_rho.to(u.km / u.s)\n",
    "    v_phi_kms = -(cg_cyl_vel.d_phi.to(u.rad / u.s) * cg_cyl.rho.to(u.km))\n",
    "    v_z_kms = cg_cyl_vel.d_z.to(u.km / u.s)\n",
    "\n",
    "    return v_r_kms, v_phi_kms, v_z_kms\n",
    "\n",
    "# Number of samples for uncertainty propagation\n",
    "n_samples = 100\n",
    "\n",
    "# Define the Sun's velocity with respect to the Galactic center\n",
    "v_sun = CartesianDifferential([11.1, 245., 7.25] * u.km / u.s)\n",
    "\n",
    "# Define the Galactocentric frame with Sun's motion\n",
    "gc_frame = Galactocentric(galcen_distance=8.1 * u.kpc, \n",
    "                          z_sun=25 * u.pc, \n",
    "                          galcen_v_sun=v_sun)\n",
    "\n",
    "# Function to generate the perturbed samples for each parameter using Gaussian distributions\n",
    "def generate_samples_vectorized(df_v_chunk, n_samples, correlation_pmra_pmdec):\n",
    "    # Extract relevant columns as NumPy arrays\n",
    "    pmra = df_v_chunk['pmra'].values\n",
    "    pmdec = df_v_chunk['pmdec'].values\n",
    "    pmra_error = df_v_chunk['pmra_error'].values\n",
    "    pmdec_error = df_v_chunk['pmdec_error'].values\n",
    "    ra = df_v_chunk['ra'].values\n",
    "    dec = df_v_chunk['dec'].values\n",
    "    distance = df_v_chunk['rpgeo'].values\n",
    "    vlos = df_v_chunk['radial_velocity'].values\n",
    "    \n",
    "    # Prepare empty arrays to store the samples\n",
    "    ra_samples = np.zeros((n_samples, len(df_v_chunk)))\n",
    "    dec_samples = np.zeros((n_samples, len(df_v_chunk)))\n",
    "    distance_samples = np.zeros((n_samples, len(df_v_chunk)))\n",
    "    vlos_samples = np.zeros((n_samples, len(df_v_chunk)))\n",
    "    pmra_samples = np.zeros((n_samples, len(df_v_chunk)))\n",
    "    pmdec_samples = np.zeros((n_samples, len(df_v_chunk)))\n",
    "\n",
    "    # Use tqdm for progress bar in the loop\n",
    "    for i, (ra_val, dec_val, dist_val, vlos_val, pmra_err, pmdec_err) in tqdm(enumerate(zip(ra, dec, distance, vlos, pmra_error, pmdec_error)), total=len(df_v_chunk), desc=\"Generating Samples\"):\n",
    "        # Construct covariance matrix for pmra and pmdec\n",
    "        cov_pmra_pmdec = correlation_pmra_pmdec * pmra_err * pmdec_err\n",
    "        cov_matrix = np.array([[pmra_err**2, cov_pmra_pmdec],\n",
    "                               [cov_pmra_pmdec, pmdec_err**2]])\n",
    "\n",
    "        # Generate 100 samples for pmra and pmdec using the covariance matrix\n",
    "        pm_samples = np.random.multivariate_normal([pmra[i], pmdec[i]], cov_matrix, n_samples)\n",
    "        pmra_samples[:, i], pmdec_samples[:, i] = pm_samples[:, 0], pm_samples[:, 1]\n",
    "\n",
    "        # Generate samples for other parameters\n",
    "        ra_samples[:, i] = np.random.normal(ra[i], df_v_chunk['parallax_error'][i], n_samples)\n",
    "        dec_samples[:, i] = np.random.normal(dec[i], df_v_chunk['parallax_error'][i], n_samples)\n",
    "        distance_samples[:, i] = np.random.normal(dist_val, df_v_chunk['rpgeo_error'][i], n_samples)\n",
    "        vlos_samples[:, i] = np.random.normal(vlos_val, df_v_chunk['radial_velocity_error'][i], n_samples)\n",
    "\n",
    "        # Clip dec_samples to be within [-90, 90] degrees\n",
    "        dec_samples[:, i] = np.clip(dec_samples[:, i], -90, 90)\n",
    "\n",
    "        # Ensure ra_samples are within [0, 360] degrees\n",
    "        ra_samples[:, i] = np.mod(ra_samples[:, i], 360)\n",
    "\n",
    "        # Clip distance_samples to ensure all distances are >= 0 (or use a small positive value)\n",
    "        distance_samples[:, i] = np.clip(distance_samples[:, i], 1e-5, None)\n",
    "\n",
    "    # Return the perturbed parameter samples\n",
    "    return ra_samples, dec_samples, distance_samples, pmra_samples, pmdec_samples, vlos_samples\n",
    "\n",
    "# Split the dataframe into smaller chunks\n",
    "chunk_size = 10000  # You can adjust this value based on your available memory\n",
    "num_chunks = len(df_v) // chunk_size + 1\n",
    "\n",
    "# Create an empty list to store the final DataFrame after processing each chunk\n",
    "df_v_combined = []\n",
    "\n",
    "# Process each chunk\n",
    "for chunk_num in range(num_chunks):\n",
    "    start_idx = chunk_num * chunk_size\n",
    "    end_idx = min((chunk_num + 1) * chunk_size, len(df_v))\n",
    "\n",
    "    # Get the current chunk of the DataFrame\n",
    "    df_v_chunk = df_v[start_idx:end_idx].reset_index(drop=True)  # Reset the index\n",
    "\n",
    "    # Generate perturbed samples for the current chunk\n",
    "    ra_samples, dec_samples, distance_samples, pmra_samples, pmdec_samples, vlos_samples = generate_samples_vectorized(df_v_chunk, n_samples, correlation_pmra_pmdec)\n",
    "\n",
    "    # Compute velocities for all samples in a vectorized way\n",
    "    v_r_samples, v_phi_samples, v_z_samples = compute_velocity_components_with_uncertainty_vectorized(\n",
    "        ra_samples * u.deg, dec_samples * u.deg, distance_samples * u.pc, \n",
    "        pmra_samples * u.mas / u.yr, pmdec_samples * u.mas / u.yr, vlos_samples * u.km / u.s, gc_frame\n",
    "    )\n",
    "\n",
    "    # Compute uncertainty (standard deviation) for each velocity component\n",
    "    v_r_uncertainty = np.std(v_r_samples, axis=0)\n",
    "    v_phi_uncertainty = np.std(v_phi_samples, axis=0)\n",
    "    v_z_uncertainty = np.std(v_z_samples, axis=0)\n",
    "\n",
    "    # Add uncertainties to the current chunk of the dataframe\n",
    "    df_v_chunk['v_R_uncertainty'] = v_r_uncertainty\n",
    "    df_v_chunk['v_phi_uncertainty'] = v_phi_uncertainty\n",
    "    df_v_chunk['v_Z_uncertainty'] = v_z_uncertainty\n",
    "\n",
    "    # Append the processed chunk to the final dataframe list\n",
    "    df_v_combined.append(df_v_chunk)\n",
    "\n",
    "    print(f\"Processed chunk {chunk_num + 1}/{num_chunks}\")\n",
    "\n",
    "# Concatenate all chunks into one final DataFrame\n",
    "df_v_final = pd.concat(df_v_combined, ignore_index=True)\n"
   ]
  },
  {
   "cell_type": "code",
   "execution_count": 22,
   "metadata": {},
   "outputs": [
    {
     "data": {
      "text/html": [
       "<div>\n",
       "<style scoped>\n",
       "    .dataframe tbody tr th:only-of-type {\n",
       "        vertical-align: middle;\n",
       "    }\n",
       "\n",
       "    .dataframe tbody tr th {\n",
       "        vertical-align: top;\n",
       "    }\n",
       "\n",
       "    .dataframe thead th {\n",
       "        text-align: right;\n",
       "    }\n",
       "</style>\n",
       "<table border=\"1\" class=\"dataframe\">\n",
       "  <thead>\n",
       "    <tr style=\"text-align: right;\">\n",
       "      <th></th>\n",
       "      <th>source_id</th>\n",
       "      <th>l</th>\n",
       "      <th>b</th>\n",
       "      <th>ra</th>\n",
       "      <th>dec</th>\n",
       "      <th>parallax</th>\n",
       "      <th>parallax_error</th>\n",
       "      <th>pmra</th>\n",
       "      <th>pmra_error</th>\n",
       "      <th>pmdec</th>\n",
       "      <th>pmdec_error</th>\n",
       "      <th>ruwe</th>\n",
       "      <th>radial_velocity</th>\n",
       "      <th>radial_velocity_error</th>\n",
       "      <th>phot_g_mean_mag</th>\n",
       "      <th>phot_bp_mean_mag</th>\n",
       "      <th>phot_rp_mean_mag</th>\n",
       "      <th>catwise_w1</th>\n",
       "      <th>catwise_w2</th>\n",
       "      <th>mh_xgboost</th>\n",
       "      <th>teff_xgboost</th>\n",
       "      <th>logg_xgboost</th>\n",
       "      <th>in_training_sample</th>\n",
       "      <th>col1</th>\n",
       "      <th>col2</th>\n",
       "      <th>Source</th>\n",
       "      <th>RA_ICRS</th>\n",
       "      <th>DE_ICRS</th>\n",
       "      <th>rgeo</th>\n",
       "      <th>b_rgeo_x</th>\n",
       "      <th>B_rgeo_xa</th>\n",
       "      <th>rpgeo</th>\n",
       "      <th>b_rpgeo_x</th>\n",
       "      <th>B_rpgeo_xa</th>\n",
       "      <th>Flag</th>\n",
       "      <th>angDist</th>\n",
       "      <th>fpu</th>\n",
       "      <th>E(B-V)</th>\n",
       "      <th>distance_kpc</th>\n",
       "      <th>R</th>\n",
       "      <th>Z</th>\n",
       "      <th>R_gal</th>\n",
       "      <th>phi_gal</th>\n",
       "      <th>Z_gal</th>\n",
       "      <th>v_phi</th>\n",
       "      <th>v_R</th>\n",
       "      <th>v_Z</th>\n",
       "      <th>rpgeo_error</th>\n",
       "      <th>v_R_uncertainty</th>\n",
       "      <th>v_phi_uncertainty</th>\n",
       "      <th>v_Z_uncertainty</th>\n",
       "    </tr>\n",
       "  </thead>\n",
       "  <tbody>\n",
       "    <tr>\n",
       "      <th>0</th>\n",
       "      <td>15741055975040</td>\n",
       "      <td>176.739184</td>\n",
       "      <td>-48.572035</td>\n",
       "      <td>45.136038</td>\n",
       "      <td>0.335043</td>\n",
       "      <td>1.439792</td>\n",
       "      <td>0.018947</td>\n",
       "      <td>-0.711280</td>\n",
       "      <td>0.017718</td>\n",
       "      <td>-1.412098</td>\n",
       "      <td>0.016528</td>\n",
       "      <td>1.036041</td>\n",
       "      <td>-0.738894</td>\n",
       "      <td>0.316921</td>\n",
       "      <td>10.254021</td>\n",
       "      <td>10.750235</td>\n",
       "      <td>9.595748</td>\n",
       "      <td>8.152</td>\n",
       "      <td>8.198</td>\n",
       "      <td>-0.144</td>\n",
       "      <td>5065.8</td>\n",
       "      <td>2.993</td>\n",
       "      <td>True</td>\n",
       "      <td>45.136038</td>\n",
       "      <td>0.335043</td>\n",
       "      <td>15741055975040</td>\n",
       "      <td>45.136038</td>\n",
       "      <td>0.335043</td>\n",
       "      <td>695.683899</td>\n",
       "      <td>683.627625</td>\n",
       "      <td>707.396423</td>\n",
       "      <td>696.278320</td>\n",
       "      <td>688.270874</td>\n",
       "      <td>707.143982</td>\n",
       "      <td>10033</td>\n",
       "      <td>0.0</td>\n",
       "      <td>0.013160</td>\n",
       "      <td>0.104689</td>\n",
       "      <td>696.278320</td>\n",
       "      <td>8.582006</td>\n",
       "      <td>-0.522061</td>\n",
       "      <td>470.485258</td>\n",
       "      <td>0.055731</td>\n",
       "      <td>-520.632142</td>\n",
       "      <td>243.095762</td>\n",
       "      <td>-14.428048</td>\n",
       "      <td>4.529900</td>\n",
       "      <td>9.436554</td>\n",
       "      <td>0.235744</td>\n",
       "      <td>0.058923</td>\n",
       "      <td>0.249724</td>\n",
       "    </tr>\n",
       "    <tr>\n",
       "      <th>1</th>\n",
       "      <td>66627828480768</td>\n",
       "      <td>176.483565</td>\n",
       "      <td>-48.171322</td>\n",
       "      <td>45.305053</td>\n",
       "      <td>0.736093</td>\n",
       "      <td>0.534038</td>\n",
       "      <td>0.020692</td>\n",
       "      <td>3.309832</td>\n",
       "      <td>0.022959</td>\n",
       "      <td>1.594356</td>\n",
       "      <td>0.022822</td>\n",
       "      <td>1.349013</td>\n",
       "      <td>41.607450</td>\n",
       "      <td>1.323430</td>\n",
       "      <td>10.508830</td>\n",
       "      <td>11.150953</td>\n",
       "      <td>9.741709</td>\n",
       "      <td>7.891</td>\n",
       "      <td>7.964</td>\n",
       "      <td>-0.401</td>\n",
       "      <td>4499.0</td>\n",
       "      <td>1.916</td>\n",
       "      <td>False</td>\n",
       "      <td>45.305053</td>\n",
       "      <td>0.736093</td>\n",
       "      <td>66627828480768</td>\n",
       "      <td>45.305053</td>\n",
       "      <td>0.736093</td>\n",
       "      <td>1884.275020</td>\n",
       "      <td>1821.247560</td>\n",
       "      <td>1947.302730</td>\n",
       "      <td>1883.143550</td>\n",
       "      <td>1807.318600</td>\n",
       "      <td>1944.665770</td>\n",
       "      <td>10033</td>\n",
       "      <td>0.0</td>\n",
       "      <td>0.038747</td>\n",
       "      <td>0.093026</td>\n",
       "      <td>1883.143550</td>\n",
       "      <td>9.375831</td>\n",
       "      <td>-1.403210</td>\n",
       "      <td>1268.325930</td>\n",
       "      <td>0.060773</td>\n",
       "      <td>-1399.358389</td>\n",
       "      <td>237.364263</td>\n",
       "      <td>42.346437</td>\n",
       "      <td>-2.860027</td>\n",
       "      <td>68.673585</td>\n",
       "      <td>1.581327</td>\n",
       "      <td>0.422754</td>\n",
       "      <td>1.173761</td>\n",
       "    </tr>\n",
       "    <tr>\n",
       "      <th>2</th>\n",
       "      <td>82467667849472</td>\n",
       "      <td>176.209301</td>\n",
       "      <td>-48.607026</td>\n",
       "      <td>44.866246</td>\n",
       "      <td>0.561503</td>\n",
       "      <td>2.209985</td>\n",
       "      <td>0.016049</td>\n",
       "      <td>-4.869755</td>\n",
       "      <td>0.015797</td>\n",
       "      <td>-12.678339</td>\n",
       "      <td>0.013950</td>\n",
       "      <td>1.018742</td>\n",
       "      <td>-32.461674</td>\n",
       "      <td>0.205614</td>\n",
       "      <td>10.651456</td>\n",
       "      <td>11.169626</td>\n",
       "      <td>9.980610</td>\n",
       "      <td>8.496</td>\n",
       "      <td>8.558</td>\n",
       "      <td>0.114</td>\n",
       "      <td>4938.3</td>\n",
       "      <td>3.203</td>\n",
       "      <td>True</td>\n",
       "      <td>44.866246</td>\n",
       "      <td>0.561503</td>\n",
       "      <td>82467667849472</td>\n",
       "      <td>44.866246</td>\n",
       "      <td>0.561503</td>\n",
       "      <td>452.636078</td>\n",
       "      <td>448.701294</td>\n",
       "      <td>456.615540</td>\n",
       "      <td>452.602692</td>\n",
       "      <td>449.257355</td>\n",
       "      <td>455.432892</td>\n",
       "      <td>10033</td>\n",
       "      <td>0.0</td>\n",
       "      <td>0.007262</td>\n",
       "      <td>0.086075</td>\n",
       "      <td>452.602692</td>\n",
       "      <td>8.420638</td>\n",
       "      <td>-0.339539</td>\n",
       "      <td>308.483632</td>\n",
       "      <td>0.064184</td>\n",
       "      <td>-338.602406</td>\n",
       "      <td>230.329127</td>\n",
       "      <td>-51.045366</td>\n",
       "      <td>13.944756</td>\n",
       "      <td>3.087768</td>\n",
       "      <td>0.190124</td>\n",
       "      <td>0.101122</td>\n",
       "      <td>0.222172</td>\n",
       "    </tr>\n",
       "    <tr>\n",
       "      <th>3</th>\n",
       "      <td>101193725229056</td>\n",
       "      <td>175.755174</td>\n",
       "      <td>-48.727781</td>\n",
       "      <td>44.569524</td>\n",
       "      <td>0.689953</td>\n",
       "      <td>0.528788</td>\n",
       "      <td>0.024241</td>\n",
       "      <td>3.539184</td>\n",
       "      <td>0.027864</td>\n",
       "      <td>-1.599436</td>\n",
       "      <td>0.021891</td>\n",
       "      <td>1.176748</td>\n",
       "      <td>91.295900</td>\n",
       "      <td>4.830661</td>\n",
       "      <td>14.332739</td>\n",
       "      <td>14.816101</td>\n",
       "      <td>13.685076</td>\n",
       "      <td>12.220</td>\n",
       "      <td>12.275</td>\n",
       "      <td>-0.478</td>\n",
       "      <td>4980.2</td>\n",
       "      <td>3.319</td>\n",
       "      <td>False</td>\n",
       "      <td>44.569524</td>\n",
       "      <td>0.689953</td>\n",
       "      <td>101193725229056</td>\n",
       "      <td>44.569524</td>\n",
       "      <td>0.689953</td>\n",
       "      <td>1908.478270</td>\n",
       "      <td>1815.024170</td>\n",
       "      <td>2014.483890</td>\n",
       "      <td>1868.603880</td>\n",
       "      <td>1800.940800</td>\n",
       "      <td>1949.831300</td>\n",
       "      <td>10033</td>\n",
       "      <td>0.0</td>\n",
       "      <td>0.045842</td>\n",
       "      <td>0.078062</td>\n",
       "      <td>1868.603880</td>\n",
       "      <td>9.351665</td>\n",
       "      <td>-1.404413</td>\n",
       "      <td>1245.041147</td>\n",
       "      <td>0.073347</td>\n",
       "      <td>-1400.635394</td>\n",
       "      <td>217.472712</td>\n",
       "      <td>62.829005</td>\n",
       "      <td>-53.068842</td>\n",
       "      <td>74.445250</td>\n",
       "      <td>3.604650</td>\n",
       "      <td>1.437702</td>\n",
       "      <td>3.917881</td>\n",
       "    </tr>\n",
       "    <tr>\n",
       "      <th>4</th>\n",
       "      <td>130399502833792</td>\n",
       "      <td>175.789759</td>\n",
       "      <td>-48.328584</td>\n",
       "      <td>44.868872</td>\n",
       "      <td>0.955080</td>\n",
       "      <td>0.847929</td>\n",
       "      <td>0.017479</td>\n",
       "      <td>3.382907</td>\n",
       "      <td>0.017619</td>\n",
       "      <td>-0.291235</td>\n",
       "      <td>0.015982</td>\n",
       "      <td>1.087555</td>\n",
       "      <td>1.959265</td>\n",
       "      <td>0.328298</td>\n",
       "      <td>11.215295</td>\n",
       "      <td>11.810178</td>\n",
       "      <td>10.481738</td>\n",
       "      <td>8.728</td>\n",
       "      <td>8.815</td>\n",
       "      <td>-0.159</td>\n",
       "      <td>4643.6</td>\n",
       "      <td>2.398</td>\n",
       "      <td>True</td>\n",
       "      <td>44.868872</td>\n",
       "      <td>0.955080</td>\n",
       "      <td>130399502833792</td>\n",
       "      <td>44.868872</td>\n",
       "      <td>0.955080</td>\n",
       "      <td>1178.407470</td>\n",
       "      <td>1155.319820</td>\n",
       "      <td>1203.711180</td>\n",
       "      <td>1177.687260</td>\n",
       "      <td>1154.219600</td>\n",
       "      <td>1201.322750</td>\n",
       "      <td>10033</td>\n",
       "      <td>0.0</td>\n",
       "      <td>0.020614</td>\n",
       "      <td>0.077163</td>\n",
       "      <td>1177.687260</td>\n",
       "      <td>8.903067</td>\n",
       "      <td>-0.879697</td>\n",
       "      <td>793.842786</td>\n",
       "      <td>0.072479</td>\n",
       "      <td>-877.288236</td>\n",
       "      <td>231.337541</td>\n",
       "      <td>1.866465</td>\n",
       "      <td>13.969564</td>\n",
       "      <td>23.551575</td>\n",
       "      <td>0.328358</td>\n",
       "      <td>0.295550</td>\n",
       "      <td>0.280134</td>\n",
       "    </tr>\n",
       "  </tbody>\n",
       "</table>\n",
       "</div>"
      ],
      "text/plain": [
       "         source_id           l          b         ra       dec  parallax  \\\n",
       "0   15741055975040  176.739184 -48.572035  45.136038  0.335043  1.439792   \n",
       "1   66627828480768  176.483565 -48.171322  45.305053  0.736093  0.534038   \n",
       "2   82467667849472  176.209301 -48.607026  44.866246  0.561503  2.209985   \n",
       "3  101193725229056  175.755174 -48.727781  44.569524  0.689953  0.528788   \n",
       "4  130399502833792  175.789759 -48.328584  44.868872  0.955080  0.847929   \n",
       "\n",
       "   parallax_error      pmra  pmra_error      pmdec  pmdec_error      ruwe  \\\n",
       "0        0.018947 -0.711280    0.017718  -1.412098     0.016528  1.036041   \n",
       "1        0.020692  3.309832    0.022959   1.594356     0.022822  1.349013   \n",
       "2        0.016049 -4.869755    0.015797 -12.678339     0.013950  1.018742   \n",
       "3        0.024241  3.539184    0.027864  -1.599436     0.021891  1.176748   \n",
       "4        0.017479  3.382907    0.017619  -0.291235     0.015982  1.087555   \n",
       "\n",
       "   radial_velocity  radial_velocity_error  phot_g_mean_mag  phot_bp_mean_mag  \\\n",
       "0        -0.738894               0.316921        10.254021         10.750235   \n",
       "1        41.607450               1.323430        10.508830         11.150953   \n",
       "2       -32.461674               0.205614        10.651456         11.169626   \n",
       "3        91.295900               4.830661        14.332739         14.816101   \n",
       "4         1.959265               0.328298        11.215295         11.810178   \n",
       "\n",
       "   phot_rp_mean_mag  catwise_w1  catwise_w2  mh_xgboost  teff_xgboost  \\\n",
       "0          9.595748       8.152       8.198      -0.144        5065.8   \n",
       "1          9.741709       7.891       7.964      -0.401        4499.0   \n",
       "2          9.980610       8.496       8.558       0.114        4938.3   \n",
       "3         13.685076      12.220      12.275      -0.478        4980.2   \n",
       "4         10.481738       8.728       8.815      -0.159        4643.6   \n",
       "\n",
       "   logg_xgboost  in_training_sample       col1      col2           Source  \\\n",
       "0         2.993                True  45.136038  0.335043   15741055975040   \n",
       "1         1.916               False  45.305053  0.736093   66627828480768   \n",
       "2         3.203                True  44.866246  0.561503   82467667849472   \n",
       "3         3.319               False  44.569524  0.689953  101193725229056   \n",
       "4         2.398                True  44.868872  0.955080  130399502833792   \n",
       "\n",
       "     RA_ICRS   DE_ICRS         rgeo     b_rgeo_x    B_rgeo_xa        rpgeo  \\\n",
       "0  45.136038  0.335043   695.683899   683.627625   707.396423   696.278320   \n",
       "1  45.305053  0.736093  1884.275020  1821.247560  1947.302730  1883.143550   \n",
       "2  44.866246  0.561503   452.636078   448.701294   456.615540   452.602692   \n",
       "3  44.569524  0.689953  1908.478270  1815.024170  2014.483890  1868.603880   \n",
       "4  44.868872  0.955080  1178.407470  1155.319820  1203.711180  1177.687260   \n",
       "\n",
       "     b_rpgeo_x   B_rpgeo_xa   Flag  angDist       fpu    E(B-V)  distance_kpc  \\\n",
       "0   688.270874   707.143982  10033      0.0  0.013160  0.104689    696.278320   \n",
       "1  1807.318600  1944.665770  10033      0.0  0.038747  0.093026   1883.143550   \n",
       "2   449.257355   455.432892  10033      0.0  0.007262  0.086075    452.602692   \n",
       "3  1800.940800  1949.831300  10033      0.0  0.045842  0.078062   1868.603880   \n",
       "4  1154.219600  1201.322750  10033      0.0  0.020614  0.077163   1177.687260   \n",
       "\n",
       "          R         Z        R_gal   phi_gal        Z_gal       v_phi  \\\n",
       "0  8.582006 -0.522061   470.485258  0.055731  -520.632142  243.095762   \n",
       "1  9.375831 -1.403210  1268.325930  0.060773 -1399.358389  237.364263   \n",
       "2  8.420638 -0.339539   308.483632  0.064184  -338.602406  230.329127   \n",
       "3  9.351665 -1.404413  1245.041147  0.073347 -1400.635394  217.472712   \n",
       "4  8.903067 -0.879697   793.842786  0.072479  -877.288236  231.337541   \n",
       "\n",
       "         v_R        v_Z  rpgeo_error  v_R_uncertainty  v_phi_uncertainty  \\\n",
       "0 -14.428048   4.529900     9.436554         0.235744           0.058923   \n",
       "1  42.346437  -2.860027    68.673585         1.581327           0.422754   \n",
       "2 -51.045366  13.944756     3.087768         0.190124           0.101122   \n",
       "3  62.829005 -53.068842    74.445250         3.604650           1.437702   \n",
       "4   1.866465  13.969564    23.551575         0.328358           0.295550   \n",
       "\n",
       "   v_Z_uncertainty  \n",
       "0         0.249724  \n",
       "1         1.173761  \n",
       "2         0.222172  \n",
       "3         3.917881  \n",
       "4         0.280134  "
      ]
     },
     "execution_count": 22,
     "metadata": {},
     "output_type": "execute_result"
    }
   ],
   "source": [
    "# Iterate over all columns and remove units if they are Quantities\n",
    "for column in df_v_final.columns:\n",
    "    # Check if the column is a Quantity object (which has units)\n",
    "    if isinstance(df_v_final[column].iloc[0], u.Quantity):\n",
    "        # Convert each element in the column to its raw numerical value (stripping units)\n",
    "        df_v_final[column] = df_v_final[column].apply(lambda x: x.value if isinstance(x, u.Quantity) else x)\n",
    "\n",
    "# Now display the first few rows without units\n",
    "df_v_final.head()\n"
   ]
  },
  {
   "cell_type": "code",
   "execution_count": 23,
   "metadata": {},
   "outputs": [
    {
     "name": "stdout",
     "output_type": "stream",
     "text": [
      "FITS file saved as 'df_v_final.fits'\n"
     ]
    }
   ],
   "source": [
    "import numpy as np\n",
    "from astropy.io import fits\n",
    "\n",
    "# Convert the DataFrame to a structured numpy array\n",
    "data_array = np.array(\n",
    "    list(df_v_final.itertuples(index=False, name=None)),\n",
    "    dtype=[(col, df_v_final[col].dtype.type) for col in df_v_final.columns]\n",
    ")\n",
    "\n",
    "# Create a BinTableHDU (FITS header/data unit)\n",
    "hdu = fits.BinTableHDU(data_array)\n",
    "\n",
    "# Define the output FITS file name\n",
    "output_fits_filename = 'df_v_final.fits'\n",
    "\n",
    "# Write the HDU to the FITS file, overwriting if it already exists\n",
    "hdu.writeto(output_fits_filename, overwrite=True)\n",
    "\n",
    "print(f\"FITS file saved as '{output_fits_filename}'\")\n"
   ]
  },
  {
   "cell_type": "code",
   "execution_count": 27,
   "metadata": {},
   "outputs": [
    {
     "name": "stdout",
     "output_type": "stream",
     "text": [
      "count    3.079600e+06\n",
      "mean     2.245083e+00\n",
      "std      2.745910e+00\n",
      "min      1.104523e-02\n",
      "25%      6.608724e-01\n",
      "50%      1.439106e+00\n",
      "75%      2.835768e+00\n",
      "max      1.891121e+02\n",
      "Name: v_R_uncertainty, dtype: float64\n",
      "count    3.079600e+06\n",
      "mean     2.531971e+00\n",
      "std      2.956975e+00\n",
      "min      1.715128e-02\n",
      "25%      7.277450e-01\n",
      "50%      1.644602e+00\n",
      "75%      3.271734e+00\n",
      "max      1.567104e+02\n",
      "Name: v_phi_uncertainty, dtype: float64\n",
      "count    3.079600e+06\n",
      "mean     1.591436e+00\n",
      "std      1.831727e+00\n",
      "min      2.693393e-02\n",
      "25%      4.943707e-01\n",
      "50%      1.015595e+00\n",
      "75%      1.992710e+00\n",
      "max      7.595166e+01\n",
      "Name: v_Z_uncertainty, dtype: float64\n"
     ]
    }
   ],
   "source": [
    "print(df_v_final['v_R_uncertainty'].describe())\n",
    "\n",
    "print(df_v_final['v_phi_uncertainty'].describe())\n",
    "\n",
    "print(df_v_final['v_Z_uncertainty'].describe())"
   ]
  },
  {
   "cell_type": "code",
   "execution_count": 32,
   "metadata": {},
   "outputs": [
    {
     "data": {
      "image/png": "[encoded data removed]",
      "text/plain": [
       "<Figure size 1200x800 with 3 Axes>"
      ]
     },
     "metadata": {},
     "output_type": "display_data"
    }
   ],
   "source": [
    "import matplotlib.pyplot as plt\n",
    "\n",
    "# List of columns that are error-related (you can customize this based on your DataFrame's structure)\n",
    "error_columns = ['v_R_uncertainty', 'v_phi_uncertainty', 'v_Z_uncertainty']  # Add any other error-related columns here\n",
    "\n",
    "# Plot histograms for each error column with 50 bins, zoomed to 0-5\n",
    "plt.figure(figsize=(12, 8))\n",
    "\n",
    "for i, error_col in enumerate(error_columns):\n",
    "    plt.subplot(2, 2, i + 1)  # Create a subplot for each error column\n",
    "    plt.hist(df_v_final[error_col], bins=5000, color='skyblue', edgecolor=None, alpha=0.7)\n",
    "    plt.title(f\"Histogram of {error_col} with 50 bins\")\n",
    "    plt.xlabel('Error Value')\n",
    "    plt.ylabel('Frequency')\n",
    "    plt.xlim(0, 5)  # Zoom in on the range from 0 to 5 for better visualization\n",
    "\n",
    "# Adjust layout for better visualization\n",
    "plt.tight_layout()\n",
    "plt.show()\n"
   ]
  },
  {
   "cell_type": "code",
   "execution_count": null,
   "metadata": {},
   "outputs": [],
   "source": []
  }
 ],
 "metadata": {
  "kernelspec": {
   "display_name": "mphil",
   "language": "python",
   "name": "python3"
  },
  "language_info": {
   "codemirror_mode": {
    "name": "ipython",
    "version": 3
   },
   "file_extension": ".py",
   "mimetype": "text/x-python",
   "name": "python",
   "nbconvert_exporter": "python",
   "pygments_lexer": "ipython3",
   "version": "3.9.20"
  }
 },
 "nbformat": 4,
 "nbformat_minor": 2
}
