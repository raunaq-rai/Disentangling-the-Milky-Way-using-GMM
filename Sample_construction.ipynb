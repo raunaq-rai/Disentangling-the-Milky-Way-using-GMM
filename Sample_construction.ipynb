{
 "cells": [
  {
   "cell_type": "code",
   "execution_count": 1,
   "metadata": {},
   "outputs": [],
   "source": [
    "import astropy\n",
    "from astropy.io import fits\n",
    "import numpy as np\n",
    "import pandas as pd\n",
    "import matplotlib.pyplot as plt\n",
    "import seaborn as sns\n",
    "from tqdm import tqdm\n",
    "from astropy.coordinates import SkyCoord\n",
    "import astropy.units as u\n",
    "from dustmaps.sfd import SFDQuery\n",
    "import dustmaps.sfd"
   ]
  },
  {
   "cell_type": "code",
   "execution_count": 2,
   "metadata": {},
   "outputs": [],
   "source": [
    "sfd = SFDQuery()"
   ]
  },
  {
   "cell_type": "code",
   "execution_count": 3,
   "metadata": {},
   "outputs": [
    {
     "name": "stdout",
     "output_type": "stream",
     "text": [
      "Filename: merged_data.fits\n",
      "No.    Name      Ver    Type      Cards   Dimensions   Format\n",
      "  0  PRIMARY       1 PrimaryHDU       4   ()      \n",
      "  1                1 BinTableHDU     80   17558141R x 36C   [K, D, D, D, D, D, D, D, D, D, D, D, D, D, D, D, D, D, D, D, D, D, L, D, D, K, D, D, D, D, D, D, D, D, I, D]   \n"
     ]
    }
   ],
   "source": [
    "merged = 'merged_data.fits'\n",
    "\n",
    "with fits.open(merged) as hdul:\n",
    "    hdul.info()\n",
    "    columns = hdul[1].columns"
   ]
  },
  {
   "cell_type": "code",
   "execution_count": 4,
   "metadata": {},
   "outputs": [
    {
     "data": {
      "text/html": [
       "<div>\n",
       "<style scoped>\n",
       "    .dataframe tbody tr th:only-of-type {\n",
       "        vertical-align: middle;\n",
       "    }\n",
       "\n",
       "    .dataframe tbody tr th {\n",
       "        vertical-align: top;\n",
       "    }\n",
       "\n",
       "    .dataframe thead th {\n",
       "        text-align: right;\n",
       "    }\n",
       "</style>\n",
       "<table border=\"1\" class=\"dataframe\">\n",
       "  <thead>\n",
       "    <tr style=\"text-align: right;\">\n",
       "      <th></th>\n",
       "      <th>source_id</th>\n",
       "      <th>l</th>\n",
       "      <th>b</th>\n",
       "      <th>ra</th>\n",
       "      <th>dec</th>\n",
       "      <th>parallax</th>\n",
       "      <th>parallax_error</th>\n",
       "      <th>pmra</th>\n",
       "      <th>pmra_error</th>\n",
       "      <th>pmdec</th>\n",
       "      <th>...</th>\n",
       "      <th>RA_ICRS</th>\n",
       "      <th>DE_ICRS</th>\n",
       "      <th>rgeo</th>\n",
       "      <th>b_rgeo_x</th>\n",
       "      <th>B_rgeo_xa</th>\n",
       "      <th>rpgeo</th>\n",
       "      <th>b_rpgeo_x</th>\n",
       "      <th>B_rpgeo_xa</th>\n",
       "      <th>Flag</th>\n",
       "      <th>angDist</th>\n",
       "    </tr>\n",
       "  </thead>\n",
       "  <tbody>\n",
       "    <tr>\n",
       "      <th>0</th>\n",
       "      <td>15741055975040</td>\n",
       "      <td>176.739184</td>\n",
       "      <td>-48.572035</td>\n",
       "      <td>45.136038</td>\n",
       "      <td>0.335043</td>\n",
       "      <td>1.439792</td>\n",
       "      <td>0.018947</td>\n",
       "      <td>-0.711280</td>\n",
       "      <td>0.017718</td>\n",
       "      <td>-1.412098</td>\n",
       "      <td>...</td>\n",
       "      <td>45.136038</td>\n",
       "      <td>0.335043</td>\n",
       "      <td>695.683899</td>\n",
       "      <td>683.627625</td>\n",
       "      <td>707.396423</td>\n",
       "      <td>696.278320</td>\n",
       "      <td>688.270874</td>\n",
       "      <td>707.143982</td>\n",
       "      <td>10033</td>\n",
       "      <td>0.0</td>\n",
       "    </tr>\n",
       "    <tr>\n",
       "      <th>1</th>\n",
       "      <td>25980257976960</td>\n",
       "      <td>176.369336</td>\n",
       "      <td>-48.732076</td>\n",
       "      <td>44.850926</td>\n",
       "      <td>0.398492</td>\n",
       "      <td>2.021930</td>\n",
       "      <td>0.225709</td>\n",
       "      <td>14.369971</td>\n",
       "      <td>0.287671</td>\n",
       "      <td>0.083760</td>\n",
       "      <td>...</td>\n",
       "      <td>44.850926</td>\n",
       "      <td>0.398492</td>\n",
       "      <td>497.943695</td>\n",
       "      <td>440.956787</td>\n",
       "      <td>569.050537</td>\n",
       "      <td>486.625977</td>\n",
       "      <td>437.344543</td>\n",
       "      <td>566.133972</td>\n",
       "      <td>10033</td>\n",
       "      <td>0.0</td>\n",
       "    </tr>\n",
       "    <tr>\n",
       "      <th>2</th>\n",
       "      <td>66627828480768</td>\n",
       "      <td>176.483565</td>\n",
       "      <td>-48.171322</td>\n",
       "      <td>45.305053</td>\n",
       "      <td>0.736093</td>\n",
       "      <td>0.534038</td>\n",
       "      <td>0.020692</td>\n",
       "      <td>3.309832</td>\n",
       "      <td>0.022959</td>\n",
       "      <td>1.594356</td>\n",
       "      <td>...</td>\n",
       "      <td>45.305053</td>\n",
       "      <td>0.736093</td>\n",
       "      <td>1884.275020</td>\n",
       "      <td>1821.247560</td>\n",
       "      <td>1947.302730</td>\n",
       "      <td>1883.143550</td>\n",
       "      <td>1807.318600</td>\n",
       "      <td>1944.665770</td>\n",
       "      <td>10033</td>\n",
       "      <td>0.0</td>\n",
       "    </tr>\n",
       "    <tr>\n",
       "      <th>3</th>\n",
       "      <td>82467667849472</td>\n",
       "      <td>176.209301</td>\n",
       "      <td>-48.607026</td>\n",
       "      <td>44.866246</td>\n",
       "      <td>0.561503</td>\n",
       "      <td>2.209985</td>\n",
       "      <td>0.016049</td>\n",
       "      <td>-4.869755</td>\n",
       "      <td>0.015797</td>\n",
       "      <td>-12.678339</td>\n",
       "      <td>...</td>\n",
       "      <td>44.866246</td>\n",
       "      <td>0.561503</td>\n",
       "      <td>452.636078</td>\n",
       "      <td>448.701294</td>\n",
       "      <td>456.615540</td>\n",
       "      <td>452.602692</td>\n",
       "      <td>449.257355</td>\n",
       "      <td>455.432892</td>\n",
       "      <td>10033</td>\n",
       "      <td>0.0</td>\n",
       "    </tr>\n",
       "    <tr>\n",
       "      <th>4</th>\n",
       "      <td>101193725229056</td>\n",
       "      <td>175.755174</td>\n",
       "      <td>-48.727781</td>\n",
       "      <td>44.569524</td>\n",
       "      <td>0.689953</td>\n",
       "      <td>0.528788</td>\n",
       "      <td>0.024241</td>\n",
       "      <td>3.539184</td>\n",
       "      <td>0.027864</td>\n",
       "      <td>-1.599436</td>\n",
       "      <td>...</td>\n",
       "      <td>44.569524</td>\n",
       "      <td>0.689953</td>\n",
       "      <td>1908.478270</td>\n",
       "      <td>1815.024170</td>\n",
       "      <td>2014.483890</td>\n",
       "      <td>1868.603880</td>\n",
       "      <td>1800.940800</td>\n",
       "      <td>1949.831300</td>\n",
       "      <td>10033</td>\n",
       "      <td>0.0</td>\n",
       "    </tr>\n",
       "  </tbody>\n",
       "</table>\n",
       "<p>5 rows × 36 columns</p>\n",
       "</div>"
      ],
      "text/plain": [
       "         source_id           l          b         ra       dec  parallax  \\\n",
       "0   15741055975040  176.739184 -48.572035  45.136038  0.335043  1.439792   \n",
       "1   25980257976960  176.369336 -48.732076  44.850926  0.398492  2.021930   \n",
       "2   66627828480768  176.483565 -48.171322  45.305053  0.736093  0.534038   \n",
       "3   82467667849472  176.209301 -48.607026  44.866246  0.561503  2.209985   \n",
       "4  101193725229056  175.755174 -48.727781  44.569524  0.689953  0.528788   \n",
       "\n",
       "   parallax_error       pmra  pmra_error      pmdec  ...    RA_ICRS   DE_ICRS  \\\n",
       "0        0.018947  -0.711280    0.017718  -1.412098  ...  45.136038  0.335043   \n",
       "1        0.225709  14.369971    0.287671   0.083760  ...  44.850926  0.398492   \n",
       "2        0.020692   3.309832    0.022959   1.594356  ...  45.305053  0.736093   \n",
       "3        0.016049  -4.869755    0.015797 -12.678339  ...  44.866246  0.561503   \n",
       "4        0.024241   3.539184    0.027864  -1.599436  ...  44.569524  0.689953   \n",
       "\n",
       "          rgeo     b_rgeo_x    B_rgeo_xa        rpgeo    b_rpgeo_x  \\\n",
       "0   695.683899   683.627625   707.396423   696.278320   688.270874   \n",
       "1   497.943695   440.956787   569.050537   486.625977   437.344543   \n",
       "2  1884.275020  1821.247560  1947.302730  1883.143550  1807.318600   \n",
       "3   452.636078   448.701294   456.615540   452.602692   449.257355   \n",
       "4  1908.478270  1815.024170  2014.483890  1868.603880  1800.940800   \n",
       "\n",
       "    B_rpgeo_xa   Flag  angDist  \n",
       "0   707.143982  10033      0.0  \n",
       "1   566.133972  10033      0.0  \n",
       "2  1944.665770  10033      0.0  \n",
       "3   455.432892  10033      0.0  \n",
       "4  1949.831300  10033      0.0  \n",
       "\n",
       "[5 rows x 36 columns]"
      ]
     },
     "execution_count": 4,
     "metadata": {},
     "output_type": "execute_result"
    }
   ],
   "source": [
    "with fits.open(merged) as hdul:\n",
    "    data = hdul[1].data  \n",
    "    \n",
    "    merged_df = pd.DataFrame({col.name: data[col.name].byteswap().newbyteorder() if data[col.name].dtype.byteorder == '>' else data[col.name]\n",
    "                       for col in hdul[1].columns})\n",
    "\n",
    "merged_df.head()"
   ]
  },
  {
   "cell_type": "code",
   "execution_count": 5,
   "metadata": {},
   "outputs": [],
   "source": [
    "# Add fractional parallax uncertainty (fpu) column\n",
    "merged_df['fpu'] = merged_df['parallax_error'] / merged_df['parallax']\n",
    "\n",
    "# Filter based on fpu < 0.1\n",
    "merged_df = merged_df[merged_df['fpu'] < 0.1]"
   ]
  },
  {
   "cell_type": "code",
   "execution_count": 6,
   "metadata": {},
   "outputs": [],
   "source": [
    "# Filter based on Galactic latitude |b| > 10°\n",
    "merged_df = merged_df[merged_df['b'].abs() > 10]"
   ]
  },
  {
   "cell_type": "code",
   "execution_count": 7,
   "metadata": {},
   "outputs": [],
   "source": [
    "# Add E(B-V) values using the SFD dustmap and filter E(B-V) < 0.5\n",
    "coords = SkyCoord(l=merged_df['l'].values * u.deg, b=merged_df['b'].values * u.deg, frame='galactic')\n",
    "merged_df['E(B-V)'] = sfd(coords)\n",
    "merged_df = merged_df[merged_df['E(B-V)'] < 0.5]"
   ]
  },
  {
   "cell_type": "code",
   "execution_count": 13,
   "metadata": {},
   "outputs": [
    {
     "data": {
      "text/plain": [
       "(3483206, 38)"
      ]
     },
     "execution_count": 13,
     "metadata": {},
     "output_type": "execute_result"
    }
   ],
   "source": [
    "merged_df.shape"
   ]
  },
  {
   "cell_type": "code",
   "execution_count": 10,
   "metadata": {},
   "outputs": [
    {
     "name": "stdout",
     "output_type": "stream",
     "text": [
      "FITS file saved as 'high_quality_sample.fits'\n"
     ]
    }
   ],
   "source": [
    "data_array = np.array(\n",
    "    list(merged_df.itertuples(index=False, name=None)),\n",
    "    dtype=[(col, merged_df[col].dtype.type) for col in merged_df.columns]\n",
    ")\n",
    "\n",
    "hdu = fits.BinTableHDU(data_array)\n",
    "\n",
    "output_fits_filename = 'high_quality_sample.fits'\n",
    "hdu.writeto(output_fits_filename, overwrite=True)\n",
    "\n",
    "print(f\"FITS file saved as '{output_fits_filename}'\")"
   ]
  }
 ],
 "metadata": {
  "kernelspec": {
   "display_name": "mphil",
   "language": "python",
   "name": "python3"
  },
  "language_info": {
   "codemirror_mode": {
    "name": "ipython",
    "version": 3
   },
   "file_extension": ".py",
   "mimetype": "text/x-python",
   "name": "python",
   "nbconvert_exporter": "python",
   "pygments_lexer": "ipython3",
   "version": "3.9.20"
  }
 },
 "nbformat": 4,
 "nbformat_minor": 2
}
